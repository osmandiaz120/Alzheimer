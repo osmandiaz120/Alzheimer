{
 "cells": [
  {
   "cell_type": "code",
   "execution_count": 39,
   "id": "33406805",
   "metadata": {
    "scrolled": true
   },
   "outputs": [
    {
     "data": {
      "text/html": [
       "        <script type=\"text/javascript\">\n",
       "        window.PlotlyConfig = {MathJaxConfig: 'local'};\n",
       "        if (window.MathJax && window.MathJax.Hub && window.MathJax.Hub.Config) {window.MathJax.Hub.Config({SVG: {font: \"STIX-Web\"}});}\n",
       "        if (typeof require !== 'undefined') {\n",
       "        require.undef(\"plotly\");\n",
       "        requirejs.config({\n",
       "            paths: {\n",
       "                'plotly': ['https://cdn.plot.ly/plotly-2.12.1.min']\n",
       "            }\n",
       "        });\n",
       "        require(['plotly'], function(Plotly) {\n",
       "            window._Plotly = Plotly;\n",
       "        });\n",
       "        }\n",
       "        </script>\n",
       "        "
      ]
     },
     "metadata": {},
     "output_type": "display_data"
    },
    {
     "data": {
      "text/html": [
       "        <script type=\"text/javascript\">\n",
       "        window.PlotlyConfig = {MathJaxConfig: 'local'};\n",
       "        if (window.MathJax && window.MathJax.Hub && window.MathJax.Hub.Config) {window.MathJax.Hub.Config({SVG: {font: \"STIX-Web\"}});}\n",
       "        if (typeof require !== 'undefined') {\n",
       "        require.undef(\"plotly\");\n",
       "        requirejs.config({\n",
       "            paths: {\n",
       "                'plotly': ['https://cdn.plot.ly/plotly-2.12.1.min']\n",
       "            }\n",
       "        });\n",
       "        require(['plotly'], function(Plotly) {\n",
       "            window._Plotly = Plotly;\n",
       "        });\n",
       "        }\n",
       "        </script>\n",
       "        "
      ]
     },
     "metadata": {},
     "output_type": "display_data"
    }
   ],
   "source": [
    "import pandas as pd\n",
    "import numpy as np\n",
    "import chart_studio.plotly as py\n",
    "import cufflinks as cf\n",
    "import seaborn as sns\n",
    "import plotly.express as px\n",
    "%matplotlib inline\n",
    "\n",
    "# Make Plotly work in your Jupyter Notebook\n",
    "from plotly.offline import download_plotlyjs, init_notebook_mode, plot, iplot\n",
    "init_notebook_mode(connected=True)\n",
    "# Use Plotly locally\n",
    "cf.go_offline()"
   ]
  },
  {
   "cell_type": "code",
   "execution_count": 2,
   "id": "f6af78dd",
   "metadata": {},
   "outputs": [],
   "source": [
    "import matplotlib.pyplot as plt"
   ]
  },
  {
   "cell_type": "code",
   "execution_count": 3,
   "id": "91ec24da",
   "metadata": {},
   "outputs": [],
   "source": [
    "dfad= pd.read_csv (r\"C:\\Users\\MiCachi\\Documents\\skils-pyt\\ia\\alz\\oasis_longitudinal.csv\")"
   ]
  },
  {
   "cell_type": "code",
   "execution_count": 4,
   "id": "bcdbfd93",
   "metadata": {},
   "outputs": [
    {
     "data": {
      "text/html": [
       "<div>\n",
       "<style scoped>\n",
       "    .dataframe tbody tr th:only-of-type {\n",
       "        vertical-align: middle;\n",
       "    }\n",
       "\n",
       "    .dataframe tbody tr th {\n",
       "        vertical-align: top;\n",
       "    }\n",
       "\n",
       "    .dataframe thead th {\n",
       "        text-align: right;\n",
       "    }\n",
       "</style>\n",
       "<table border=\"1\" class=\"dataframe\">\n",
       "  <thead>\n",
       "    <tr style=\"text-align: right;\">\n",
       "      <th></th>\n",
       "      <th>Subject ID</th>\n",
       "      <th>MRI ID</th>\n",
       "      <th>Group</th>\n",
       "      <th>Visit</th>\n",
       "      <th>MR Delay</th>\n",
       "      <th>M/F</th>\n",
       "      <th>Hand</th>\n",
       "      <th>Age</th>\n",
       "      <th>EDUC</th>\n",
       "      <th>SES</th>\n",
       "      <th>MMSE</th>\n",
       "      <th>CDR</th>\n",
       "      <th>eTIV</th>\n",
       "      <th>nWBV</th>\n",
       "      <th>ASF</th>\n",
       "    </tr>\n",
       "  </thead>\n",
       "  <tbody>\n",
       "    <tr>\n",
       "      <th>0</th>\n",
       "      <td>OAS2_0001</td>\n",
       "      <td>OAS2_0001_MR1</td>\n",
       "      <td>Nondemented</td>\n",
       "      <td>1</td>\n",
       "      <td>0</td>\n",
       "      <td>M</td>\n",
       "      <td>R</td>\n",
       "      <td>87</td>\n",
       "      <td>14</td>\n",
       "      <td>2.0</td>\n",
       "      <td>27.0</td>\n",
       "      <td>0.0</td>\n",
       "      <td>1987</td>\n",
       "      <td>0.696</td>\n",
       "      <td>0.883</td>\n",
       "    </tr>\n",
       "    <tr>\n",
       "      <th>1</th>\n",
       "      <td>OAS2_0001</td>\n",
       "      <td>OAS2_0001_MR2</td>\n",
       "      <td>Nondemented</td>\n",
       "      <td>2</td>\n",
       "      <td>457</td>\n",
       "      <td>M</td>\n",
       "      <td>R</td>\n",
       "      <td>88</td>\n",
       "      <td>14</td>\n",
       "      <td>2.0</td>\n",
       "      <td>30.0</td>\n",
       "      <td>0.0</td>\n",
       "      <td>2004</td>\n",
       "      <td>0.681</td>\n",
       "      <td>0.876</td>\n",
       "    </tr>\n",
       "    <tr>\n",
       "      <th>2</th>\n",
       "      <td>OAS2_0002</td>\n",
       "      <td>OAS2_0002_MR1</td>\n",
       "      <td>Demented</td>\n",
       "      <td>1</td>\n",
       "      <td>0</td>\n",
       "      <td>M</td>\n",
       "      <td>R</td>\n",
       "      <td>75</td>\n",
       "      <td>12</td>\n",
       "      <td>NaN</td>\n",
       "      <td>23.0</td>\n",
       "      <td>0.5</td>\n",
       "      <td>1678</td>\n",
       "      <td>0.736</td>\n",
       "      <td>1.046</td>\n",
       "    </tr>\n",
       "    <tr>\n",
       "      <th>3</th>\n",
       "      <td>OAS2_0002</td>\n",
       "      <td>OAS2_0002_MR2</td>\n",
       "      <td>Demented</td>\n",
       "      <td>2</td>\n",
       "      <td>560</td>\n",
       "      <td>M</td>\n",
       "      <td>R</td>\n",
       "      <td>76</td>\n",
       "      <td>12</td>\n",
       "      <td>NaN</td>\n",
       "      <td>28.0</td>\n",
       "      <td>0.5</td>\n",
       "      <td>1738</td>\n",
       "      <td>0.713</td>\n",
       "      <td>1.010</td>\n",
       "    </tr>\n",
       "    <tr>\n",
       "      <th>4</th>\n",
       "      <td>OAS2_0002</td>\n",
       "      <td>OAS2_0002_MR3</td>\n",
       "      <td>Demented</td>\n",
       "      <td>3</td>\n",
       "      <td>1895</td>\n",
       "      <td>M</td>\n",
       "      <td>R</td>\n",
       "      <td>80</td>\n",
       "      <td>12</td>\n",
       "      <td>NaN</td>\n",
       "      <td>22.0</td>\n",
       "      <td>0.5</td>\n",
       "      <td>1698</td>\n",
       "      <td>0.701</td>\n",
       "      <td>1.034</td>\n",
       "    </tr>\n",
       "  </tbody>\n",
       "</table>\n",
       "</div>"
      ],
      "text/plain": [
       "  Subject ID         MRI ID        Group  Visit  MR Delay M/F Hand  Age  EDUC  \\\n",
       "0  OAS2_0001  OAS2_0001_MR1  Nondemented      1         0   M    R   87    14   \n",
       "1  OAS2_0001  OAS2_0001_MR2  Nondemented      2       457   M    R   88    14   \n",
       "2  OAS2_0002  OAS2_0002_MR1     Demented      1         0   M    R   75    12   \n",
       "3  OAS2_0002  OAS2_0002_MR2     Demented      2       560   M    R   76    12   \n",
       "4  OAS2_0002  OAS2_0002_MR3     Demented      3      1895   M    R   80    12   \n",
       "\n",
       "   SES  MMSE  CDR  eTIV   nWBV    ASF  \n",
       "0  2.0  27.0  0.0  1987  0.696  0.883  \n",
       "1  2.0  30.0  0.0  2004  0.681  0.876  \n",
       "2  NaN  23.0  0.5  1678  0.736  1.046  \n",
       "3  NaN  28.0  0.5  1738  0.713  1.010  \n",
       "4  NaN  22.0  0.5  1698  0.701  1.034  "
      ]
     },
     "execution_count": 4,
     "metadata": {},
     "output_type": "execute_result"
    }
   ],
   "source": [
    "dfad.head()"
   ]
  },
  {
   "cell_type": "code",
   "execution_count": 5,
   "id": "688eb884",
   "metadata": {
    "scrolled": true
   },
   "outputs": [
    {
     "name": "stdout",
     "output_type": "stream",
     "text": [
      "<class 'pandas.core.frame.DataFrame'>\n",
      "RangeIndex: 373 entries, 0 to 372\n",
      "Data columns (total 15 columns):\n",
      " #   Column      Non-Null Count  Dtype  \n",
      "---  ------      --------------  -----  \n",
      " 0   Subject ID  373 non-null    object \n",
      " 1   MRI ID      373 non-null    object \n",
      " 2   Group       373 non-null    object \n",
      " 3   Visit       373 non-null    int64  \n",
      " 4   MR Delay    373 non-null    int64  \n",
      " 5   M/F         373 non-null    object \n",
      " 6   Hand        373 non-null    object \n",
      " 7   Age         373 non-null    int64  \n",
      " 8   EDUC        373 non-null    int64  \n",
      " 9   SES         354 non-null    float64\n",
      " 10  MMSE        371 non-null    float64\n",
      " 11  CDR         373 non-null    float64\n",
      " 12  eTIV        373 non-null    int64  \n",
      " 13  nWBV        373 non-null    float64\n",
      " 14  ASF         373 non-null    float64\n",
      "dtypes: float64(5), int64(5), object(5)\n",
      "memory usage: 43.8+ KB\n"
     ]
    }
   ],
   "source": [
    "dfad.info()"
   ]
  },
  {
   "cell_type": "markdown",
   "id": "216e45dd",
   "metadata": {},
   "source": [
    "Variables\n",
    "Subject.ID : Identificador de pacientes.\n",
    "\n",
    "MRI.ID: Identificador de resonancia magnética de cada paciente.\n",
    "\n",
    "Group (Converted / Demented / Nondemented) : Clasificación de pacientes al inicio del estudio.\n",
    "\n",
    "Visit : Numero de visitas.\n",
    "\n",
    "MR.Delay : No cuenta con descripción.\n",
    "\n",
    "M.F : Genero.\n",
    "\n",
    "Age : Edad del paciente.\n",
    "\n",
    "EDUC : Años de educación.\n",
    "\n",
    "SES : Estado socioeconómico evaluado por el Índice de posición social de Hollingshead y clasificado en categorías de 1 (estado más alto) a 5 (estado más bajo).\n",
    "\n",
    "MMSE : Cuestionario de 30 puntos que se usa ampliamente en entornos clínicos y de investigación para medir el deterioro cognitivo. Cualquier puntaje mayor o igual a 24 puntos (de 30) indica una cognición normal. Debajo de esto, los puntajes pueden indicar un deterioro cognitivo grave (≤9 puntos), moderado (10-18 puntos) o leve (19-23 puntos). Es posible que también deba corregirse el puntaje bruto para el nivel educativo y la edad.\n",
    "\n",
    "CDR : Escala de 5 puntos utilizada para caracterizar seis dominios de rendimiento cognitivo y funcional aplicables a la enfermedad de Alzheimer y las demencias relacionadas: memoria, orientación, juicio y resolución de problemas, asuntos comunitarios, hogar y pasatiempos y cuidado personal. Este puntaje es útil para caracterizar y rastrear el nivel de discapacidad / demencia de un paciente.\n",
    "\n",
    "eTIV : Volumen intracraneal total estimado en mm3.\n",
    "\n",
    "nWBV : Volumen normalizado de todo el cerebro, expresado como un porcentaje de todos los vóxeles en la imagen enmascarada de atlas que el proceso automatizado de segmentación de tejidos etiqueta como materia gris o blanca.\n",
    "\n",
    "ASF : Factor de escala Atlas. Factor de escala calculado que transforma el cerebro y el cráneo del espacio nativo en el objetivo del atlas (es decir, el determinante de la matriz de transformación)."
   ]
  },
  {
   "cell_type": "code",
   "execution_count": 6,
   "id": "f1d1070c",
   "metadata": {
    "scrolled": true
   },
   "outputs": [
    {
     "data": {
      "text/html": [
       "<div>\n",
       "<style scoped>\n",
       "    .dataframe tbody tr th:only-of-type {\n",
       "        vertical-align: middle;\n",
       "    }\n",
       "\n",
       "    .dataframe tbody tr th {\n",
       "        vertical-align: top;\n",
       "    }\n",
       "\n",
       "    .dataframe thead th {\n",
       "        text-align: right;\n",
       "    }\n",
       "</style>\n",
       "<table border=\"1\" class=\"dataframe\">\n",
       "  <thead>\n",
       "    <tr style=\"text-align: right;\">\n",
       "      <th></th>\n",
       "      <th>Visit</th>\n",
       "      <th>MR Delay</th>\n",
       "      <th>Age</th>\n",
       "      <th>EDUC</th>\n",
       "      <th>SES</th>\n",
       "      <th>MMSE</th>\n",
       "      <th>CDR</th>\n",
       "      <th>eTIV</th>\n",
       "      <th>nWBV</th>\n",
       "      <th>ASF</th>\n",
       "    </tr>\n",
       "  </thead>\n",
       "  <tbody>\n",
       "    <tr>\n",
       "      <th>count</th>\n",
       "      <td>373.000000</td>\n",
       "      <td>373.000000</td>\n",
       "      <td>373.000000</td>\n",
       "      <td>373.000000</td>\n",
       "      <td>354.000000</td>\n",
       "      <td>371.000000</td>\n",
       "      <td>373.000000</td>\n",
       "      <td>373.000000</td>\n",
       "      <td>373.000000</td>\n",
       "      <td>373.000000</td>\n",
       "    </tr>\n",
       "    <tr>\n",
       "      <th>mean</th>\n",
       "      <td>1.882038</td>\n",
       "      <td>595.104558</td>\n",
       "      <td>77.013405</td>\n",
       "      <td>14.597855</td>\n",
       "      <td>2.460452</td>\n",
       "      <td>27.342318</td>\n",
       "      <td>0.290885</td>\n",
       "      <td>1488.128686</td>\n",
       "      <td>0.729568</td>\n",
       "      <td>1.195461</td>\n",
       "    </tr>\n",
       "    <tr>\n",
       "      <th>std</th>\n",
       "      <td>0.922843</td>\n",
       "      <td>635.485118</td>\n",
       "      <td>7.640957</td>\n",
       "      <td>2.876339</td>\n",
       "      <td>1.134005</td>\n",
       "      <td>3.683244</td>\n",
       "      <td>0.374557</td>\n",
       "      <td>176.139286</td>\n",
       "      <td>0.037135</td>\n",
       "      <td>0.138092</td>\n",
       "    </tr>\n",
       "    <tr>\n",
       "      <th>min</th>\n",
       "      <td>1.000000</td>\n",
       "      <td>0.000000</td>\n",
       "      <td>60.000000</td>\n",
       "      <td>6.000000</td>\n",
       "      <td>1.000000</td>\n",
       "      <td>4.000000</td>\n",
       "      <td>0.000000</td>\n",
       "      <td>1106.000000</td>\n",
       "      <td>0.644000</td>\n",
       "      <td>0.876000</td>\n",
       "    </tr>\n",
       "    <tr>\n",
       "      <th>25%</th>\n",
       "      <td>1.000000</td>\n",
       "      <td>0.000000</td>\n",
       "      <td>71.000000</td>\n",
       "      <td>12.000000</td>\n",
       "      <td>2.000000</td>\n",
       "      <td>27.000000</td>\n",
       "      <td>0.000000</td>\n",
       "      <td>1357.000000</td>\n",
       "      <td>0.700000</td>\n",
       "      <td>1.099000</td>\n",
       "    </tr>\n",
       "    <tr>\n",
       "      <th>50%</th>\n",
       "      <td>2.000000</td>\n",
       "      <td>552.000000</td>\n",
       "      <td>77.000000</td>\n",
       "      <td>15.000000</td>\n",
       "      <td>2.000000</td>\n",
       "      <td>29.000000</td>\n",
       "      <td>0.000000</td>\n",
       "      <td>1470.000000</td>\n",
       "      <td>0.729000</td>\n",
       "      <td>1.194000</td>\n",
       "    </tr>\n",
       "    <tr>\n",
       "      <th>75%</th>\n",
       "      <td>2.000000</td>\n",
       "      <td>873.000000</td>\n",
       "      <td>82.000000</td>\n",
       "      <td>16.000000</td>\n",
       "      <td>3.000000</td>\n",
       "      <td>30.000000</td>\n",
       "      <td>0.500000</td>\n",
       "      <td>1597.000000</td>\n",
       "      <td>0.756000</td>\n",
       "      <td>1.293000</td>\n",
       "    </tr>\n",
       "    <tr>\n",
       "      <th>max</th>\n",
       "      <td>5.000000</td>\n",
       "      <td>2639.000000</td>\n",
       "      <td>98.000000</td>\n",
       "      <td>23.000000</td>\n",
       "      <td>5.000000</td>\n",
       "      <td>30.000000</td>\n",
       "      <td>2.000000</td>\n",
       "      <td>2004.000000</td>\n",
       "      <td>0.837000</td>\n",
       "      <td>1.587000</td>\n",
       "    </tr>\n",
       "  </tbody>\n",
       "</table>\n",
       "</div>"
      ],
      "text/plain": [
       "            Visit     MR Delay         Age        EDUC         SES  \\\n",
       "count  373.000000   373.000000  373.000000  373.000000  354.000000   \n",
       "mean     1.882038   595.104558   77.013405   14.597855    2.460452   \n",
       "std      0.922843   635.485118    7.640957    2.876339    1.134005   \n",
       "min      1.000000     0.000000   60.000000    6.000000    1.000000   \n",
       "25%      1.000000     0.000000   71.000000   12.000000    2.000000   \n",
       "50%      2.000000   552.000000   77.000000   15.000000    2.000000   \n",
       "75%      2.000000   873.000000   82.000000   16.000000    3.000000   \n",
       "max      5.000000  2639.000000   98.000000   23.000000    5.000000   \n",
       "\n",
       "             MMSE         CDR         eTIV        nWBV         ASF  \n",
       "count  371.000000  373.000000   373.000000  373.000000  373.000000  \n",
       "mean    27.342318    0.290885  1488.128686    0.729568    1.195461  \n",
       "std      3.683244    0.374557   176.139286    0.037135    0.138092  \n",
       "min      4.000000    0.000000  1106.000000    0.644000    0.876000  \n",
       "25%     27.000000    0.000000  1357.000000    0.700000    1.099000  \n",
       "50%     29.000000    0.000000  1470.000000    0.729000    1.194000  \n",
       "75%     30.000000    0.500000  1597.000000    0.756000    1.293000  \n",
       "max     30.000000    2.000000  2004.000000    0.837000    1.587000  "
      ]
     },
     "execution_count": 6,
     "metadata": {},
     "output_type": "execute_result"
    }
   ],
   "source": [
    "dfad. describe()"
   ]
  },
  {
   "cell_type": "code",
   "execution_count": 7,
   "id": "929b91f0",
   "metadata": {},
   "outputs": [
    {
     "data": {
      "text/html": [
       "<div>\n",
       "<style scoped>\n",
       "    .dataframe tbody tr th:only-of-type {\n",
       "        vertical-align: middle;\n",
       "    }\n",
       "\n",
       "    .dataframe tbody tr th {\n",
       "        vertical-align: top;\n",
       "    }\n",
       "\n",
       "    .dataframe thead th {\n",
       "        text-align: right;\n",
       "    }\n",
       "</style>\n",
       "<table border=\"1\" class=\"dataframe\">\n",
       "  <thead>\n",
       "    <tr style=\"text-align: right;\">\n",
       "      <th></th>\n",
       "      <th>Subject ID</th>\n",
       "      <th>MRI ID</th>\n",
       "      <th>Group</th>\n",
       "      <th>Visit</th>\n",
       "      <th>MR Delay</th>\n",
       "      <th>M/F</th>\n",
       "      <th>Hand</th>\n",
       "      <th>Age</th>\n",
       "      <th>EDUC</th>\n",
       "      <th>SES</th>\n",
       "      <th>MMSE</th>\n",
       "      <th>CDR</th>\n",
       "      <th>eTIV</th>\n",
       "      <th>nWBV</th>\n",
       "      <th>ASF</th>\n",
       "    </tr>\n",
       "  </thead>\n",
       "  <tbody>\n",
       "    <tr>\n",
       "      <th>0</th>\n",
       "      <td>False</td>\n",
       "      <td>False</td>\n",
       "      <td>False</td>\n",
       "      <td>False</td>\n",
       "      <td>False</td>\n",
       "      <td>False</td>\n",
       "      <td>False</td>\n",
       "      <td>False</td>\n",
       "      <td>False</td>\n",
       "      <td>False</td>\n",
       "      <td>False</td>\n",
       "      <td>False</td>\n",
       "      <td>False</td>\n",
       "      <td>False</td>\n",
       "      <td>False</td>\n",
       "    </tr>\n",
       "    <tr>\n",
       "      <th>1</th>\n",
       "      <td>False</td>\n",
       "      <td>False</td>\n",
       "      <td>False</td>\n",
       "      <td>False</td>\n",
       "      <td>False</td>\n",
       "      <td>False</td>\n",
       "      <td>False</td>\n",
       "      <td>False</td>\n",
       "      <td>False</td>\n",
       "      <td>False</td>\n",
       "      <td>False</td>\n",
       "      <td>False</td>\n",
       "      <td>False</td>\n",
       "      <td>False</td>\n",
       "      <td>False</td>\n",
       "    </tr>\n",
       "    <tr>\n",
       "      <th>2</th>\n",
       "      <td>False</td>\n",
       "      <td>False</td>\n",
       "      <td>False</td>\n",
       "      <td>False</td>\n",
       "      <td>False</td>\n",
       "      <td>False</td>\n",
       "      <td>False</td>\n",
       "      <td>False</td>\n",
       "      <td>False</td>\n",
       "      <td>True</td>\n",
       "      <td>False</td>\n",
       "      <td>False</td>\n",
       "      <td>False</td>\n",
       "      <td>False</td>\n",
       "      <td>False</td>\n",
       "    </tr>\n",
       "    <tr>\n",
       "      <th>3</th>\n",
       "      <td>False</td>\n",
       "      <td>False</td>\n",
       "      <td>False</td>\n",
       "      <td>False</td>\n",
       "      <td>False</td>\n",
       "      <td>False</td>\n",
       "      <td>False</td>\n",
       "      <td>False</td>\n",
       "      <td>False</td>\n",
       "      <td>True</td>\n",
       "      <td>False</td>\n",
       "      <td>False</td>\n",
       "      <td>False</td>\n",
       "      <td>False</td>\n",
       "      <td>False</td>\n",
       "    </tr>\n",
       "    <tr>\n",
       "      <th>4</th>\n",
       "      <td>False</td>\n",
       "      <td>False</td>\n",
       "      <td>False</td>\n",
       "      <td>False</td>\n",
       "      <td>False</td>\n",
       "      <td>False</td>\n",
       "      <td>False</td>\n",
       "      <td>False</td>\n",
       "      <td>False</td>\n",
       "      <td>True</td>\n",
       "      <td>False</td>\n",
       "      <td>False</td>\n",
       "      <td>False</td>\n",
       "      <td>False</td>\n",
       "      <td>False</td>\n",
       "    </tr>\n",
       "    <tr>\n",
       "      <th>...</th>\n",
       "      <td>...</td>\n",
       "      <td>...</td>\n",
       "      <td>...</td>\n",
       "      <td>...</td>\n",
       "      <td>...</td>\n",
       "      <td>...</td>\n",
       "      <td>...</td>\n",
       "      <td>...</td>\n",
       "      <td>...</td>\n",
       "      <td>...</td>\n",
       "      <td>...</td>\n",
       "      <td>...</td>\n",
       "      <td>...</td>\n",
       "      <td>...</td>\n",
       "      <td>...</td>\n",
       "    </tr>\n",
       "    <tr>\n",
       "      <th>368</th>\n",
       "      <td>False</td>\n",
       "      <td>False</td>\n",
       "      <td>False</td>\n",
       "      <td>False</td>\n",
       "      <td>False</td>\n",
       "      <td>False</td>\n",
       "      <td>False</td>\n",
       "      <td>False</td>\n",
       "      <td>False</td>\n",
       "      <td>False</td>\n",
       "      <td>False</td>\n",
       "      <td>False</td>\n",
       "      <td>False</td>\n",
       "      <td>False</td>\n",
       "      <td>False</td>\n",
       "    </tr>\n",
       "    <tr>\n",
       "      <th>369</th>\n",
       "      <td>False</td>\n",
       "      <td>False</td>\n",
       "      <td>False</td>\n",
       "      <td>False</td>\n",
       "      <td>False</td>\n",
       "      <td>False</td>\n",
       "      <td>False</td>\n",
       "      <td>False</td>\n",
       "      <td>False</td>\n",
       "      <td>False</td>\n",
       "      <td>False</td>\n",
       "      <td>False</td>\n",
       "      <td>False</td>\n",
       "      <td>False</td>\n",
       "      <td>False</td>\n",
       "    </tr>\n",
       "    <tr>\n",
       "      <th>370</th>\n",
       "      <td>False</td>\n",
       "      <td>False</td>\n",
       "      <td>False</td>\n",
       "      <td>False</td>\n",
       "      <td>False</td>\n",
       "      <td>False</td>\n",
       "      <td>False</td>\n",
       "      <td>False</td>\n",
       "      <td>False</td>\n",
       "      <td>False</td>\n",
       "      <td>False</td>\n",
       "      <td>False</td>\n",
       "      <td>False</td>\n",
       "      <td>False</td>\n",
       "      <td>False</td>\n",
       "    </tr>\n",
       "    <tr>\n",
       "      <th>371</th>\n",
       "      <td>False</td>\n",
       "      <td>False</td>\n",
       "      <td>False</td>\n",
       "      <td>False</td>\n",
       "      <td>False</td>\n",
       "      <td>False</td>\n",
       "      <td>False</td>\n",
       "      <td>False</td>\n",
       "      <td>False</td>\n",
       "      <td>False</td>\n",
       "      <td>False</td>\n",
       "      <td>False</td>\n",
       "      <td>False</td>\n",
       "      <td>False</td>\n",
       "      <td>False</td>\n",
       "    </tr>\n",
       "    <tr>\n",
       "      <th>372</th>\n",
       "      <td>False</td>\n",
       "      <td>False</td>\n",
       "      <td>False</td>\n",
       "      <td>False</td>\n",
       "      <td>False</td>\n",
       "      <td>False</td>\n",
       "      <td>False</td>\n",
       "      <td>False</td>\n",
       "      <td>False</td>\n",
       "      <td>False</td>\n",
       "      <td>False</td>\n",
       "      <td>False</td>\n",
       "      <td>False</td>\n",
       "      <td>False</td>\n",
       "      <td>False</td>\n",
       "    </tr>\n",
       "  </tbody>\n",
       "</table>\n",
       "<p>373 rows × 15 columns</p>\n",
       "</div>"
      ],
      "text/plain": [
       "     Subject ID  MRI ID  Group  Visit  MR Delay    M/F   Hand    Age   EDUC  \\\n",
       "0         False   False  False  False     False  False  False  False  False   \n",
       "1         False   False  False  False     False  False  False  False  False   \n",
       "2         False   False  False  False     False  False  False  False  False   \n",
       "3         False   False  False  False     False  False  False  False  False   \n",
       "4         False   False  False  False     False  False  False  False  False   \n",
       "..          ...     ...    ...    ...       ...    ...    ...    ...    ...   \n",
       "368       False   False  False  False     False  False  False  False  False   \n",
       "369       False   False  False  False     False  False  False  False  False   \n",
       "370       False   False  False  False     False  False  False  False  False   \n",
       "371       False   False  False  False     False  False  False  False  False   \n",
       "372       False   False  False  False     False  False  False  False  False   \n",
       "\n",
       "       SES   MMSE    CDR   eTIV   nWBV    ASF  \n",
       "0    False  False  False  False  False  False  \n",
       "1    False  False  False  False  False  False  \n",
       "2     True  False  False  False  False  False  \n",
       "3     True  False  False  False  False  False  \n",
       "4     True  False  False  False  False  False  \n",
       "..     ...    ...    ...    ...    ...    ...  \n",
       "368  False  False  False  False  False  False  \n",
       "369  False  False  False  False  False  False  \n",
       "370  False  False  False  False  False  False  \n",
       "371  False  False  False  False  False  False  \n",
       "372  False  False  False  False  False  False  \n",
       "\n",
       "[373 rows x 15 columns]"
      ]
     },
     "execution_count": 7,
     "metadata": {},
     "output_type": "execute_result"
    }
   ],
   "source": [
    "dfad.isnull()"
   ]
  },
  {
   "cell_type": "code",
   "execution_count": 8,
   "id": "18408472",
   "metadata": {},
   "outputs": [
    {
     "data": {
      "text/plain": [
       "Subject ID     0\n",
       "MRI ID         0\n",
       "Group          0\n",
       "Visit          0\n",
       "MR Delay       0\n",
       "M/F            0\n",
       "Hand           0\n",
       "Age            0\n",
       "EDUC           0\n",
       "SES           19\n",
       "MMSE           2\n",
       "CDR            0\n",
       "eTIV           0\n",
       "nWBV           0\n",
       "ASF            0\n",
       "dtype: int64"
      ]
     },
     "execution_count": 8,
     "metadata": {},
     "output_type": "execute_result"
    }
   ],
   "source": [
    "dfad.isnull(). sum ()"
   ]
  },
  {
   "cell_type": "code",
   "execution_count": 9,
   "id": "33ba5d7b",
   "metadata": {},
   "outputs": [
    {
     "data": {
      "text/plain": [
       "21"
      ]
     },
     "execution_count": 9,
     "metadata": {},
     "output_type": "execute_result"
    }
   ],
   "source": [
    "dfad.isnull(). sum (). sum ()"
   ]
  },
  {
   "cell_type": "code",
   "execution_count": 10,
   "id": "84c93f59",
   "metadata": {},
   "outputs": [
    {
     "data": {
      "text/plain": [
       "{'Siglas': ['EDUC', 'SES', 'MMSE', 'CDR', 'eTIV', 'nWBV', 'ASF'],\n",
       " 'Significado': ['Años de educación',\n",
       "  'Estatus socioeconómico',\n",
       "  'Mini examen de estado mental',\n",
       "  'Calificación clínica de demencia',\n",
       "  'Volumen intracraneal total estimado',\n",
       "  'Volumen total de cerebro normalizado',\n",
       "  'Factor de escala del atlas']}"
      ]
     },
     "execution_count": 10,
     "metadata": {},
     "output_type": "execute_result"
    }
   ],
   "source": [
    "Data_des = {\"Siglas\": [\"EDUC\", \"SES\", \"MMSE\", \"CDR\", \"eTIV\", \"nWBV\", \"ASF\"]\n",
    "                     ,'Significado': [\"Años de educación\", \"Estatus socioeconómico\", \n",
    "                      \"Mini examen de estado mental\", \n",
    "                      \"Calificación clínica de demencia\", \"Volumen intracraneal total estimado\",\n",
    "                      \"Volumen total de cerebro normalizado\", \"Factor de escala del atlas\"]}\n",
    "Data_des"
   ]
  },
  {
   "cell_type": "code",
   "execution_count": 11,
   "id": "78390241",
   "metadata": {},
   "outputs": [
    {
     "name": "stderr",
     "output_type": "stream",
     "text": [
      "C:\\Users\\MiCachi\\AppData\\Local\\Temp\\ipykernel_9424\\171554051.py:2: FutureWarning:\n",
      "\n",
      "this method is deprecated in favour of `Styler.hide(axis='index')`\n",
      "\n"
     ]
    },
    {
     "data": {
      "text/html": [
       "<style type=\"text/css\">\n",
       "</style>\n",
       "<table id=\"T_9f953\">\n",
       "  <thead>\n",
       "    <tr>\n",
       "      <th id=\"T_9f953_level0_col0\" class=\"col_heading level0 col0\" >Siglas</th>\n",
       "      <th id=\"T_9f953_level0_col1\" class=\"col_heading level0 col1\" >Significado</th>\n",
       "    </tr>\n",
       "  </thead>\n",
       "  <tbody>\n",
       "    <tr>\n",
       "      <td id=\"T_9f953_row0_col0\" class=\"data row0 col0\" >EDUC</td>\n",
       "      <td id=\"T_9f953_row0_col1\" class=\"data row0 col1\" >Años de educación</td>\n",
       "    </tr>\n",
       "    <tr>\n",
       "      <td id=\"T_9f953_row1_col0\" class=\"data row1 col0\" >SES</td>\n",
       "      <td id=\"T_9f953_row1_col1\" class=\"data row1 col1\" >Estatus socioeconómico</td>\n",
       "    </tr>\n",
       "    <tr>\n",
       "      <td id=\"T_9f953_row2_col0\" class=\"data row2 col0\" >MMSE</td>\n",
       "      <td id=\"T_9f953_row2_col1\" class=\"data row2 col1\" >Mini examen de estado mental</td>\n",
       "    </tr>\n",
       "    <tr>\n",
       "      <td id=\"T_9f953_row3_col0\" class=\"data row3 col0\" >CDR</td>\n",
       "      <td id=\"T_9f953_row3_col1\" class=\"data row3 col1\" >Calificación clínica de demencia</td>\n",
       "    </tr>\n",
       "    <tr>\n",
       "      <td id=\"T_9f953_row4_col0\" class=\"data row4 col0\" >eTIV</td>\n",
       "      <td id=\"T_9f953_row4_col1\" class=\"data row4 col1\" >Volumen intracraneal total estimado</td>\n",
       "    </tr>\n",
       "    <tr>\n",
       "      <td id=\"T_9f953_row5_col0\" class=\"data row5 col0\" >nWBV</td>\n",
       "      <td id=\"T_9f953_row5_col1\" class=\"data row5 col1\" >Volumen total de cerebro normalizado</td>\n",
       "    </tr>\n",
       "    <tr>\n",
       "      <td id=\"T_9f953_row6_col0\" class=\"data row6 col0\" >ASF</td>\n",
       "      <td id=\"T_9f953_row6_col1\" class=\"data row6 col1\" >Factor de escala del atlas</td>\n",
       "    </tr>\n",
       "  </tbody>\n",
       "</table>\n"
      ],
      "text/plain": [
       "<pandas.io.formats.style.Styler at 0x269e69b1660>"
      ]
     },
     "execution_count": 11,
     "metadata": {},
     "output_type": "execute_result"
    }
   ],
   "source": [
    "descriptores = pd.DataFrame(Data_des)\n",
    "descriptores.style.hide_index()\n"
   ]
  },
  {
   "cell_type": "code",
   "execution_count": 12,
   "id": "852c5c3e",
   "metadata": {},
   "outputs": [],
   "source": [
    "import missingno as msno"
   ]
  },
  {
   "cell_type": "code",
   "execution_count": 13,
   "id": "c3cac7bb",
   "metadata": {},
   "outputs": [
    {
     "data": {
      "image/png": "[encoded data removed]",
      "text/plain": [
       "<Figure size 1800x720 with 2 Axes>"
      ]
     },
     "metadata": {
      "needs_background": "light"
     },
     "output_type": "display_data"
    }
   ],
   "source": [
    "# Graficamos los datos u¿nulos y ubicamos en que coumna estan \n",
    "msno.matrix(dfad);"
   ]
  },
  {
   "cell_type": "code",
   "execution_count": 14,
   "id": "5bbd3517",
   "metadata": {
    "scrolled": true
   },
   "outputs": [
    {
     "data": {
      "image/png": "[encoded data removed]",
      "text/plain": [
       "<Figure size 1800x720 with 3 Axes>"
      ]
     },
     "metadata": {
      "needs_background": "light"
     },
     "output_type": "display_data"
    }
   ],
   "source": [
    "msno.bar(dfad);"
   ]
  },
  {
   "cell_type": "code",
   "execution_count": 15,
   "id": "8a76a661",
   "metadata": {},
   "outputs": [
    {
     "data": {
      "image/png": "[encoded data removed]",
      "text/plain": [
       "<Figure size 1440x720 with 2 Axes>"
      ]
     },
     "metadata": {},
     "output_type": "display_data"
    }
   ],
   "source": [
    "# Revisar los valores nulos con un heatmap\n",
    "sns.set(rc={'figure.figsize':(20,10)}) # Tamaño de la imagen \n",
    "sns.set_style('whitegrid')\n",
    "sns.heatmap(dfad.isnull())\n",
    "plt.title('Null values heat plot',fontdict={'fontsize': 20})\n",
    "plt.legend(dfad.isnull())\n",
    "plt.show()"
   ]
  },
  {
   "cell_type": "code",
   "execution_count": 16,
   "id": "da85062a",
   "metadata": {
    "scrolled": true
   },
   "outputs": [
    {
     "data": {
      "text/plain": [
       "Nondemented    190\n",
       "Demented       146\n",
       "Converted       37\n",
       "Name: Group, dtype: int64"
      ]
     },
     "execution_count": 16,
     "metadata": {},
     "output_type": "execute_result"
    }
   ],
   "source": [
    "dfad.Group.value_counts()"
   ]
  },
  {
   "cell_type": "code",
   "execution_count": 17,
   "id": "f47dcb50",
   "metadata": {
    "scrolled": true
   },
   "outputs": [
    {
     "data": {
      "text/html": [
       "<div>\n",
       "<style scoped>\n",
       "    .dataframe tbody tr th:only-of-type {\n",
       "        vertical-align: middle;\n",
       "    }\n",
       "\n",
       "    .dataframe tbody tr th {\n",
       "        vertical-align: top;\n",
       "    }\n",
       "\n",
       "    .dataframe thead th {\n",
       "        text-align: right;\n",
       "    }\n",
       "</style>\n",
       "<table border=\"1\" class=\"dataframe\">\n",
       "  <thead>\n",
       "    <tr style=\"text-align: right;\">\n",
       "      <th></th>\n",
       "      <th>Subject ID</th>\n",
       "      <th>MRI ID</th>\n",
       "      <th>Group</th>\n",
       "      <th>Visit</th>\n",
       "      <th>MR Delay</th>\n",
       "      <th>M/F</th>\n",
       "      <th>Hand</th>\n",
       "      <th>Age</th>\n",
       "      <th>EDUC</th>\n",
       "      <th>SES</th>\n",
       "      <th>MMSE</th>\n",
       "      <th>CDR</th>\n",
       "      <th>eTIV</th>\n",
       "      <th>nWBV</th>\n",
       "      <th>ASF</th>\n",
       "    </tr>\n",
       "  </thead>\n",
       "  <tbody>\n",
       "    <tr>\n",
       "      <th>0</th>\n",
       "      <td>OAS2_0001</td>\n",
       "      <td>OAS2_0001_MR1</td>\n",
       "      <td>Nondemented</td>\n",
       "      <td>1</td>\n",
       "      <td>0</td>\n",
       "      <td>M</td>\n",
       "      <td>R</td>\n",
       "      <td>87</td>\n",
       "      <td>14</td>\n",
       "      <td>2.0</td>\n",
       "      <td>27.0</td>\n",
       "      <td>0.0</td>\n",
       "      <td>1987</td>\n",
       "      <td>0.696</td>\n",
       "      <td>0.883</td>\n",
       "    </tr>\n",
       "    <tr>\n",
       "      <th>1</th>\n",
       "      <td>OAS2_0001</td>\n",
       "      <td>OAS2_0001_MR2</td>\n",
       "      <td>Nondemented</td>\n",
       "      <td>2</td>\n",
       "      <td>457</td>\n",
       "      <td>M</td>\n",
       "      <td>R</td>\n",
       "      <td>88</td>\n",
       "      <td>14</td>\n",
       "      <td>2.0</td>\n",
       "      <td>30.0</td>\n",
       "      <td>0.0</td>\n",
       "      <td>2004</td>\n",
       "      <td>0.681</td>\n",
       "      <td>0.876</td>\n",
       "    </tr>\n",
       "    <tr>\n",
       "      <th>5</th>\n",
       "      <td>OAS2_0004</td>\n",
       "      <td>OAS2_0004_MR1</td>\n",
       "      <td>Nondemented</td>\n",
       "      <td>1</td>\n",
       "      <td>0</td>\n",
       "      <td>F</td>\n",
       "      <td>R</td>\n",
       "      <td>88</td>\n",
       "      <td>18</td>\n",
       "      <td>3.0</td>\n",
       "      <td>28.0</td>\n",
       "      <td>0.0</td>\n",
       "      <td>1215</td>\n",
       "      <td>0.710</td>\n",
       "      <td>1.444</td>\n",
       "    </tr>\n",
       "    <tr>\n",
       "      <th>6</th>\n",
       "      <td>OAS2_0004</td>\n",
       "      <td>OAS2_0004_MR2</td>\n",
       "      <td>Nondemented</td>\n",
       "      <td>2</td>\n",
       "      <td>538</td>\n",
       "      <td>F</td>\n",
       "      <td>R</td>\n",
       "      <td>90</td>\n",
       "      <td>18</td>\n",
       "      <td>3.0</td>\n",
       "      <td>27.0</td>\n",
       "      <td>0.0</td>\n",
       "      <td>1200</td>\n",
       "      <td>0.718</td>\n",
       "      <td>1.462</td>\n",
       "    </tr>\n",
       "    <tr>\n",
       "      <th>7</th>\n",
       "      <td>OAS2_0005</td>\n",
       "      <td>OAS2_0005_MR1</td>\n",
       "      <td>Nondemented</td>\n",
       "      <td>1</td>\n",
       "      <td>0</td>\n",
       "      <td>M</td>\n",
       "      <td>R</td>\n",
       "      <td>80</td>\n",
       "      <td>12</td>\n",
       "      <td>4.0</td>\n",
       "      <td>28.0</td>\n",
       "      <td>0.0</td>\n",
       "      <td>1689</td>\n",
       "      <td>0.712</td>\n",
       "      <td>1.039</td>\n",
       "    </tr>\n",
       "    <tr>\n",
       "      <th>8</th>\n",
       "      <td>OAS2_0005</td>\n",
       "      <td>OAS2_0005_MR2</td>\n",
       "      <td>Nondemented</td>\n",
       "      <td>2</td>\n",
       "      <td>1010</td>\n",
       "      <td>M</td>\n",
       "      <td>R</td>\n",
       "      <td>83</td>\n",
       "      <td>12</td>\n",
       "      <td>4.0</td>\n",
       "      <td>29.0</td>\n",
       "      <td>0.5</td>\n",
       "      <td>1701</td>\n",
       "      <td>0.711</td>\n",
       "      <td>1.032</td>\n",
       "    </tr>\n",
       "    <tr>\n",
       "      <th>9</th>\n",
       "      <td>OAS2_0005</td>\n",
       "      <td>OAS2_0005_MR3</td>\n",
       "      <td>Nondemented</td>\n",
       "      <td>3</td>\n",
       "      <td>1603</td>\n",
       "      <td>M</td>\n",
       "      <td>R</td>\n",
       "      <td>85</td>\n",
       "      <td>12</td>\n",
       "      <td>4.0</td>\n",
       "      <td>30.0</td>\n",
       "      <td>0.0</td>\n",
       "      <td>1699</td>\n",
       "      <td>0.705</td>\n",
       "      <td>1.033</td>\n",
       "    </tr>\n",
       "    <tr>\n",
       "      <th>13</th>\n",
       "      <td>OAS2_0008</td>\n",
       "      <td>OAS2_0008_MR1</td>\n",
       "      <td>Nondemented</td>\n",
       "      <td>1</td>\n",
       "      <td>0</td>\n",
       "      <td>F</td>\n",
       "      <td>R</td>\n",
       "      <td>93</td>\n",
       "      <td>14</td>\n",
       "      <td>2.0</td>\n",
       "      <td>30.0</td>\n",
       "      <td>0.0</td>\n",
       "      <td>1272</td>\n",
       "      <td>0.698</td>\n",
       "      <td>1.380</td>\n",
       "    </tr>\n",
       "    <tr>\n",
       "      <th>14</th>\n",
       "      <td>OAS2_0008</td>\n",
       "      <td>OAS2_0008_MR2</td>\n",
       "      <td>Nondemented</td>\n",
       "      <td>2</td>\n",
       "      <td>742</td>\n",
       "      <td>F</td>\n",
       "      <td>R</td>\n",
       "      <td>95</td>\n",
       "      <td>14</td>\n",
       "      <td>2.0</td>\n",
       "      <td>29.0</td>\n",
       "      <td>0.0</td>\n",
       "      <td>1257</td>\n",
       "      <td>0.703</td>\n",
       "      <td>1.396</td>\n",
       "    </tr>\n",
       "    <tr>\n",
       "      <th>15</th>\n",
       "      <td>OAS2_0009</td>\n",
       "      <td>OAS2_0009_MR1</td>\n",
       "      <td>Demented</td>\n",
       "      <td>1</td>\n",
       "      <td>0</td>\n",
       "      <td>M</td>\n",
       "      <td>R</td>\n",
       "      <td>68</td>\n",
       "      <td>12</td>\n",
       "      <td>2.0</td>\n",
       "      <td>27.0</td>\n",
       "      <td>0.5</td>\n",
       "      <td>1457</td>\n",
       "      <td>0.806</td>\n",
       "      <td>1.205</td>\n",
       "    </tr>\n",
       "    <tr>\n",
       "      <th>16</th>\n",
       "      <td>OAS2_0009</td>\n",
       "      <td>OAS2_0009_MR2</td>\n",
       "      <td>Demented</td>\n",
       "      <td>2</td>\n",
       "      <td>576</td>\n",
       "      <td>M</td>\n",
       "      <td>R</td>\n",
       "      <td>69</td>\n",
       "      <td>12</td>\n",
       "      <td>2.0</td>\n",
       "      <td>24.0</td>\n",
       "      <td>0.5</td>\n",
       "      <td>1480</td>\n",
       "      <td>0.791</td>\n",
       "      <td>1.186</td>\n",
       "    </tr>\n",
       "    <tr>\n",
       "      <th>17</th>\n",
       "      <td>OAS2_0010</td>\n",
       "      <td>OAS2_0010_MR1</td>\n",
       "      <td>Demented</td>\n",
       "      <td>1</td>\n",
       "      <td>0</td>\n",
       "      <td>F</td>\n",
       "      <td>R</td>\n",
       "      <td>66</td>\n",
       "      <td>12</td>\n",
       "      <td>3.0</td>\n",
       "      <td>30.0</td>\n",
       "      <td>0.5</td>\n",
       "      <td>1447</td>\n",
       "      <td>0.769</td>\n",
       "      <td>1.213</td>\n",
       "    </tr>\n",
       "    <tr>\n",
       "      <th>18</th>\n",
       "      <td>OAS2_0010</td>\n",
       "      <td>OAS2_0010_MR2</td>\n",
       "      <td>Demented</td>\n",
       "      <td>2</td>\n",
       "      <td>854</td>\n",
       "      <td>F</td>\n",
       "      <td>R</td>\n",
       "      <td>68</td>\n",
       "      <td>12</td>\n",
       "      <td>3.0</td>\n",
       "      <td>29.0</td>\n",
       "      <td>0.5</td>\n",
       "      <td>1482</td>\n",
       "      <td>0.752</td>\n",
       "      <td>1.184</td>\n",
       "    </tr>\n",
       "    <tr>\n",
       "      <th>19</th>\n",
       "      <td>OAS2_0012</td>\n",
       "      <td>OAS2_0012_MR1</td>\n",
       "      <td>Nondemented</td>\n",
       "      <td>1</td>\n",
       "      <td>0</td>\n",
       "      <td>F</td>\n",
       "      <td>R</td>\n",
       "      <td>78</td>\n",
       "      <td>16</td>\n",
       "      <td>2.0</td>\n",
       "      <td>29.0</td>\n",
       "      <td>0.0</td>\n",
       "      <td>1333</td>\n",
       "      <td>0.748</td>\n",
       "      <td>1.316</td>\n",
       "    </tr>\n",
       "    <tr>\n",
       "      <th>20</th>\n",
       "      <td>OAS2_0012</td>\n",
       "      <td>OAS2_0012_MR2</td>\n",
       "      <td>Nondemented</td>\n",
       "      <td>2</td>\n",
       "      <td>730</td>\n",
       "      <td>F</td>\n",
       "      <td>R</td>\n",
       "      <td>80</td>\n",
       "      <td>16</td>\n",
       "      <td>2.0</td>\n",
       "      <td>29.0</td>\n",
       "      <td>0.0</td>\n",
       "      <td>1323</td>\n",
       "      <td>0.738</td>\n",
       "      <td>1.326</td>\n",
       "    </tr>\n",
       "    <tr>\n",
       "      <th>21</th>\n",
       "      <td>OAS2_0012</td>\n",
       "      <td>OAS2_0012_MR3</td>\n",
       "      <td>Nondemented</td>\n",
       "      <td>3</td>\n",
       "      <td>1598</td>\n",
       "      <td>F</td>\n",
       "      <td>R</td>\n",
       "      <td>83</td>\n",
       "      <td>16</td>\n",
       "      <td>2.0</td>\n",
       "      <td>29.0</td>\n",
       "      <td>0.0</td>\n",
       "      <td>1323</td>\n",
       "      <td>0.718</td>\n",
       "      <td>1.327</td>\n",
       "    </tr>\n",
       "    <tr>\n",
       "      <th>22</th>\n",
       "      <td>OAS2_0013</td>\n",
       "      <td>OAS2_0013_MR1</td>\n",
       "      <td>Nondemented</td>\n",
       "      <td>1</td>\n",
       "      <td>0</td>\n",
       "      <td>F</td>\n",
       "      <td>R</td>\n",
       "      <td>81</td>\n",
       "      <td>12</td>\n",
       "      <td>4.0</td>\n",
       "      <td>30.0</td>\n",
       "      <td>0.0</td>\n",
       "      <td>1230</td>\n",
       "      <td>0.715</td>\n",
       "      <td>1.427</td>\n",
       "    </tr>\n",
       "    <tr>\n",
       "      <th>23</th>\n",
       "      <td>OAS2_0013</td>\n",
       "      <td>OAS2_0013_MR2</td>\n",
       "      <td>Nondemented</td>\n",
       "      <td>2</td>\n",
       "      <td>643</td>\n",
       "      <td>F</td>\n",
       "      <td>R</td>\n",
       "      <td>82</td>\n",
       "      <td>12</td>\n",
       "      <td>4.0</td>\n",
       "      <td>30.0</td>\n",
       "      <td>0.0</td>\n",
       "      <td>1212</td>\n",
       "      <td>0.720</td>\n",
       "      <td>1.448</td>\n",
       "    </tr>\n",
       "    <tr>\n",
       "      <th>24</th>\n",
       "      <td>OAS2_0013</td>\n",
       "      <td>OAS2_0013_MR3</td>\n",
       "      <td>Nondemented</td>\n",
       "      <td>3</td>\n",
       "      <td>1456</td>\n",
       "      <td>F</td>\n",
       "      <td>R</td>\n",
       "      <td>85</td>\n",
       "      <td>12</td>\n",
       "      <td>4.0</td>\n",
       "      <td>29.0</td>\n",
       "      <td>0.0</td>\n",
       "      <td>1225</td>\n",
       "      <td>0.710</td>\n",
       "      <td>1.433</td>\n",
       "    </tr>\n",
       "    <tr>\n",
       "      <th>25</th>\n",
       "      <td>OAS2_0014</td>\n",
       "      <td>OAS2_0014_MR1</td>\n",
       "      <td>Demented</td>\n",
       "      <td>1</td>\n",
       "      <td>0</td>\n",
       "      <td>M</td>\n",
       "      <td>R</td>\n",
       "      <td>76</td>\n",
       "      <td>16</td>\n",
       "      <td>3.0</td>\n",
       "      <td>21.0</td>\n",
       "      <td>0.5</td>\n",
       "      <td>1602</td>\n",
       "      <td>0.697</td>\n",
       "      <td>1.096</td>\n",
       "    </tr>\n",
       "    <tr>\n",
       "      <th>26</th>\n",
       "      <td>OAS2_0014</td>\n",
       "      <td>OAS2_0014_MR2</td>\n",
       "      <td>Demented</td>\n",
       "      <td>2</td>\n",
       "      <td>504</td>\n",
       "      <td>M</td>\n",
       "      <td>R</td>\n",
       "      <td>77</td>\n",
       "      <td>16</td>\n",
       "      <td>3.0</td>\n",
       "      <td>16.0</td>\n",
       "      <td>1.0</td>\n",
       "      <td>1590</td>\n",
       "      <td>0.696</td>\n",
       "      <td>1.104</td>\n",
       "    </tr>\n",
       "    <tr>\n",
       "      <th>27</th>\n",
       "      <td>OAS2_0016</td>\n",
       "      <td>OAS2_0016_MR1</td>\n",
       "      <td>Demented</td>\n",
       "      <td>1</td>\n",
       "      <td>0</td>\n",
       "      <td>M</td>\n",
       "      <td>R</td>\n",
       "      <td>88</td>\n",
       "      <td>8</td>\n",
       "      <td>4.0</td>\n",
       "      <td>25.0</td>\n",
       "      <td>0.5</td>\n",
       "      <td>1651</td>\n",
       "      <td>0.660</td>\n",
       "      <td>1.063</td>\n",
       "    </tr>\n",
       "    <tr>\n",
       "      <th>28</th>\n",
       "      <td>OAS2_0016</td>\n",
       "      <td>OAS2_0016_MR2</td>\n",
       "      <td>Demented</td>\n",
       "      <td>2</td>\n",
       "      <td>707</td>\n",
       "      <td>M</td>\n",
       "      <td>R</td>\n",
       "      <td>90</td>\n",
       "      <td>8</td>\n",
       "      <td>4.0</td>\n",
       "      <td>23.0</td>\n",
       "      <td>0.5</td>\n",
       "      <td>1668</td>\n",
       "      <td>0.646</td>\n",
       "      <td>1.052</td>\n",
       "    </tr>\n",
       "    <tr>\n",
       "      <th>29</th>\n",
       "      <td>OAS2_0017</td>\n",
       "      <td>OAS2_0017_MR1</td>\n",
       "      <td>Nondemented</td>\n",
       "      <td>1</td>\n",
       "      <td>0</td>\n",
       "      <td>M</td>\n",
       "      <td>R</td>\n",
       "      <td>80</td>\n",
       "      <td>12</td>\n",
       "      <td>3.0</td>\n",
       "      <td>29.0</td>\n",
       "      <td>0.0</td>\n",
       "      <td>1783</td>\n",
       "      <td>0.752</td>\n",
       "      <td>0.985</td>\n",
       "    </tr>\n",
       "    <tr>\n",
       "      <th>30</th>\n",
       "      <td>OAS2_0017</td>\n",
       "      <td>OAS2_0017_MR3</td>\n",
       "      <td>Nondemented</td>\n",
       "      <td>3</td>\n",
       "      <td>617</td>\n",
       "      <td>M</td>\n",
       "      <td>R</td>\n",
       "      <td>81</td>\n",
       "      <td>12</td>\n",
       "      <td>3.0</td>\n",
       "      <td>27.0</td>\n",
       "      <td>0.5</td>\n",
       "      <td>1814</td>\n",
       "      <td>0.759</td>\n",
       "      <td>0.968</td>\n",
       "    </tr>\n",
       "    <tr>\n",
       "      <th>31</th>\n",
       "      <td>OAS2_0017</td>\n",
       "      <td>OAS2_0017_MR4</td>\n",
       "      <td>Nondemented</td>\n",
       "      <td>4</td>\n",
       "      <td>1861</td>\n",
       "      <td>M</td>\n",
       "      <td>R</td>\n",
       "      <td>85</td>\n",
       "      <td>12</td>\n",
       "      <td>3.0</td>\n",
       "      <td>30.0</td>\n",
       "      <td>0.0</td>\n",
       "      <td>1820</td>\n",
       "      <td>0.755</td>\n",
       "      <td>0.964</td>\n",
       "    </tr>\n",
       "    <tr>\n",
       "      <th>32</th>\n",
       "      <td>OAS2_0017</td>\n",
       "      <td>OAS2_0017_MR5</td>\n",
       "      <td>Nondemented</td>\n",
       "      <td>5</td>\n",
       "      <td>2400</td>\n",
       "      <td>M</td>\n",
       "      <td>R</td>\n",
       "      <td>86</td>\n",
       "      <td>12</td>\n",
       "      <td>3.0</td>\n",
       "      <td>27.0</td>\n",
       "      <td>0.0</td>\n",
       "      <td>1813</td>\n",
       "      <td>0.761</td>\n",
       "      <td>0.968</td>\n",
       "    </tr>\n",
       "    <tr>\n",
       "      <th>33</th>\n",
       "      <td>OAS2_0018</td>\n",
       "      <td>OAS2_0018_MR1</td>\n",
       "      <td>Converted</td>\n",
       "      <td>1</td>\n",
       "      <td>0</td>\n",
       "      <td>F</td>\n",
       "      <td>R</td>\n",
       "      <td>87</td>\n",
       "      <td>14</td>\n",
       "      <td>1.0</td>\n",
       "      <td>30.0</td>\n",
       "      <td>0.0</td>\n",
       "      <td>1406</td>\n",
       "      <td>0.715</td>\n",
       "      <td>1.248</td>\n",
       "    </tr>\n",
       "    <tr>\n",
       "      <th>34</th>\n",
       "      <td>OAS2_0018</td>\n",
       "      <td>OAS2_0018_MR3</td>\n",
       "      <td>Converted</td>\n",
       "      <td>3</td>\n",
       "      <td>489</td>\n",
       "      <td>F</td>\n",
       "      <td>R</td>\n",
       "      <td>88</td>\n",
       "      <td>14</td>\n",
       "      <td>1.0</td>\n",
       "      <td>29.0</td>\n",
       "      <td>0.0</td>\n",
       "      <td>1398</td>\n",
       "      <td>0.713</td>\n",
       "      <td>1.255</td>\n",
       "    </tr>\n",
       "    <tr>\n",
       "      <th>35</th>\n",
       "      <td>OAS2_0018</td>\n",
       "      <td>OAS2_0018_MR4</td>\n",
       "      <td>Converted</td>\n",
       "      <td>4</td>\n",
       "      <td>1933</td>\n",
       "      <td>F</td>\n",
       "      <td>R</td>\n",
       "      <td>92</td>\n",
       "      <td>14</td>\n",
       "      <td>1.0</td>\n",
       "      <td>27.0</td>\n",
       "      <td>0.5</td>\n",
       "      <td>1423</td>\n",
       "      <td>0.696</td>\n",
       "      <td>1.234</td>\n",
       "    </tr>\n",
       "  </tbody>\n",
       "</table>\n",
       "</div>"
      ],
      "text/plain": [
       "   Subject ID         MRI ID        Group  Visit  MR Delay M/F Hand  Age  \\\n",
       "0   OAS2_0001  OAS2_0001_MR1  Nondemented      1         0   M    R   87   \n",
       "1   OAS2_0001  OAS2_0001_MR2  Nondemented      2       457   M    R   88   \n",
       "5   OAS2_0004  OAS2_0004_MR1  Nondemented      1         0   F    R   88   \n",
       "6   OAS2_0004  OAS2_0004_MR2  Nondemented      2       538   F    R   90   \n",
       "7   OAS2_0005  OAS2_0005_MR1  Nondemented      1         0   M    R   80   \n",
       "8   OAS2_0005  OAS2_0005_MR2  Nondemented      2      1010   M    R   83   \n",
       "9   OAS2_0005  OAS2_0005_MR3  Nondemented      3      1603   M    R   85   \n",
       "13  OAS2_0008  OAS2_0008_MR1  Nondemented      1         0   F    R   93   \n",
       "14  OAS2_0008  OAS2_0008_MR2  Nondemented      2       742   F    R   95   \n",
       "15  OAS2_0009  OAS2_0009_MR1     Demented      1         0   M    R   68   \n",
       "16  OAS2_0009  OAS2_0009_MR2     Demented      2       576   M    R   69   \n",
       "17  OAS2_0010  OAS2_0010_MR1     Demented      1         0   F    R   66   \n",
       "18  OAS2_0010  OAS2_0010_MR2     Demented      2       854   F    R   68   \n",
       "19  OAS2_0012  OAS2_0012_MR1  Nondemented      1         0   F    R   78   \n",
       "20  OAS2_0012  OAS2_0012_MR2  Nondemented      2       730   F    R   80   \n",
       "21  OAS2_0012  OAS2_0012_MR3  Nondemented      3      1598   F    R   83   \n",
       "22  OAS2_0013  OAS2_0013_MR1  Nondemented      1         0   F    R   81   \n",
       "23  OAS2_0013  OAS2_0013_MR2  Nondemented      2       643   F    R   82   \n",
       "24  OAS2_0013  OAS2_0013_MR3  Nondemented      3      1456   F    R   85   \n",
       "25  OAS2_0014  OAS2_0014_MR1     Demented      1         0   M    R   76   \n",
       "26  OAS2_0014  OAS2_0014_MR2     Demented      2       504   M    R   77   \n",
       "27  OAS2_0016  OAS2_0016_MR1     Demented      1         0   M    R   88   \n",
       "28  OAS2_0016  OAS2_0016_MR2     Demented      2       707   M    R   90   \n",
       "29  OAS2_0017  OAS2_0017_MR1  Nondemented      1         0   M    R   80   \n",
       "30  OAS2_0017  OAS2_0017_MR3  Nondemented      3       617   M    R   81   \n",
       "31  OAS2_0017  OAS2_0017_MR4  Nondemented      4      1861   M    R   85   \n",
       "32  OAS2_0017  OAS2_0017_MR5  Nondemented      5      2400   M    R   86   \n",
       "33  OAS2_0018  OAS2_0018_MR1    Converted      1         0   F    R   87   \n",
       "34  OAS2_0018  OAS2_0018_MR3    Converted      3       489   F    R   88   \n",
       "35  OAS2_0018  OAS2_0018_MR4    Converted      4      1933   F    R   92   \n",
       "\n",
       "    EDUC  SES  MMSE  CDR  eTIV   nWBV    ASF  \n",
       "0     14  2.0  27.0  0.0  1987  0.696  0.883  \n",
       "1     14  2.0  30.0  0.0  2004  0.681  0.876  \n",
       "5     18  3.0  28.0  0.0  1215  0.710  1.444  \n",
       "6     18  3.0  27.0  0.0  1200  0.718  1.462  \n",
       "7     12  4.0  28.0  0.0  1689  0.712  1.039  \n",
       "8     12  4.0  29.0  0.5  1701  0.711  1.032  \n",
       "9     12  4.0  30.0  0.0  1699  0.705  1.033  \n",
       "13    14  2.0  30.0  0.0  1272  0.698  1.380  \n",
       "14    14  2.0  29.0  0.0  1257  0.703  1.396  \n",
       "15    12  2.0  27.0  0.5  1457  0.806  1.205  \n",
       "16    12  2.0  24.0  0.5  1480  0.791  1.186  \n",
       "17    12  3.0  30.0  0.5  1447  0.769  1.213  \n",
       "18    12  3.0  29.0  0.5  1482  0.752  1.184  \n",
       "19    16  2.0  29.0  0.0  1333  0.748  1.316  \n",
       "20    16  2.0  29.0  0.0  1323  0.738  1.326  \n",
       "21    16  2.0  29.0  0.0  1323  0.718  1.327  \n",
       "22    12  4.0  30.0  0.0  1230  0.715  1.427  \n",
       "23    12  4.0  30.0  0.0  1212  0.720  1.448  \n",
       "24    12  4.0  29.0  0.0  1225  0.710  1.433  \n",
       "25    16  3.0  21.0  0.5  1602  0.697  1.096  \n",
       "26    16  3.0  16.0  1.0  1590  0.696  1.104  \n",
       "27     8  4.0  25.0  0.5  1651  0.660  1.063  \n",
       "28     8  4.0  23.0  0.5  1668  0.646  1.052  \n",
       "29    12  3.0  29.0  0.0  1783  0.752  0.985  \n",
       "30    12  3.0  27.0  0.5  1814  0.759  0.968  \n",
       "31    12  3.0  30.0  0.0  1820  0.755  0.964  \n",
       "32    12  3.0  27.0  0.0  1813  0.761  0.968  \n",
       "33    14  1.0  30.0  0.0  1406  0.715  1.248  \n",
       "34    14  1.0  29.0  0.0  1398  0.713  1.255  \n",
       "35    14  1.0  27.0  0.5  1423  0.696  1.234  "
      ]
     },
     "execution_count": 17,
     "metadata": {},
     "output_type": "execute_result"
    }
   ],
   "source": [
    "# Eliminamos datos nulos \n",
    "dfad.dropna(subset=[\"SES\",\"MMSE\"], inplace=True)\n",
    "dfad.head(30)"
   ]
  },
  {
   "cell_type": "code",
   "execution_count": 18,
   "id": "d4ca5598",
   "metadata": {
    "scrolled": false
   },
   "outputs": [
    {
     "data": {
      "text/plain": [
       "Subject ID    0\n",
       "MRI ID        0\n",
       "Group         0\n",
       "Visit         0\n",
       "MR Delay      0\n",
       "M/F           0\n",
       "Hand          0\n",
       "Age           0\n",
       "EDUC          0\n",
       "SES           0\n",
       "MMSE          0\n",
       "CDR           0\n",
       "eTIV          0\n",
       "nWBV          0\n",
       "ASF           0\n",
       "dtype: int64"
      ]
     },
     "execution_count": 18,
     "metadata": {},
     "output_type": "execute_result"
    }
   ],
   "source": [
    "dfad.isnull(). sum ()"
   ]
  },
  {
   "cell_type": "code",
   "execution_count": 19,
   "id": "3f1aba31",
   "metadata": {
    "scrolled": true
   },
   "outputs": [
    {
     "data": {
      "text/plain": [
       "(    Subject ID         MRI ID     Group  Visit  MR Delay M/F Hand  Age  EDUC  \\\n",
       " 15   OAS2_0009  OAS2_0009_MR1  Demented      1         0   M    R   68    12   \n",
       " 16   OAS2_0009  OAS2_0009_MR2  Demented      2       576   M    R   69    12   \n",
       " 17   OAS2_0010  OAS2_0010_MR1  Demented      1         0   F    R   66    12   \n",
       " 18   OAS2_0010  OAS2_0010_MR2  Demented      2       854   F    R   68    12   \n",
       " 25   OAS2_0014  OAS2_0014_MR1  Demented      1         0   M    R   76    16   \n",
       " ..         ...            ...       ...    ...       ...  ..  ...  ...   ...   \n",
       " 365  OAS2_0184  OAS2_0184_MR1  Demented      1         0   F    R   72    16   \n",
       " 366  OAS2_0184  OAS2_0184_MR2  Demented      2       553   F    R   73    16   \n",
       " 367  OAS2_0185  OAS2_0185_MR1  Demented      1         0   M    R   80    16   \n",
       " 368  OAS2_0185  OAS2_0185_MR2  Demented      2       842   M    R   82    16   \n",
       " 369  OAS2_0185  OAS2_0185_MR3  Demented      3      2297   M    R   86    16   \n",
       " \n",
       "      SES  MMSE  CDR  eTIV   nWBV    ASF  \n",
       " 15   2.0  27.0  0.5  1457  0.806  1.205  \n",
       " 16   2.0  24.0  0.5  1480  0.791  1.186  \n",
       " 17   3.0  30.0  0.5  1447  0.769  1.213  \n",
       " 18   3.0  29.0  0.5  1482  0.752  1.184  \n",
       " 25   3.0  21.0  0.5  1602  0.697  1.096  \n",
       " ..   ...   ...  ...   ...    ...    ...  \n",
       " 365  3.0  24.0  0.5  1354  0.733  1.296  \n",
       " 366  3.0  21.0  1.0  1351  0.708  1.299  \n",
       " 367  1.0  28.0  0.5  1704  0.711  1.030  \n",
       " 368  1.0  28.0  0.5  1693  0.694  1.037  \n",
       " 369  1.0  26.0  0.5  1688  0.675  1.040  \n",
       " \n",
       " [127 rows x 15 columns],\n",
       "     Subject ID         MRI ID        Group  Visit  MR Delay M/F Hand  Age  \\\n",
       " 0    OAS2_0001  OAS2_0001_MR1  Nondemented      1         0   M    R   87   \n",
       " 1    OAS2_0001  OAS2_0001_MR2  Nondemented      2       457   M    R   88   \n",
       " 5    OAS2_0004  OAS2_0004_MR1  Nondemented      1         0   F    R   88   \n",
       " 6    OAS2_0004  OAS2_0004_MR2  Nondemented      2       538   F    R   90   \n",
       " 7    OAS2_0005  OAS2_0005_MR1  Nondemented      1         0   M    R   80   \n",
       " ..         ...            ...          ...    ...       ...  ..  ...  ...   \n",
       " 363  OAS2_0183  OAS2_0183_MR3  Nondemented      3       732   F    R   68   \n",
       " 364  OAS2_0183  OAS2_0183_MR4  Nondemented      4      2107   F    R   72   \n",
       " 370  OAS2_0186  OAS2_0186_MR1  Nondemented      1         0   F    R   61   \n",
       " 371  OAS2_0186  OAS2_0186_MR2  Nondemented      2       763   F    R   63   \n",
       " 372  OAS2_0186  OAS2_0186_MR3  Nondemented      3      1608   F    R   65   \n",
       " \n",
       "      EDUC  SES  MMSE  CDR  eTIV   nWBV    ASF  \n",
       " 0      14  2.0  27.0  0.0  1987  0.696  0.883  \n",
       " 1      14  2.0  30.0  0.0  2004  0.681  0.876  \n",
       " 5      18  3.0  28.0  0.0  1215  0.710  1.444  \n",
       " 6      18  3.0  27.0  0.0  1200  0.718  1.462  \n",
       " 7      12  4.0  28.0  0.0  1689  0.712  1.039  \n",
       " ..    ...  ...   ...  ...   ...    ...    ...  \n",
       " 363    13  2.0  30.0  0.0  1506  0.740  1.165  \n",
       " 364    13  2.0  30.0  0.0  1510  0.723  1.162  \n",
       " 370    13  2.0  30.0  0.0  1319  0.801  1.331  \n",
       " 371    13  2.0  30.0  0.0  1327  0.796  1.323  \n",
       " 372    13  2.0  30.0  0.0  1333  0.801  1.317  \n",
       " \n",
       " [190 rows x 15 columns],\n",
       "     Subject ID         MRI ID      Group  Visit  MR Delay M/F Hand  Age  EDUC  \\\n",
       " 33   OAS2_0018  OAS2_0018_MR1  Converted      1         0   F    R   87    14   \n",
       " 34   OAS2_0018  OAS2_0018_MR3  Converted      3       489   F    R   88    14   \n",
       " 35   OAS2_0018  OAS2_0018_MR4  Converted      4      1933   F    R   92    14   \n",
       " 36   OAS2_0020  OAS2_0020_MR1  Converted      1         0   M    R   80    20   \n",
       " 37   OAS2_0020  OAS2_0020_MR2  Converted      2       756   M    R   82    20   \n",
       " 38   OAS2_0020  OAS2_0020_MR3  Converted      3      1563   M    R   84    20   \n",
       " 57   OAS2_0031  OAS2_0031_MR1  Converted      1         0   F    R   86    12   \n",
       " 58   OAS2_0031  OAS2_0031_MR2  Converted      2       446   F    R   88    12   \n",
       " 59   OAS2_0031  OAS2_0031_MR3  Converted      3      1588   F    R   91    12   \n",
       " 81   OAS2_0041  OAS2_0041_MR1  Converted      1         0   F    R   71    16   \n",
       " 82   OAS2_0041  OAS2_0041_MR2  Converted      2       756   F    R   73    16   \n",
       " 83   OAS2_0041  OAS2_0041_MR3  Converted      3      1331   F    R   75    16   \n",
       " 114  OAS2_0054  OAS2_0054_MR1  Converted      1         0   F    R   85    18   \n",
       " 115  OAS2_0054  OAS2_0054_MR2  Converted      2       846   F    R   87    18   \n",
       " 194  OAS2_0092  OAS2_0092_MR1  Converted      1         0   F    R   83    12   \n",
       " 195  OAS2_0092  OAS2_0092_MR2  Converted      2       706   F    R   84    12   \n",
       " 218  OAS2_0103  OAS2_0103_MR1  Converted      1         0   F    R   69    16   \n",
       " 219  OAS2_0103  OAS2_0103_MR2  Converted      2      1554   F    R   74    16   \n",
       " 220  OAS2_0103  OAS2_0103_MR3  Converted      3      2002   F    R   75    16   \n",
       " 245  OAS2_0118  OAS2_0118_MR1  Converted      1         0   F    R   67    14   \n",
       " 246  OAS2_0118  OAS2_0118_MR2  Converted      2      1422   F    R   71    14   \n",
       " 261  OAS2_0127  OAS2_0127_MR1  Converted      1         0   M    R   79    18   \n",
       " 262  OAS2_0127  OAS2_0127_MR2  Converted      2       851   M    R   81    18   \n",
       " 263  OAS2_0127  OAS2_0127_MR3  Converted      3      1042   M    R   81    18   \n",
       " 264  OAS2_0127  OAS2_0127_MR4  Converted      4      2153   M    R   84    18   \n",
       " 265  OAS2_0127  OAS2_0127_MR5  Converted      5      2639   M    R   86    18   \n",
       " 271  OAS2_0131  OAS2_0131_MR1  Converted      1         0   F    R   65    12   \n",
       " 272  OAS2_0131  OAS2_0131_MR2  Converted      2       679   F    R   67    12   \n",
       " 273  OAS2_0133  OAS2_0133_MR1  Converted      1         0   F    R   78    12   \n",
       " 274  OAS2_0133  OAS2_0133_MR3  Converted      3      1006   F    R   81    12   \n",
       " 295  OAS2_0144  OAS2_0144_MR1  Converted      1         0   M    R   77    16   \n",
       " 296  OAS2_0144  OAS2_0144_MR2  Converted      2       683   M    R   79    16   \n",
       " 297  OAS2_0145  OAS2_0145_MR1  Converted      1         0   F    R   68    16   \n",
       " 298  OAS2_0145  OAS2_0145_MR2  Converted      2      1707   F    R   73    16   \n",
       " 346  OAS2_0176  OAS2_0176_MR1  Converted      1         0   M    R   84    16   \n",
       " 347  OAS2_0176  OAS2_0176_MR2  Converted      2       774   M    R   87    16   \n",
       " 348  OAS2_0176  OAS2_0176_MR3  Converted      3      1631   M    R   89    16   \n",
       " \n",
       "      SES  MMSE  CDR  eTIV   nWBV    ASF  \n",
       " 33   1.0  30.0  0.0  1406  0.715  1.248  \n",
       " 34   1.0  29.0  0.0  1398  0.713  1.255  \n",
       " 35   1.0  27.0  0.5  1423  0.696  1.234  \n",
       " 36   1.0  29.0  0.0  1587  0.693  1.106  \n",
       " 37   1.0  28.0  0.5  1606  0.677  1.093  \n",
       " 38   1.0  26.0  0.5  1597  0.666  1.099  \n",
       " 57   3.0  30.0  0.0  1430  0.718  1.227  \n",
       " 58   3.0  30.0  0.0  1445  0.719  1.215  \n",
       " 59   3.0  28.0  0.5  1463  0.696  1.199  \n",
       " 81   1.0  27.0  0.0  1289  0.771  1.362  \n",
       " 82   1.0  28.0  0.0  1295  0.768  1.356  \n",
       " 83   1.0  28.0  0.5  1314  0.760  1.335  \n",
       " 114  1.0  29.0  0.0  1264  0.701  1.388  \n",
       " 115  1.0  24.0  0.5  1275  0.683  1.376  \n",
       " 194  2.0  28.0  0.0  1383  0.748  1.269  \n",
       " 195  2.0  27.0  0.5  1390  0.728  1.263  \n",
       " 218  1.0  30.0  0.0  1404  0.750  1.250  \n",
       " 219  1.0  30.0  0.5  1423  0.722  1.233  \n",
       " 220  1.0  30.0  0.5  1419  0.731  1.236  \n",
       " 245  4.0  30.0  0.0  1508  0.794  1.164  \n",
       " 246  4.0  26.0  0.5  1529  0.788  1.147  \n",
       " 261  1.0  29.0  0.0  1644  0.729  1.067  \n",
       " 262  1.0  29.0  0.5  1654  0.720  1.061  \n",
       " 263  1.0  29.0  0.5  1647  0.717  1.066  \n",
       " 264  1.0  29.0  0.5  1668  0.694  1.052  \n",
       " 265  1.0  30.0  0.5  1670  0.669  1.051  \n",
       " 271  2.0  30.0  0.5  1340  0.754  1.309  \n",
       " 272  2.0  25.0  0.0  1331  0.761  1.318  \n",
       " 273  3.0  29.0  0.0  1475  0.731  1.190  \n",
       " 274  3.0  28.0  0.5  1495  0.687  1.174  \n",
       " 295  1.0  30.0  0.0  1704  0.716  1.030  \n",
       " 296  1.0  30.0  0.5  1722  0.708  1.019  \n",
       " 297  3.0  30.0  0.0  1298  0.799  1.352  \n",
       " 298  3.0  29.0  0.5  1287  0.771  1.364  \n",
       " 346  2.0  30.0  0.0  1404  0.710  1.250  \n",
       " 347  2.0  30.0  0.0  1398  0.696  1.255  \n",
       " 348  2.0  30.0  0.5  1408  0.679  1.246  )"
      ]
     },
     "execution_count": 19,
     "metadata": {},
     "output_type": "execute_result"
    }
   ],
   "source": [
    "dem = dfad[dfad[\"Group\"]==\"Demented\"]\n",
    "nond = dfad[dfad[\"Group\"]==\"Nondemented\"]\n",
    "conv = dfad[dfad[\"Group\"]==\"Converted\"]\n",
    "\n",
    "dem, nond, conv"
   ]
  },
  {
   "cell_type": "code",
   "execution_count": 48,
   "id": "3aea94a1",
   "metadata": {
    "scrolled": true
   },
   "outputs": [
    {
     "data": {
      "text/html": [
       "<div>\n",
       "<style scoped>\n",
       "    .dataframe tbody tr th:only-of-type {\n",
       "        vertical-align: middle;\n",
       "    }\n",
       "\n",
       "    .dataframe tbody tr th {\n",
       "        vertical-align: top;\n",
       "    }\n",
       "\n",
       "    .dataframe thead th {\n",
       "        text-align: right;\n",
       "    }\n",
       "</style>\n",
       "<table border=\"1\" class=\"dataframe\">\n",
       "  <thead>\n",
       "    <tr style=\"text-align: right;\">\n",
       "      <th></th>\n",
       "      <th>Subject ID</th>\n",
       "      <th>MRI ID</th>\n",
       "      <th>Group</th>\n",
       "      <th>Visit</th>\n",
       "      <th>MR Delay</th>\n",
       "      <th>M/F</th>\n",
       "      <th>Hand</th>\n",
       "      <th>Age</th>\n",
       "      <th>EDUC</th>\n",
       "      <th>SES</th>\n",
       "      <th>MMSE</th>\n",
       "      <th>CDR</th>\n",
       "      <th>eTIV</th>\n",
       "      <th>nWBV</th>\n",
       "      <th>ASF</th>\n",
       "    </tr>\n",
       "  </thead>\n",
       "  <tbody>\n",
       "    <tr>\n",
       "      <th>0</th>\n",
       "      <td>OAS2_0001</td>\n",
       "      <td>OAS2_0001_MR1</td>\n",
       "      <td>Nondemented</td>\n",
       "      <td>1</td>\n",
       "      <td>0</td>\n",
       "      <td>M</td>\n",
       "      <td>R</td>\n",
       "      <td>87</td>\n",
       "      <td>14</td>\n",
       "      <td>2.0</td>\n",
       "      <td>27.0</td>\n",
       "      <td>0.0</td>\n",
       "      <td>1987</td>\n",
       "      <td>0.696</td>\n",
       "      <td>0.883</td>\n",
       "    </tr>\n",
       "    <tr>\n",
       "      <th>1</th>\n",
       "      <td>OAS2_0001</td>\n",
       "      <td>OAS2_0001_MR2</td>\n",
       "      <td>Nondemented</td>\n",
       "      <td>2</td>\n",
       "      <td>457</td>\n",
       "      <td>M</td>\n",
       "      <td>R</td>\n",
       "      <td>88</td>\n",
       "      <td>14</td>\n",
       "      <td>2.0</td>\n",
       "      <td>30.0</td>\n",
       "      <td>0.0</td>\n",
       "      <td>2004</td>\n",
       "      <td>0.681</td>\n",
       "      <td>0.876</td>\n",
       "    </tr>\n",
       "    <tr>\n",
       "      <th>5</th>\n",
       "      <td>OAS2_0004</td>\n",
       "      <td>OAS2_0004_MR1</td>\n",
       "      <td>Nondemented</td>\n",
       "      <td>1</td>\n",
       "      <td>0</td>\n",
       "      <td>F</td>\n",
       "      <td>R</td>\n",
       "      <td>88</td>\n",
       "      <td>18</td>\n",
       "      <td>3.0</td>\n",
       "      <td>28.0</td>\n",
       "      <td>0.0</td>\n",
       "      <td>1215</td>\n",
       "      <td>0.710</td>\n",
       "      <td>1.444</td>\n",
       "    </tr>\n",
       "    <tr>\n",
       "      <th>6</th>\n",
       "      <td>OAS2_0004</td>\n",
       "      <td>OAS2_0004_MR2</td>\n",
       "      <td>Nondemented</td>\n",
       "      <td>2</td>\n",
       "      <td>538</td>\n",
       "      <td>F</td>\n",
       "      <td>R</td>\n",
       "      <td>90</td>\n",
       "      <td>18</td>\n",
       "      <td>3.0</td>\n",
       "      <td>27.0</td>\n",
       "      <td>0.0</td>\n",
       "      <td>1200</td>\n",
       "      <td>0.718</td>\n",
       "      <td>1.462</td>\n",
       "    </tr>\n",
       "    <tr>\n",
       "      <th>7</th>\n",
       "      <td>OAS2_0005</td>\n",
       "      <td>OAS2_0005_MR1</td>\n",
       "      <td>Nondemented</td>\n",
       "      <td>1</td>\n",
       "      <td>0</td>\n",
       "      <td>M</td>\n",
       "      <td>R</td>\n",
       "      <td>80</td>\n",
       "      <td>12</td>\n",
       "      <td>4.0</td>\n",
       "      <td>28.0</td>\n",
       "      <td>0.0</td>\n",
       "      <td>1689</td>\n",
       "      <td>0.712</td>\n",
       "      <td>1.039</td>\n",
       "    </tr>\n",
       "    <tr>\n",
       "      <th>8</th>\n",
       "      <td>OAS2_0005</td>\n",
       "      <td>OAS2_0005_MR2</td>\n",
       "      <td>Nondemented</td>\n",
       "      <td>2</td>\n",
       "      <td>1010</td>\n",
       "      <td>M</td>\n",
       "      <td>R</td>\n",
       "      <td>83</td>\n",
       "      <td>12</td>\n",
       "      <td>4.0</td>\n",
       "      <td>29.0</td>\n",
       "      <td>0.5</td>\n",
       "      <td>1701</td>\n",
       "      <td>0.711</td>\n",
       "      <td>1.032</td>\n",
       "    </tr>\n",
       "    <tr>\n",
       "      <th>9</th>\n",
       "      <td>OAS2_0005</td>\n",
       "      <td>OAS2_0005_MR3</td>\n",
       "      <td>Nondemented</td>\n",
       "      <td>3</td>\n",
       "      <td>1603</td>\n",
       "      <td>M</td>\n",
       "      <td>R</td>\n",
       "      <td>85</td>\n",
       "      <td>12</td>\n",
       "      <td>4.0</td>\n",
       "      <td>30.0</td>\n",
       "      <td>0.0</td>\n",
       "      <td>1699</td>\n",
       "      <td>0.705</td>\n",
       "      <td>1.033</td>\n",
       "    </tr>\n",
       "    <tr>\n",
       "      <th>13</th>\n",
       "      <td>OAS2_0008</td>\n",
       "      <td>OAS2_0008_MR1</td>\n",
       "      <td>Nondemented</td>\n",
       "      <td>1</td>\n",
       "      <td>0</td>\n",
       "      <td>F</td>\n",
       "      <td>R</td>\n",
       "      <td>93</td>\n",
       "      <td>14</td>\n",
       "      <td>2.0</td>\n",
       "      <td>30.0</td>\n",
       "      <td>0.0</td>\n",
       "      <td>1272</td>\n",
       "      <td>0.698</td>\n",
       "      <td>1.380</td>\n",
       "    </tr>\n",
       "    <tr>\n",
       "      <th>14</th>\n",
       "      <td>OAS2_0008</td>\n",
       "      <td>OAS2_0008_MR2</td>\n",
       "      <td>Nondemented</td>\n",
       "      <td>2</td>\n",
       "      <td>742</td>\n",
       "      <td>F</td>\n",
       "      <td>R</td>\n",
       "      <td>95</td>\n",
       "      <td>14</td>\n",
       "      <td>2.0</td>\n",
       "      <td>29.0</td>\n",
       "      <td>0.0</td>\n",
       "      <td>1257</td>\n",
       "      <td>0.703</td>\n",
       "      <td>1.396</td>\n",
       "    </tr>\n",
       "    <tr>\n",
       "      <th>15</th>\n",
       "      <td>OAS2_0009</td>\n",
       "      <td>OAS2_0009_MR1</td>\n",
       "      <td>Demented</td>\n",
       "      <td>1</td>\n",
       "      <td>0</td>\n",
       "      <td>M</td>\n",
       "      <td>R</td>\n",
       "      <td>68</td>\n",
       "      <td>12</td>\n",
       "      <td>2.0</td>\n",
       "      <td>27.0</td>\n",
       "      <td>0.5</td>\n",
       "      <td>1457</td>\n",
       "      <td>0.806</td>\n",
       "      <td>1.205</td>\n",
       "    </tr>\n",
       "    <tr>\n",
       "      <th>16</th>\n",
       "      <td>OAS2_0009</td>\n",
       "      <td>OAS2_0009_MR2</td>\n",
       "      <td>Demented</td>\n",
       "      <td>2</td>\n",
       "      <td>576</td>\n",
       "      <td>M</td>\n",
       "      <td>R</td>\n",
       "      <td>69</td>\n",
       "      <td>12</td>\n",
       "      <td>2.0</td>\n",
       "      <td>24.0</td>\n",
       "      <td>0.5</td>\n",
       "      <td>1480</td>\n",
       "      <td>0.791</td>\n",
       "      <td>1.186</td>\n",
       "    </tr>\n",
       "    <tr>\n",
       "      <th>17</th>\n",
       "      <td>OAS2_0010</td>\n",
       "      <td>OAS2_0010_MR1</td>\n",
       "      <td>Demented</td>\n",
       "      <td>1</td>\n",
       "      <td>0</td>\n",
       "      <td>F</td>\n",
       "      <td>R</td>\n",
       "      <td>66</td>\n",
       "      <td>12</td>\n",
       "      <td>3.0</td>\n",
       "      <td>30.0</td>\n",
       "      <td>0.5</td>\n",
       "      <td>1447</td>\n",
       "      <td>0.769</td>\n",
       "      <td>1.213</td>\n",
       "    </tr>\n",
       "    <tr>\n",
       "      <th>18</th>\n",
       "      <td>OAS2_0010</td>\n",
       "      <td>OAS2_0010_MR2</td>\n",
       "      <td>Demented</td>\n",
       "      <td>2</td>\n",
       "      <td>854</td>\n",
       "      <td>F</td>\n",
       "      <td>R</td>\n",
       "      <td>68</td>\n",
       "      <td>12</td>\n",
       "      <td>3.0</td>\n",
       "      <td>29.0</td>\n",
       "      <td>0.5</td>\n",
       "      <td>1482</td>\n",
       "      <td>0.752</td>\n",
       "      <td>1.184</td>\n",
       "    </tr>\n",
       "    <tr>\n",
       "      <th>19</th>\n",
       "      <td>OAS2_0012</td>\n",
       "      <td>OAS2_0012_MR1</td>\n",
       "      <td>Nondemented</td>\n",
       "      <td>1</td>\n",
       "      <td>0</td>\n",
       "      <td>F</td>\n",
       "      <td>R</td>\n",
       "      <td>78</td>\n",
       "      <td>16</td>\n",
       "      <td>2.0</td>\n",
       "      <td>29.0</td>\n",
       "      <td>0.0</td>\n",
       "      <td>1333</td>\n",
       "      <td>0.748</td>\n",
       "      <td>1.316</td>\n",
       "    </tr>\n",
       "    <tr>\n",
       "      <th>20</th>\n",
       "      <td>OAS2_0012</td>\n",
       "      <td>OAS2_0012_MR2</td>\n",
       "      <td>Nondemented</td>\n",
       "      <td>2</td>\n",
       "      <td>730</td>\n",
       "      <td>F</td>\n",
       "      <td>R</td>\n",
       "      <td>80</td>\n",
       "      <td>16</td>\n",
       "      <td>2.0</td>\n",
       "      <td>29.0</td>\n",
       "      <td>0.0</td>\n",
       "      <td>1323</td>\n",
       "      <td>0.738</td>\n",
       "      <td>1.326</td>\n",
       "    </tr>\n",
       "    <tr>\n",
       "      <th>21</th>\n",
       "      <td>OAS2_0012</td>\n",
       "      <td>OAS2_0012_MR3</td>\n",
       "      <td>Nondemented</td>\n",
       "      <td>3</td>\n",
       "      <td>1598</td>\n",
       "      <td>F</td>\n",
       "      <td>R</td>\n",
       "      <td>83</td>\n",
       "      <td>16</td>\n",
       "      <td>2.0</td>\n",
       "      <td>29.0</td>\n",
       "      <td>0.0</td>\n",
       "      <td>1323</td>\n",
       "      <td>0.718</td>\n",
       "      <td>1.327</td>\n",
       "    </tr>\n",
       "    <tr>\n",
       "      <th>22</th>\n",
       "      <td>OAS2_0013</td>\n",
       "      <td>OAS2_0013_MR1</td>\n",
       "      <td>Nondemented</td>\n",
       "      <td>1</td>\n",
       "      <td>0</td>\n",
       "      <td>F</td>\n",
       "      <td>R</td>\n",
       "      <td>81</td>\n",
       "      <td>12</td>\n",
       "      <td>4.0</td>\n",
       "      <td>30.0</td>\n",
       "      <td>0.0</td>\n",
       "      <td>1230</td>\n",
       "      <td>0.715</td>\n",
       "      <td>1.427</td>\n",
       "    </tr>\n",
       "    <tr>\n",
       "      <th>23</th>\n",
       "      <td>OAS2_0013</td>\n",
       "      <td>OAS2_0013_MR2</td>\n",
       "      <td>Nondemented</td>\n",
       "      <td>2</td>\n",
       "      <td>643</td>\n",
       "      <td>F</td>\n",
       "      <td>R</td>\n",
       "      <td>82</td>\n",
       "      <td>12</td>\n",
       "      <td>4.0</td>\n",
       "      <td>30.0</td>\n",
       "      <td>0.0</td>\n",
       "      <td>1212</td>\n",
       "      <td>0.720</td>\n",
       "      <td>1.448</td>\n",
       "    </tr>\n",
       "    <tr>\n",
       "      <th>24</th>\n",
       "      <td>OAS2_0013</td>\n",
       "      <td>OAS2_0013_MR3</td>\n",
       "      <td>Nondemented</td>\n",
       "      <td>3</td>\n",
       "      <td>1456</td>\n",
       "      <td>F</td>\n",
       "      <td>R</td>\n",
       "      <td>85</td>\n",
       "      <td>12</td>\n",
       "      <td>4.0</td>\n",
       "      <td>29.0</td>\n",
       "      <td>0.0</td>\n",
       "      <td>1225</td>\n",
       "      <td>0.710</td>\n",
       "      <td>1.433</td>\n",
       "    </tr>\n",
       "    <tr>\n",
       "      <th>25</th>\n",
       "      <td>OAS2_0014</td>\n",
       "      <td>OAS2_0014_MR1</td>\n",
       "      <td>Demented</td>\n",
       "      <td>1</td>\n",
       "      <td>0</td>\n",
       "      <td>M</td>\n",
       "      <td>R</td>\n",
       "      <td>76</td>\n",
       "      <td>16</td>\n",
       "      <td>3.0</td>\n",
       "      <td>21.0</td>\n",
       "      <td>0.5</td>\n",
       "      <td>1602</td>\n",
       "      <td>0.697</td>\n",
       "      <td>1.096</td>\n",
       "    </tr>\n",
       "    <tr>\n",
       "      <th>26</th>\n",
       "      <td>OAS2_0014</td>\n",
       "      <td>OAS2_0014_MR2</td>\n",
       "      <td>Demented</td>\n",
       "      <td>2</td>\n",
       "      <td>504</td>\n",
       "      <td>M</td>\n",
       "      <td>R</td>\n",
       "      <td>77</td>\n",
       "      <td>16</td>\n",
       "      <td>3.0</td>\n",
       "      <td>16.0</td>\n",
       "      <td>1.0</td>\n",
       "      <td>1590</td>\n",
       "      <td>0.696</td>\n",
       "      <td>1.104</td>\n",
       "    </tr>\n",
       "    <tr>\n",
       "      <th>27</th>\n",
       "      <td>OAS2_0016</td>\n",
       "      <td>OAS2_0016_MR1</td>\n",
       "      <td>Demented</td>\n",
       "      <td>1</td>\n",
       "      <td>0</td>\n",
       "      <td>M</td>\n",
       "      <td>R</td>\n",
       "      <td>88</td>\n",
       "      <td>8</td>\n",
       "      <td>4.0</td>\n",
       "      <td>25.0</td>\n",
       "      <td>0.5</td>\n",
       "      <td>1651</td>\n",
       "      <td>0.660</td>\n",
       "      <td>1.063</td>\n",
       "    </tr>\n",
       "    <tr>\n",
       "      <th>28</th>\n",
       "      <td>OAS2_0016</td>\n",
       "      <td>OAS2_0016_MR2</td>\n",
       "      <td>Demented</td>\n",
       "      <td>2</td>\n",
       "      <td>707</td>\n",
       "      <td>M</td>\n",
       "      <td>R</td>\n",
       "      <td>90</td>\n",
       "      <td>8</td>\n",
       "      <td>4.0</td>\n",
       "      <td>23.0</td>\n",
       "      <td>0.5</td>\n",
       "      <td>1668</td>\n",
       "      <td>0.646</td>\n",
       "      <td>1.052</td>\n",
       "    </tr>\n",
       "    <tr>\n",
       "      <th>29</th>\n",
       "      <td>OAS2_0017</td>\n",
       "      <td>OAS2_0017_MR1</td>\n",
       "      <td>Nondemented</td>\n",
       "      <td>1</td>\n",
       "      <td>0</td>\n",
       "      <td>M</td>\n",
       "      <td>R</td>\n",
       "      <td>80</td>\n",
       "      <td>12</td>\n",
       "      <td>3.0</td>\n",
       "      <td>29.0</td>\n",
       "      <td>0.0</td>\n",
       "      <td>1783</td>\n",
       "      <td>0.752</td>\n",
       "      <td>0.985</td>\n",
       "    </tr>\n",
       "    <tr>\n",
       "      <th>30</th>\n",
       "      <td>OAS2_0017</td>\n",
       "      <td>OAS2_0017_MR3</td>\n",
       "      <td>Nondemented</td>\n",
       "      <td>3</td>\n",
       "      <td>617</td>\n",
       "      <td>M</td>\n",
       "      <td>R</td>\n",
       "      <td>81</td>\n",
       "      <td>12</td>\n",
       "      <td>3.0</td>\n",
       "      <td>27.0</td>\n",
       "      <td>0.5</td>\n",
       "      <td>1814</td>\n",
       "      <td>0.759</td>\n",
       "      <td>0.968</td>\n",
       "    </tr>\n",
       "    <tr>\n",
       "      <th>31</th>\n",
       "      <td>OAS2_0017</td>\n",
       "      <td>OAS2_0017_MR4</td>\n",
       "      <td>Nondemented</td>\n",
       "      <td>4</td>\n",
       "      <td>1861</td>\n",
       "      <td>M</td>\n",
       "      <td>R</td>\n",
       "      <td>85</td>\n",
       "      <td>12</td>\n",
       "      <td>3.0</td>\n",
       "      <td>30.0</td>\n",
       "      <td>0.0</td>\n",
       "      <td>1820</td>\n",
       "      <td>0.755</td>\n",
       "      <td>0.964</td>\n",
       "    </tr>\n",
       "    <tr>\n",
       "      <th>32</th>\n",
       "      <td>OAS2_0017</td>\n",
       "      <td>OAS2_0017_MR5</td>\n",
       "      <td>Nondemented</td>\n",
       "      <td>5</td>\n",
       "      <td>2400</td>\n",
       "      <td>M</td>\n",
       "      <td>R</td>\n",
       "      <td>86</td>\n",
       "      <td>12</td>\n",
       "      <td>3.0</td>\n",
       "      <td>27.0</td>\n",
       "      <td>0.0</td>\n",
       "      <td>1813</td>\n",
       "      <td>0.761</td>\n",
       "      <td>0.968</td>\n",
       "    </tr>\n",
       "    <tr>\n",
       "      <th>33</th>\n",
       "      <td>OAS2_0018</td>\n",
       "      <td>OAS2_0018_MR1</td>\n",
       "      <td>Converted</td>\n",
       "      <td>1</td>\n",
       "      <td>0</td>\n",
       "      <td>F</td>\n",
       "      <td>R</td>\n",
       "      <td>87</td>\n",
       "      <td>14</td>\n",
       "      <td>1.0</td>\n",
       "      <td>30.0</td>\n",
       "      <td>0.0</td>\n",
       "      <td>1406</td>\n",
       "      <td>0.715</td>\n",
       "      <td>1.248</td>\n",
       "    </tr>\n",
       "    <tr>\n",
       "      <th>34</th>\n",
       "      <td>OAS2_0018</td>\n",
       "      <td>OAS2_0018_MR3</td>\n",
       "      <td>Converted</td>\n",
       "      <td>3</td>\n",
       "      <td>489</td>\n",
       "      <td>F</td>\n",
       "      <td>R</td>\n",
       "      <td>88</td>\n",
       "      <td>14</td>\n",
       "      <td>1.0</td>\n",
       "      <td>29.0</td>\n",
       "      <td>0.0</td>\n",
       "      <td>1398</td>\n",
       "      <td>0.713</td>\n",
       "      <td>1.255</td>\n",
       "    </tr>\n",
       "    <tr>\n",
       "      <th>35</th>\n",
       "      <td>OAS2_0018</td>\n",
       "      <td>OAS2_0018_MR4</td>\n",
       "      <td>Converted</td>\n",
       "      <td>4</td>\n",
       "      <td>1933</td>\n",
       "      <td>F</td>\n",
       "      <td>R</td>\n",
       "      <td>92</td>\n",
       "      <td>14</td>\n",
       "      <td>1.0</td>\n",
       "      <td>27.0</td>\n",
       "      <td>0.5</td>\n",
       "      <td>1423</td>\n",
       "      <td>0.696</td>\n",
       "      <td>1.234</td>\n",
       "    </tr>\n",
       "  </tbody>\n",
       "</table>\n",
       "</div>"
      ],
      "text/plain": [
       "   Subject ID         MRI ID        Group  Visit  MR Delay M/F Hand  Age  \\\n",
       "0   OAS2_0001  OAS2_0001_MR1  Nondemented      1         0   M    R   87   \n",
       "1   OAS2_0001  OAS2_0001_MR2  Nondemented      2       457   M    R   88   \n",
       "5   OAS2_0004  OAS2_0004_MR1  Nondemented      1         0   F    R   88   \n",
       "6   OAS2_0004  OAS2_0004_MR2  Nondemented      2       538   F    R   90   \n",
       "7   OAS2_0005  OAS2_0005_MR1  Nondemented      1         0   M    R   80   \n",
       "8   OAS2_0005  OAS2_0005_MR2  Nondemented      2      1010   M    R   83   \n",
       "9   OAS2_0005  OAS2_0005_MR3  Nondemented      3      1603   M    R   85   \n",
       "13  OAS2_0008  OAS2_0008_MR1  Nondemented      1         0   F    R   93   \n",
       "14  OAS2_0008  OAS2_0008_MR2  Nondemented      2       742   F    R   95   \n",
       "15  OAS2_0009  OAS2_0009_MR1     Demented      1         0   M    R   68   \n",
       "16  OAS2_0009  OAS2_0009_MR2     Demented      2       576   M    R   69   \n",
       "17  OAS2_0010  OAS2_0010_MR1     Demented      1         0   F    R   66   \n",
       "18  OAS2_0010  OAS2_0010_MR2     Demented      2       854   F    R   68   \n",
       "19  OAS2_0012  OAS2_0012_MR1  Nondemented      1         0   F    R   78   \n",
       "20  OAS2_0012  OAS2_0012_MR2  Nondemented      2       730   F    R   80   \n",
       "21  OAS2_0012  OAS2_0012_MR3  Nondemented      3      1598   F    R   83   \n",
       "22  OAS2_0013  OAS2_0013_MR1  Nondemented      1         0   F    R   81   \n",
       "23  OAS2_0013  OAS2_0013_MR2  Nondemented      2       643   F    R   82   \n",
       "24  OAS2_0013  OAS2_0013_MR3  Nondemented      3      1456   F    R   85   \n",
       "25  OAS2_0014  OAS2_0014_MR1     Demented      1         0   M    R   76   \n",
       "26  OAS2_0014  OAS2_0014_MR2     Demented      2       504   M    R   77   \n",
       "27  OAS2_0016  OAS2_0016_MR1     Demented      1         0   M    R   88   \n",
       "28  OAS2_0016  OAS2_0016_MR2     Demented      2       707   M    R   90   \n",
       "29  OAS2_0017  OAS2_0017_MR1  Nondemented      1         0   M    R   80   \n",
       "30  OAS2_0017  OAS2_0017_MR3  Nondemented      3       617   M    R   81   \n",
       "31  OAS2_0017  OAS2_0017_MR4  Nondemented      4      1861   M    R   85   \n",
       "32  OAS2_0017  OAS2_0017_MR5  Nondemented      5      2400   M    R   86   \n",
       "33  OAS2_0018  OAS2_0018_MR1    Converted      1         0   F    R   87   \n",
       "34  OAS2_0018  OAS2_0018_MR3    Converted      3       489   F    R   88   \n",
       "35  OAS2_0018  OAS2_0018_MR4    Converted      4      1933   F    R   92   \n",
       "\n",
       "    EDUC  SES  MMSE  CDR  eTIV   nWBV    ASF  \n",
       "0     14  2.0  27.0  0.0  1987  0.696  0.883  \n",
       "1     14  2.0  30.0  0.0  2004  0.681  0.876  \n",
       "5     18  3.0  28.0  0.0  1215  0.710  1.444  \n",
       "6     18  3.0  27.0  0.0  1200  0.718  1.462  \n",
       "7     12  4.0  28.0  0.0  1689  0.712  1.039  \n",
       "8     12  4.0  29.0  0.5  1701  0.711  1.032  \n",
       "9     12  4.0  30.0  0.0  1699  0.705  1.033  \n",
       "13    14  2.0  30.0  0.0  1272  0.698  1.380  \n",
       "14    14  2.0  29.0  0.0  1257  0.703  1.396  \n",
       "15    12  2.0  27.0  0.5  1457  0.806  1.205  \n",
       "16    12  2.0  24.0  0.5  1480  0.791  1.186  \n",
       "17    12  3.0  30.0  0.5  1447  0.769  1.213  \n",
       "18    12  3.0  29.0  0.5  1482  0.752  1.184  \n",
       "19    16  2.0  29.0  0.0  1333  0.748  1.316  \n",
       "20    16  2.0  29.0  0.0  1323  0.738  1.326  \n",
       "21    16  2.0  29.0  0.0  1323  0.718  1.327  \n",
       "22    12  4.0  30.0  0.0  1230  0.715  1.427  \n",
       "23    12  4.0  30.0  0.0  1212  0.720  1.448  \n",
       "24    12  4.0  29.0  0.0  1225  0.710  1.433  \n",
       "25    16  3.0  21.0  0.5  1602  0.697  1.096  \n",
       "26    16  3.0  16.0  1.0  1590  0.696  1.104  \n",
       "27     8  4.0  25.0  0.5  1651  0.660  1.063  \n",
       "28     8  4.0  23.0  0.5  1668  0.646  1.052  \n",
       "29    12  3.0  29.0  0.0  1783  0.752  0.985  \n",
       "30    12  3.0  27.0  0.5  1814  0.759  0.968  \n",
       "31    12  3.0  30.0  0.0  1820  0.755  0.964  \n",
       "32    12  3.0  27.0  0.0  1813  0.761  0.968  \n",
       "33    14  1.0  30.0  0.0  1406  0.715  1.248  \n",
       "34    14  1.0  29.0  0.0  1398  0.713  1.255  \n",
       "35    14  1.0  27.0  0.5  1423  0.696  1.234  "
      ]
     },
     "execution_count": 48,
     "metadata": {},
     "output_type": "execute_result"
    }
   ],
   "source": [
    "dfad.head(30)"
   ]
  },
  {
   "cell_type": "code",
   "execution_count": 21,
   "id": "665aed96",
   "metadata": {
    "scrolled": true
   },
   "outputs": [
    {
     "data": {
      "application/vnd.plotly.v1+json": {
       "config": {
        "plotlyServerURL": "https://plot.ly"
       },
       "data": [
        {
         "marker": {
          "color": [
           87,
           88,
           88,
           90,
           80,
           83,
           85,
           93,
           95,
           68,
           69,
           66,
           68,
           78,
           80,
           83,
           81,
           82,
           85,
           76,
           77,
           88,
           90,
           80,
           81,
           85,
           86,
           87,
           88,
           92,
           80,
           82,
           84,
           72,
           76,
           61,
           64,
           86,
           87,
           82,
           84,
           69,
           71,
           73,
           74,
           64,
           66,
           77,
           80,
           60,
           62,
           86,
           88,
           91,
           90,
           92,
           79,
           80,
           82,
           84,
           88,
           89,
           69,
           70,
           73,
           75,
           82,
           85,
           88,
           89,
           81,
           83,
           84,
           86,
           88,
           71,
           73,
           75,
           70,
           73,
           72,
           73,
           68,
           69,
           71,
           75,
           77,
           83,
           85,
           77,
           78,
           66,
           66,
           68,
           68,
           69,
           69,
           70,
           71,
           71,
           72,
           92,
           94,
           97,
           74,
           78,
           82,
           84,
           85,
           87,
           65,
           67,
           71,
           73,
           81,
           83,
           85,
           78,
           79,
           80,
           75,
           78,
           68,
           70,
           72,
           79,
           81,
           83,
           78,
           81,
           82,
           61,
           62,
           67,
           68,
           71,
           73,
           88,
           90,
           81,
           82,
           80,
           82,
           84,
           85,
           86,
           83,
           84,
           70,
           72,
           75,
           76,
           77,
           73,
           75,
           66,
           69,
           71,
           69,
           73,
           89,
           91,
           92,
           69,
           71,
           73,
           66,
           68,
           69,
           82,
           84,
           78,
           80,
           63,
           65,
           96,
           98,
           78,
           80,
           70,
           72,
           73,
           75,
           76,
           75,
           78,
           83,
           84,
           61,
           63,
           71,
           72,
           74,
           89,
           91,
           74,
           77,
           66,
           67,
           77,
           80,
           82,
           71,
           74,
           76,
           82,
           84,
           86,
           69,
           74,
           75,
           70,
           71,
           86,
           87,
           70,
           72,
           77,
           79,
           81,
           83,
           62,
           65,
           76,
           78,
           73,
           75,
           73,
           75,
           73,
           74,
           76,
           78,
           67,
           71,
           81,
           83,
           85,
           76,
           78,
           73,
           74,
           86,
           88,
           70,
           71,
           74,
           75,
           77,
           79,
           81,
           81,
           84,
           86,
           76,
           79,
           78,
           80,
           82,
           65,
           67,
           78,
           81,
           70,
           71,
           74,
           78,
           74,
           75,
           73,
           75,
           67,
           68,
           76,
           78,
           81,
           65,
           68,
           69,
           71,
           89,
           91,
           93,
           77,
           79,
           68,
           73,
           80,
           82,
           77,
           78,
           80,
           82,
           81,
           83,
           73,
           75,
           66,
           68,
           69,
           75,
           77,
           78,
           81,
           73,
           75,
           73,
           76,
           73,
           76,
           77,
           79,
           80,
           82,
           84,
           77,
           79,
           78,
           80,
           71,
           73,
           76,
           77,
           81,
           75,
           79,
           60,
           62,
           64,
           70,
           72,
           73,
           84,
           87,
           89,
           68,
           70,
           89,
           90,
           93,
           79,
           81,
           66,
           66,
           68,
           72,
           72,
           73,
           80,
           82,
           86,
           61,
           63,
           65
          ]
         },
         "mode": "markers",
         "type": "scatter",
         "x": [
          "Nondemented",
          "Nondemented",
          "Nondemented",
          "Nondemented",
          "Nondemented",
          "Nondemented",
          "Nondemented",
          "Nondemented",
          "Nondemented",
          "Demented",
          "Demented",
          "Demented",
          "Demented",
          "Nondemented",
          "Nondemented",
          "Nondemented",
          "Nondemented",
          "Nondemented",
          "Nondemented",
          "Demented",
          "Demented",
          "Demented",
          "Demented",
          "Nondemented",
          "Nondemented",
          "Nondemented",
          "Nondemented",
          "Converted",
          "Converted",
          "Converted",
          "Converted",
          "Converted",
          "Converted",
          "Demented",
          "Demented",
          "Nondemented",
          "Nondemented",
          "Demented",
          "Demented",
          "Demented",
          "Demented",
          "Nondemented",
          "Nondemented",
          "Nondemented",
          "Nondemented",
          "Demented",
          "Demented",
          "Nondemented",
          "Nondemented",
          "Nondemented",
          "Nondemented",
          "Converted",
          "Converted",
          "Converted",
          "Demented",
          "Demented",
          "Nondemented",
          "Nondemented",
          "Nondemented",
          "Nondemented",
          "Nondemented",
          "Nondemented",
          "Nondemented",
          "Nondemented",
          "Nondemented",
          "Nondemented",
          "Demented",
          "Demented",
          "Demented",
          "Demented",
          "Demented",
          "Demented",
          "Demented",
          "Demented",
          "Demented",
          "Converted",
          "Converted",
          "Converted",
          "Nondemented",
          "Nondemented",
          "Demented",
          "Demented",
          "Demented",
          "Demented",
          "Demented",
          "Nondemented",
          "Nondemented",
          "Demented",
          "Demented",
          "Nondemented",
          "Nondemented",
          "Demented",
          "Demented",
          "Demented",
          "Demented",
          "Demented",
          "Nondemented",
          "Nondemented",
          "Nondemented",
          "Demented",
          "Demented",
          "Nondemented",
          "Nondemented",
          "Nondemented",
          "Nondemented",
          "Nondemented",
          "Nondemented",
          "Nondemented",
          "Converted",
          "Converted",
          "Nondemented",
          "Nondemented",
          "Nondemented",
          "Nondemented",
          "Nondemented",
          "Nondemented",
          "Nondemented",
          "Demented",
          "Demented",
          "Demented",
          "Demented",
          "Demented",
          "Nondemented",
          "Nondemented",
          "Nondemented",
          "Nondemented",
          "Nondemented",
          "Nondemented",
          "Demented",
          "Demented",
          "Demented",
          "Demented",
          "Demented",
          "Nondemented",
          "Nondemented",
          "Nondemented",
          "Nondemented",
          "Nondemented",
          "Nondemented",
          "Nondemented",
          "Nondemented",
          "Nondemented",
          "Nondemented",
          "Nondemented",
          "Nondemented",
          "Nondemented",
          "Demented",
          "Demented",
          "Nondemented",
          "Nondemented",
          "Nondemented",
          "Nondemented",
          "Nondemented",
          "Demented",
          "Demented",
          "Nondemented",
          "Nondemented",
          "Nondemented",
          "Nondemented",
          "Nondemented",
          "Nondemented",
          "Nondemented",
          "Nondemented",
          "Demented",
          "Demented",
          "Demented",
          "Demented",
          "Demented",
          "Demented",
          "Demented",
          "Demented",
          "Nondemented",
          "Nondemented",
          "Nondemented",
          "Nondemented",
          "Demented",
          "Demented",
          "Demented",
          "Demented",
          "Demented",
          "Demented",
          "Nondemented",
          "Nondemented",
          "Nondemented",
          "Nondemented",
          "Nondemented",
          "Converted",
          "Converted",
          "Nondemented",
          "Nondemented",
          "Nondemented",
          "Nondemented",
          "Nondemented",
          "Nondemented",
          "Nondemented",
          "Nondemented",
          "Nondemented",
          "Demented",
          "Demented",
          "Nondemented",
          "Nondemented",
          "Nondemented",
          "Nondemented",
          "Nondemented",
          "Nondemented",
          "Demented",
          "Demented",
          "Demented",
          "Converted",
          "Converted",
          "Converted",
          "Demented",
          "Demented",
          "Nondemented",
          "Nondemented",
          "Demented",
          "Demented",
          "Demented",
          "Demented",
          "Nondemented",
          "Nondemented",
          "Demented",
          "Demented",
          "Demented",
          "Demented",
          "Demented",
          "Demented",
          "Demented",
          "Demented",
          "Nondemented",
          "Nondemented",
          "Nondemented",
          "Nondemented",
          "Converted",
          "Converted",
          "Nondemented",
          "Nondemented",
          "Nondemented",
          "Demented",
          "Demented",
          "Nondemented",
          "Nondemented",
          "Nondemented",
          "Nondemented",
          "Demented",
          "Demented",
          "Nondemented",
          "Nondemented",
          "Nondemented",
          "Converted",
          "Converted",
          "Converted",
          "Converted",
          "Converted",
          "Nondemented",
          "Nondemented",
          "Nondemented",
          "Nondemented",
          "Nondemented",
          "Converted",
          "Converted",
          "Converted",
          "Converted",
          "Demented",
          "Demented",
          "Nondemented",
          "Nondemented",
          "Demented",
          "Demented",
          "Nondemented",
          "Nondemented",
          "Demented",
          "Demented",
          "Demented",
          "Demented",
          "Demented",
          "Nondemented",
          "Nondemented",
          "Nondemented",
          "Nondemented",
          "Nondemented",
          "Nondemented",
          "Nondemented",
          "Converted",
          "Converted",
          "Converted",
          "Converted",
          "Demented",
          "Demented",
          "Nondemented",
          "Nondemented",
          "Nondemented",
          "Nondemented",
          "Nondemented",
          "Nondemented",
          "Demented",
          "Demented",
          "Nondemented",
          "Nondemented",
          "Nondemented",
          "Nondemented",
          "Nondemented",
          "Nondemented",
          "Nondemented",
          "Demented",
          "Demented",
          "Nondemented",
          "Nondemented",
          "Demented",
          "Demented",
          "Nondemented",
          "Nondemented",
          "Nondemented",
          "Demented",
          "Demented",
          "Demented",
          "Demented",
          "Demented",
          "Demented",
          "Nondemented",
          "Nondemented",
          "Nondemented",
          "Nondemented",
          "Nondemented",
          "Demented",
          "Demented",
          "Nondemented",
          "Nondemented",
          "Nondemented",
          "Demented",
          "Demented",
          "Demented",
          "Converted",
          "Converted",
          "Converted",
          "Nondemented",
          "Nondemented",
          "Nondemented",
          "Nondemented",
          "Nondemented",
          "Demented",
          "Demented",
          "Nondemented",
          "Nondemented",
          "Nondemented",
          "Nondemented",
          "Demented",
          "Demented",
          "Demented",
          "Demented",
          "Demented",
          "Nondemented",
          "Nondemented",
          "Nondemented"
         ],
         "y": [
          87,
          88,
          88,
          90,
          80,
          83,
          85,
          93,
          95,
          68,
          69,
          66,
          68,
          78,
          80,
          83,
          81,
          82,
          85,
          76,
          77,
          88,
          90,
          80,
          81,
          85,
          86,
          87,
          88,
          92,
          80,
          82,
          84,
          72,
          76,
          61,
          64,
          86,
          87,
          82,
          84,
          69,
          71,
          73,
          74,
          64,
          66,
          77,
          80,
          60,
          62,
          86,
          88,
          91,
          90,
          92,
          79,
          80,
          82,
          84,
          88,
          89,
          69,
          70,
          73,
          75,
          82,
          85,
          88,
          89,
          81,
          83,
          84,
          86,
          88,
          71,
          73,
          75,
          70,
          73,
          72,
          73,
          68,
          69,
          71,
          75,
          77,
          83,
          85,
          77,
          78,
          66,
          66,
          68,
          68,
          69,
          69,
          70,
          71,
          71,
          72,
          92,
          94,
          97,
          74,
          78,
          82,
          84,
          85,
          87,
          65,
          67,
          71,
          73,
          81,
          83,
          85,
          78,
          79,
          80,
          75,
          78,
          68,
          70,
          72,
          79,
          81,
          83,
          78,
          81,
          82,
          61,
          62,
          67,
          68,
          71,
          73,
          88,
          90,
          81,
          82,
          80,
          82,
          84,
          85,
          86,
          83,
          84,
          70,
          72,
          75,
          76,
          77,
          73,
          75,
          66,
          69,
          71,
          69,
          73,
          89,
          91,
          92,
          69,
          71,
          73,
          66,
          68,
          69,
          82,
          84,
          78,
          80,
          63,
          65,
          96,
          98,
          78,
          80,
          70,
          72,
          73,
          75,
          76,
          75,
          78,
          83,
          84,
          61,
          63,
          71,
          72,
          74,
          89,
          91,
          74,
          77,
          66,
          67,
          77,
          80,
          82,
          71,
          74,
          76,
          82,
          84,
          86,
          69,
          74,
          75,
          70,
          71,
          86,
          87,
          70,
          72,
          77,
          79,
          81,
          83,
          62,
          65,
          76,
          78,
          73,
          75,
          73,
          75,
          73,
          74,
          76,
          78,
          67,
          71,
          81,
          83,
          85,
          76,
          78,
          73,
          74,
          86,
          88,
          70,
          71,
          74,
          75,
          77,
          79,
          81,
          81,
          84,
          86,
          76,
          79,
          78,
          80,
          82,
          65,
          67,
          78,
          81,
          70,
          71,
          74,
          78,
          74,
          75,
          73,
          75,
          67,
          68,
          76,
          78,
          81,
          65,
          68,
          69,
          71,
          89,
          91,
          93,
          77,
          79,
          68,
          73,
          80,
          82,
          77,
          78,
          80,
          82,
          81,
          83,
          73,
          75,
          66,
          68,
          69,
          75,
          77,
          78,
          81,
          73,
          75,
          73,
          76,
          73,
          76,
          77,
          79,
          80,
          82,
          84,
          77,
          79,
          78,
          80,
          71,
          73,
          76,
          77,
          81,
          75,
          79,
          60,
          62,
          64,
          70,
          72,
          73,
          84,
          87,
          89,
          68,
          70,
          89,
          90,
          93,
          79,
          81,
          66,
          66,
          68,
          72,
          72,
          73,
          80,
          82,
          86,
          61,
          63,
          65
         ]
        }
       ],
       "layout": {
        "template": {
         "data": {
          "bar": [
           {
            "error_x": {
             "color": "#2a3f5f"
            },
            "error_y": {
             "color": "#2a3f5f"
            },
            "marker": {
             "line": {
              "color": "#E5ECF6",
              "width": 0.5
             },
             "pattern": {
              "fillmode": "overlay",
              "size": 10,
              "solidity": 0.2
             }
            },
            "type": "bar"
           }
          ],
          "barpolar": [
           {
            "marker": {
             "line": {
              "color": "#E5ECF6",
              "width": 0.5
             },
             "pattern": {
              "fillmode": "overlay",
              "size": 10,
              "solidity": 0.2
             }
            },
            "type": "barpolar"
           }
          ],
          "carpet": [
           {
            "aaxis": {
             "endlinecolor": "#2a3f5f",
             "gridcolor": "white",
             "linecolor": "white",
             "minorgridcolor": "white",
             "startlinecolor": "#2a3f5f"
            },
            "baxis": {
             "endlinecolor": "#2a3f5f",
             "gridcolor": "white",
             "linecolor": "white",
             "minorgridcolor": "white",
             "startlinecolor": "#2a3f5f"
            },
            "type": "carpet"
           }
          ],
          "choropleth": [
           {
            "colorbar": {
             "outlinewidth": 0,
             "ticks": ""
            },
            "type": "choropleth"
           }
          ],
          "contour": [
           {
            "colorbar": {
             "outlinewidth": 0,
             "ticks": ""
            },
            "colorscale": [
             [
              0,
              "#0d0887"
             ],
             [
              0.1111111111111111,
              "#46039f"
             ],
             [
              0.2222222222222222,
              "#7201a8"
             ],
             [
              0.3333333333333333,
              "#9c179e"
             ],
             [
              0.4444444444444444,
              "#bd3786"
             ],
             [
              0.5555555555555556,
              "#d8576b"
             ],
             [
              0.6666666666666666,
              "#ed7953"
             ],
             [
              0.7777777777777778,
              "#fb9f3a"
             ],
             [
              0.8888888888888888,
              "#fdca26"
             ],
             [
              1,
              "#f0f921"
             ]
            ],
            "type": "contour"
           }
          ],
          "contourcarpet": [
           {
            "colorbar": {
             "outlinewidth": 0,
             "ticks": ""
            },
            "type": "contourcarpet"
           }
          ],
          "heatmap": [
           {
            "colorbar": {
             "outlinewidth": 0,
             "ticks": ""
            },
            "colorscale": [
             [
              0,
              "#0d0887"
             ],
             [
              0.1111111111111111,
              "#46039f"
             ],
             [
              0.2222222222222222,
              "#7201a8"
             ],
             [
              0.3333333333333333,
              "#9c179e"
             ],
             [
              0.4444444444444444,
              "#bd3786"
             ],
             [
              0.5555555555555556,
              "#d8576b"
             ],
             [
              0.6666666666666666,
              "#ed7953"
             ],
             [
              0.7777777777777778,
              "#fb9f3a"
             ],
             [
              0.8888888888888888,
              "#fdca26"
             ],
             [
              1,
              "#f0f921"
             ]
            ],
            "type": "heatmap"
           }
          ],
          "heatmapgl": [
           {
            "colorbar": {
             "outlinewidth": 0,
             "ticks": ""
            },
            "colorscale": [
             [
              0,
              "#0d0887"
             ],
             [
              0.1111111111111111,
              "#46039f"
             ],
             [
              0.2222222222222222,
              "#7201a8"
             ],
             [
              0.3333333333333333,
              "#9c179e"
             ],
             [
              0.4444444444444444,
              "#bd3786"
             ],
             [
              0.5555555555555556,
              "#d8576b"
             ],
             [
              0.6666666666666666,
              "#ed7953"
             ],
             [
              0.7777777777777778,
              "#fb9f3a"
             ],
             [
              0.8888888888888888,
              "#fdca26"
             ],
             [
              1,
              "#f0f921"
             ]
            ],
            "type": "heatmapgl"
           }
          ],
          "histogram": [
           {
            "marker": {
             "pattern": {
              "fillmode": "overlay",
              "size": 10,
              "solidity": 0.2
             }
            },
            "type": "histogram"
           }
          ],
          "histogram2d": [
           {
            "colorbar": {
             "outlinewidth": 0,
             "ticks": ""
            },
            "colorscale": [
             [
              0,
              "#0d0887"
             ],
             [
              0.1111111111111111,
              "#46039f"
             ],
             [
              0.2222222222222222,
              "#7201a8"
             ],
             [
              0.3333333333333333,
              "#9c179e"
             ],
             [
              0.4444444444444444,
              "#bd3786"
             ],
             [
              0.5555555555555556,
              "#d8576b"
             ],
             [
              0.6666666666666666,
              "#ed7953"
             ],
             [
              0.7777777777777778,
              "#fb9f3a"
             ],
             [
              0.8888888888888888,
              "#fdca26"
             ],
             [
              1,
              "#f0f921"
             ]
            ],
            "type": "histogram2d"
           }
          ],
          "histogram2dcontour": [
           {
            "colorbar": {
             "outlinewidth": 0,
             "ticks": ""
            },
            "colorscale": [
             [
              0,
              "#0d0887"
             ],
             [
              0.1111111111111111,
              "#46039f"
             ],
             [
              0.2222222222222222,
              "#7201a8"
             ],
             [
              0.3333333333333333,
              "#9c179e"
             ],
             [
              0.4444444444444444,
              "#bd3786"
             ],
             [
              0.5555555555555556,
              "#d8576b"
             ],
             [
              0.6666666666666666,
              "#ed7953"
             ],
             [
              0.7777777777777778,
              "#fb9f3a"
             ],
             [
              0.8888888888888888,
              "#fdca26"
             ],
             [
              1,
              "#f0f921"
             ]
            ],
            "type": "histogram2dcontour"
           }
          ],
          "mesh3d": [
           {
            "colorbar": {
             "outlinewidth": 0,
             "ticks": ""
            },
            "type": "mesh3d"
           }
          ],
          "parcoords": [
           {
            "line": {
             "colorbar": {
              "outlinewidth": 0,
              "ticks": ""
             }
            },
            "type": "parcoords"
           }
          ],
          "pie": [
           {
            "automargin": true,
            "type": "pie"
           }
          ],
          "scatter": [
           {
            "fillpattern": {
             "fillmode": "overlay",
             "size": 10,
             "solidity": 0.2
            },
            "type": "scatter"
           }
          ],
          "scatter3d": [
           {
            "line": {
             "colorbar": {
              "outlinewidth": 0,
              "ticks": ""
             }
            },
            "marker": {
             "colorbar": {
              "outlinewidth": 0,
              "ticks": ""
             }
            },
            "type": "scatter3d"
           }
          ],
          "scattercarpet": [
           {
            "marker": {
             "colorbar": {
              "outlinewidth": 0,
              "ticks": ""
             }
            },
            "type": "scattercarpet"
           }
          ],
          "scattergeo": [
           {
            "marker": {
             "colorbar": {
              "outlinewidth": 0,
              "ticks": ""
             }
            },
            "type": "scattergeo"
           }
          ],
          "scattergl": [
           {
            "marker": {
             "colorbar": {
              "outlinewidth": 0,
              "ticks": ""
             }
            },
            "type": "scattergl"
           }
          ],
          "scattermapbox": [
           {
            "marker": {
             "colorbar": {
              "outlinewidth": 0,
              "ticks": ""
             }
            },
            "type": "scattermapbox"
           }
          ],
          "scatterpolar": [
           {
            "marker": {
             "colorbar": {
              "outlinewidth": 0,
              "ticks": ""
             }
            },
            "type": "scatterpolar"
           }
          ],
          "scatterpolargl": [
           {
            "marker": {
             "colorbar": {
              "outlinewidth": 0,
              "ticks": ""
             }
            },
            "type": "scatterpolargl"
           }
          ],
          "scatterternary": [
           {
            "marker": {
             "colorbar": {
              "outlinewidth": 0,
              "ticks": ""
             }
            },
            "type": "scatterternary"
           }
          ],
          "surface": [
           {
            "colorbar": {
             "outlinewidth": 0,
             "ticks": ""
            },
            "colorscale": [
             [
              0,
              "#0d0887"
             ],
             [
              0.1111111111111111,
              "#46039f"
             ],
             [
              0.2222222222222222,
              "#7201a8"
             ],
             [
              0.3333333333333333,
              "#9c179e"
             ],
             [
              0.4444444444444444,
              "#bd3786"
             ],
             [
              0.5555555555555556,
              "#d8576b"
             ],
             [
              0.6666666666666666,
              "#ed7953"
             ],
             [
              0.7777777777777778,
              "#fb9f3a"
             ],
             [
              0.8888888888888888,
              "#fdca26"
             ],
             [
              1,
              "#f0f921"
             ]
            ],
            "type": "surface"
           }
          ],
          "table": [
           {
            "cells": {
             "fill": {
              "color": "#EBF0F8"
             },
             "line": {
              "color": "white"
             }
            },
            "header": {
             "fill": {
              "color": "#C8D4E3"
             },
             "line": {
              "color": "white"
             }
            },
            "type": "table"
           }
          ]
         },
         "layout": {
          "annotationdefaults": {
           "arrowcolor": "#2a3f5f",
           "arrowhead": 0,
           "arrowwidth": 1
          },
          "autotypenumbers": "strict",
          "coloraxis": {
           "colorbar": {
            "outlinewidth": 0,
            "ticks": ""
           }
          },
          "colorscale": {
           "diverging": [
            [
             0,
             "#8e0152"
            ],
            [
             0.1,
             "#c51b7d"
            ],
            [
             0.2,
             "#de77ae"
            ],
            [
             0.3,
             "#f1b6da"
            ],
            [
             0.4,
             "#fde0ef"
            ],
            [
             0.5,
             "#f7f7f7"
            ],
            [
             0.6,
             "#e6f5d0"
            ],
            [
             0.7,
             "#b8e186"
            ],
            [
             0.8,
             "#7fbc41"
            ],
            [
             0.9,
             "#4d9221"
            ],
            [
             1,
             "#276419"
            ]
           ],
           "sequential": [
            [
             0,
             "#0d0887"
            ],
            [
             0.1111111111111111,
             "#46039f"
            ],
            [
             0.2222222222222222,
             "#7201a8"
            ],
            [
             0.3333333333333333,
             "#9c179e"
            ],
            [
             0.4444444444444444,
             "#bd3786"
            ],
            [
             0.5555555555555556,
             "#d8576b"
            ],
            [
             0.6666666666666666,
             "#ed7953"
            ],
            [
             0.7777777777777778,
             "#fb9f3a"
            ],
            [
             0.8888888888888888,
             "#fdca26"
            ],
            [
             1,
             "#f0f921"
            ]
           ],
           "sequentialminus": [
            [
             0,
             "#0d0887"
            ],
            [
             0.1111111111111111,
             "#46039f"
            ],
            [
             0.2222222222222222,
             "#7201a8"
            ],
            [
             0.3333333333333333,
             "#9c179e"
            ],
            [
             0.4444444444444444,
             "#bd3786"
            ],
            [
             0.5555555555555556,
             "#d8576b"
            ],
            [
             0.6666666666666666,
             "#ed7953"
            ],
            [
             0.7777777777777778,
             "#fb9f3a"
            ],
            [
             0.8888888888888888,
             "#fdca26"
            ],
            [
             1,
             "#f0f921"
            ]
           ]
          },
          "colorway": [
           "#636efa",
           "#EF553B",
           "#00cc96",
           "#ab63fa",
           "#FFA15A",
           "#19d3f3",
           "#FF6692",
           "#B6E880",
           "#FF97FF",
           "#FECB52"
          ],
          "font": {
           "color": "#2a3f5f"
          },
          "geo": {
           "bgcolor": "white",
           "lakecolor": "white",
           "landcolor": "#E5ECF6",
           "showlakes": true,
           "showland": true,
           "subunitcolor": "white"
          },
          "hoverlabel": {
           "align": "left"
          },
          "hovermode": "closest",
          "mapbox": {
           "style": "light"
          },
          "paper_bgcolor": "white",
          "plot_bgcolor": "#E5ECF6",
          "polar": {
           "angularaxis": {
            "gridcolor": "white",
            "linecolor": "white",
            "ticks": ""
           },
           "bgcolor": "#E5ECF6",
           "radialaxis": {
            "gridcolor": "white",
            "linecolor": "white",
            "ticks": ""
           }
          },
          "scene": {
           "xaxis": {
            "backgroundcolor": "#E5ECF6",
            "gridcolor": "white",
            "gridwidth": 2,
            "linecolor": "white",
            "showbackground": true,
            "ticks": "",
            "zerolinecolor": "white"
           },
           "yaxis": {
            "backgroundcolor": "#E5ECF6",
            "gridcolor": "white",
            "gridwidth": 2,
            "linecolor": "white",
            "showbackground": true,
            "ticks": "",
            "zerolinecolor": "white"
           },
           "zaxis": {
            "backgroundcolor": "#E5ECF6",
            "gridcolor": "white",
            "gridwidth": 2,
            "linecolor": "white",
            "showbackground": true,
            "ticks": "",
            "zerolinecolor": "white"
           }
          },
          "shapedefaults": {
           "line": {
            "color": "#2a3f5f"
           }
          },
          "ternary": {
           "aaxis": {
            "gridcolor": "white",
            "linecolor": "white",
            "ticks": ""
           },
           "baxis": {
            "gridcolor": "white",
            "linecolor": "white",
            "ticks": ""
           },
           "bgcolor": "#E5ECF6",
           "caxis": {
            "gridcolor": "white",
            "linecolor": "white",
            "ticks": ""
           }
          },
          "title": {
           "x": 0.05
          },
          "xaxis": {
           "automargin": true,
           "gridcolor": "white",
           "linecolor": "white",
           "ticks": "",
           "title": {
            "standoff": 15
           },
           "zerolinecolor": "white",
           "zerolinewidth": 2
          },
          "yaxis": {
           "automargin": true,
           "gridcolor": "white",
           "linecolor": "white",
           "ticks": "",
           "title": {
            "standoff": 15
           },
           "zerolinecolor": "white",
           "zerolinewidth": 2
          }
         }
        }
       }
      },
      "text/html": [
       "<div>                            <div id=\"14ba4ced-9957-453b-9b73-76370790ecda\" class=\"plotly-graph-div\" style=\"height:525px; width:100%;\"></div>            <script type=\"text/javascript\">                require([\"plotly\"], function(Plotly) {                    window.PLOTLYENV=window.PLOTLYENV || {};                                    if (document.getElementById(\"14ba4ced-9957-453b-9b73-76370790ecda\")) {                    Plotly.newPlot(                        \"14ba4ced-9957-453b-9b73-76370790ecda\",                        [{\"marker\":{\"color\":[87,88,88,90,80,83,85,93,95,68,69,66,68,78,80,83,81,82,85,76,77,88,90,80,81,85,86,87,88,92,80,82,84,72,76,61,64,86,87,82,84,69,71,73,74,64,66,77,80,60,62,86,88,91,90,92,79,80,82,84,88,89,69,70,73,75,82,85,88,89,81,83,84,86,88,71,73,75,70,73,72,73,68,69,71,75,77,83,85,77,78,66,66,68,68,69,69,70,71,71,72,92,94,97,74,78,82,84,85,87,65,67,71,73,81,83,85,78,79,80,75,78,68,70,72,79,81,83,78,81,82,61,62,67,68,71,73,88,90,81,82,80,82,84,85,86,83,84,70,72,75,76,77,73,75,66,69,71,69,73,89,91,92,69,71,73,66,68,69,82,84,78,80,63,65,96,98,78,80,70,72,73,75,76,75,78,83,84,61,63,71,72,74,89,91,74,77,66,67,77,80,82,71,74,76,82,84,86,69,74,75,70,71,86,87,70,72,77,79,81,83,62,65,76,78,73,75,73,75,73,74,76,78,67,71,81,83,85,76,78,73,74,86,88,70,71,74,75,77,79,81,81,84,86,76,79,78,80,82,65,67,78,81,70,71,74,78,74,75,73,75,67,68,76,78,81,65,68,69,71,89,91,93,77,79,68,73,80,82,77,78,80,82,81,83,73,75,66,68,69,75,77,78,81,73,75,73,76,73,76,77,79,80,82,84,77,79,78,80,71,73,76,77,81,75,79,60,62,64,70,72,73,84,87,89,68,70,89,90,93,79,81,66,66,68,72,72,73,80,82,86,61,63,65]},\"mode\":\"markers\",\"x\":[\"Nondemented\",\"Nondemented\",\"Nondemented\",\"Nondemented\",\"Nondemented\",\"Nondemented\",\"Nondemented\",\"Nondemented\",\"Nondemented\",\"Demented\",\"Demented\",\"Demented\",\"Demented\",\"Nondemented\",\"Nondemented\",\"Nondemented\",\"Nondemented\",\"Nondemented\",\"Nondemented\",\"Demented\",\"Demented\",\"Demented\",\"Demented\",\"Nondemented\",\"Nondemented\",\"Nondemented\",\"Nondemented\",\"Converted\",\"Converted\",\"Converted\",\"Converted\",\"Converted\",\"Converted\",\"Demented\",\"Demented\",\"Nondemented\",\"Nondemented\",\"Demented\",\"Demented\",\"Demented\",\"Demented\",\"Nondemented\",\"Nondemented\",\"Nondemented\",\"Nondemented\",\"Demented\",\"Demented\",\"Nondemented\",\"Nondemented\",\"Nondemented\",\"Nondemented\",\"Converted\",\"Converted\",\"Converted\",\"Demented\",\"Demented\",\"Nondemented\",\"Nondemented\",\"Nondemented\",\"Nondemented\",\"Nondemented\",\"Nondemented\",\"Nondemented\",\"Nondemented\",\"Nondemented\",\"Nondemented\",\"Demented\",\"Demented\",\"Demented\",\"Demented\",\"Demented\",\"Demented\",\"Demented\",\"Demented\",\"Demented\",\"Converted\",\"Converted\",\"Converted\",\"Nondemented\",\"Nondemented\",\"Demented\",\"Demented\",\"Demented\",\"Demented\",\"Demented\",\"Nondemented\",\"Nondemented\",\"Demented\",\"Demented\",\"Nondemented\",\"Nondemented\",\"Demented\",\"Demented\",\"Demented\",\"Demented\",\"Demented\",\"Nondemented\",\"Nondemented\",\"Nondemented\",\"Demented\",\"Demented\",\"Nondemented\",\"Nondemented\",\"Nondemented\",\"Nondemented\",\"Nondemented\",\"Nondemented\",\"Nondemented\",\"Converted\",\"Converted\",\"Nondemented\",\"Nondemented\",\"Nondemented\",\"Nondemented\",\"Nondemented\",\"Nondemented\",\"Nondemented\",\"Demented\",\"Demented\",\"Demented\",\"Demented\",\"Demented\",\"Nondemented\",\"Nondemented\",\"Nondemented\",\"Nondemented\",\"Nondemented\",\"Nondemented\",\"Demented\",\"Demented\",\"Demented\",\"Demented\",\"Demented\",\"Nondemented\",\"Nondemented\",\"Nondemented\",\"Nondemented\",\"Nondemented\",\"Nondemented\",\"Nondemented\",\"Nondemented\",\"Nondemented\",\"Nondemented\",\"Nondemented\",\"Nondemented\",\"Nondemented\",\"Demented\",\"Demented\",\"Nondemented\",\"Nondemented\",\"Nondemented\",\"Nondemented\",\"Nondemented\",\"Demented\",\"Demented\",\"Nondemented\",\"Nondemented\",\"Nondemented\",\"Nondemented\",\"Nondemented\",\"Nondemented\",\"Nondemented\",\"Nondemented\",\"Demented\",\"Demented\",\"Demented\",\"Demented\",\"Demented\",\"Demented\",\"Demented\",\"Demented\",\"Nondemented\",\"Nondemented\",\"Nondemented\",\"Nondemented\",\"Demented\",\"Demented\",\"Demented\",\"Demented\",\"Demented\",\"Demented\",\"Nondemented\",\"Nondemented\",\"Nondemented\",\"Nondemented\",\"Nondemented\",\"Converted\",\"Converted\",\"Nondemented\",\"Nondemented\",\"Nondemented\",\"Nondemented\",\"Nondemented\",\"Nondemented\",\"Nondemented\",\"Nondemented\",\"Nondemented\",\"Demented\",\"Demented\",\"Nondemented\",\"Nondemented\",\"Nondemented\",\"Nondemented\",\"Nondemented\",\"Nondemented\",\"Demented\",\"Demented\",\"Demented\",\"Converted\",\"Converted\",\"Converted\",\"Demented\",\"Demented\",\"Nondemented\",\"Nondemented\",\"Demented\",\"Demented\",\"Demented\",\"Demented\",\"Nondemented\",\"Nondemented\",\"Demented\",\"Demented\",\"Demented\",\"Demented\",\"Demented\",\"Demented\",\"Demented\",\"Demented\",\"Nondemented\",\"Nondemented\",\"Nondemented\",\"Nondemented\",\"Converted\",\"Converted\",\"Nondemented\",\"Nondemented\",\"Nondemented\",\"Demented\",\"Demented\",\"Nondemented\",\"Nondemented\",\"Nondemented\",\"Nondemented\",\"Demented\",\"Demented\",\"Nondemented\",\"Nondemented\",\"Nondemented\",\"Converted\",\"Converted\",\"Converted\",\"Converted\",\"Converted\",\"Nondemented\",\"Nondemented\",\"Nondemented\",\"Nondemented\",\"Nondemented\",\"Converted\",\"Converted\",\"Converted\",\"Converted\",\"Demented\",\"Demented\",\"Nondemented\",\"Nondemented\",\"Demented\",\"Demented\",\"Nondemented\",\"Nondemented\",\"Demented\",\"Demented\",\"Demented\",\"Demented\",\"Demented\",\"Nondemented\",\"Nondemented\",\"Nondemented\",\"Nondemented\",\"Nondemented\",\"Nondemented\",\"Nondemented\",\"Converted\",\"Converted\",\"Converted\",\"Converted\",\"Demented\",\"Demented\",\"Nondemented\",\"Nondemented\",\"Nondemented\",\"Nondemented\",\"Nondemented\",\"Nondemented\",\"Demented\",\"Demented\",\"Nondemented\",\"Nondemented\",\"Nondemented\",\"Nondemented\",\"Nondemented\",\"Nondemented\",\"Nondemented\",\"Demented\",\"Demented\",\"Nondemented\",\"Nondemented\",\"Demented\",\"Demented\",\"Nondemented\",\"Nondemented\",\"Nondemented\",\"Demented\",\"Demented\",\"Demented\",\"Demented\",\"Demented\",\"Demented\",\"Nondemented\",\"Nondemented\",\"Nondemented\",\"Nondemented\",\"Nondemented\",\"Demented\",\"Demented\",\"Nondemented\",\"Nondemented\",\"Nondemented\",\"Demented\",\"Demented\",\"Demented\",\"Converted\",\"Converted\",\"Converted\",\"Nondemented\",\"Nondemented\",\"Nondemented\",\"Nondemented\",\"Nondemented\",\"Demented\",\"Demented\",\"Nondemented\",\"Nondemented\",\"Nondemented\",\"Nondemented\",\"Demented\",\"Demented\",\"Demented\",\"Demented\",\"Demented\",\"Nondemented\",\"Nondemented\",\"Nondemented\"],\"y\":[87,88,88,90,80,83,85,93,95,68,69,66,68,78,80,83,81,82,85,76,77,88,90,80,81,85,86,87,88,92,80,82,84,72,76,61,64,86,87,82,84,69,71,73,74,64,66,77,80,60,62,86,88,91,90,92,79,80,82,84,88,89,69,70,73,75,82,85,88,89,81,83,84,86,88,71,73,75,70,73,72,73,68,69,71,75,77,83,85,77,78,66,66,68,68,69,69,70,71,71,72,92,94,97,74,78,82,84,85,87,65,67,71,73,81,83,85,78,79,80,75,78,68,70,72,79,81,83,78,81,82,61,62,67,68,71,73,88,90,81,82,80,82,84,85,86,83,84,70,72,75,76,77,73,75,66,69,71,69,73,89,91,92,69,71,73,66,68,69,82,84,78,80,63,65,96,98,78,80,70,72,73,75,76,75,78,83,84,61,63,71,72,74,89,91,74,77,66,67,77,80,82,71,74,76,82,84,86,69,74,75,70,71,86,87,70,72,77,79,81,83,62,65,76,78,73,75,73,75,73,74,76,78,67,71,81,83,85,76,78,73,74,86,88,70,71,74,75,77,79,81,81,84,86,76,79,78,80,82,65,67,78,81,70,71,74,78,74,75,73,75,67,68,76,78,81,65,68,69,71,89,91,93,77,79,68,73,80,82,77,78,80,82,81,83,73,75,66,68,69,75,77,78,81,73,75,73,76,73,76,77,79,80,82,84,77,79,78,80,71,73,76,77,81,75,79,60,62,64,70,72,73,84,87,89,68,70,89,90,93,79,81,66,66,68,72,72,73,80,82,86,61,63,65],\"type\":\"scatter\"}],                        {\"template\":{\"data\":{\"histogram2dcontour\":[{\"type\":\"histogram2dcontour\",\"colorbar\":{\"outlinewidth\":0,\"ticks\":\"\"},\"colorscale\":[[0.0,\"#0d0887\"],[0.1111111111111111,\"#46039f\"],[0.2222222222222222,\"#7201a8\"],[0.3333333333333333,\"#9c179e\"],[0.4444444444444444,\"#bd3786\"],[0.5555555555555556,\"#d8576b\"],[0.6666666666666666,\"#ed7953\"],[0.7777777777777778,\"#fb9f3a\"],[0.8888888888888888,\"#fdca26\"],[1.0,\"#f0f921\"]]}],\"choropleth\":[{\"type\":\"choropleth\",\"colorbar\":{\"outlinewidth\":0,\"ticks\":\"\"}}],\"histogram2d\":[{\"type\":\"histogram2d\",\"colorbar\":{\"outlinewidth\":0,\"ticks\":\"\"},\"colorscale\":[[0.0,\"#0d0887\"],[0.1111111111111111,\"#46039f\"],[0.2222222222222222,\"#7201a8\"],[0.3333333333333333,\"#9c179e\"],[0.4444444444444444,\"#bd3786\"],[0.5555555555555556,\"#d8576b\"],[0.6666666666666666,\"#ed7953\"],[0.7777777777777778,\"#fb9f3a\"],[0.8888888888888888,\"#fdca26\"],[1.0,\"#f0f921\"]]}],\"heatmap\":[{\"type\":\"heatmap\",\"colorbar\":{\"outlinewidth\":0,\"ticks\":\"\"},\"colorscale\":[[0.0,\"#0d0887\"],[0.1111111111111111,\"#46039f\"],[0.2222222222222222,\"#7201a8\"],[0.3333333333333333,\"#9c179e\"],[0.4444444444444444,\"#bd3786\"],[0.5555555555555556,\"#d8576b\"],[0.6666666666666666,\"#ed7953\"],[0.7777777777777778,\"#fb9f3a\"],[0.8888888888888888,\"#fdca26\"],[1.0,\"#f0f921\"]]}],\"heatmapgl\":[{\"type\":\"heatmapgl\",\"colorbar\":{\"outlinewidth\":0,\"ticks\":\"\"},\"colorscale\":[[0.0,\"#0d0887\"],[0.1111111111111111,\"#46039f\"],[0.2222222222222222,\"#7201a8\"],[0.3333333333333333,\"#9c179e\"],[0.4444444444444444,\"#bd3786\"],[0.5555555555555556,\"#d8576b\"],[0.6666666666666666,\"#ed7953\"],[0.7777777777777778,\"#fb9f3a\"],[0.8888888888888888,\"#fdca26\"],[1.0,\"#f0f921\"]]}],\"contourcarpet\":[{\"type\":\"contourcarpet\",\"colorbar\":{\"outlinewidth\":0,\"ticks\":\"\"}}],\"contour\":[{\"type\":\"contour\",\"colorbar\":{\"outlinewidth\":0,\"ticks\":\"\"},\"colorscale\":[[0.0,\"#0d0887\"],[0.1111111111111111,\"#46039f\"],[0.2222222222222222,\"#7201a8\"],[0.3333333333333333,\"#9c179e\"],[0.4444444444444444,\"#bd3786\"],[0.5555555555555556,\"#d8576b\"],[0.6666666666666666,\"#ed7953\"],[0.7777777777777778,\"#fb9f3a\"],[0.8888888888888888,\"#fdca26\"],[1.0,\"#f0f921\"]]}],\"surface\":[{\"type\":\"surface\",\"colorbar\":{\"outlinewidth\":0,\"ticks\":\"\"},\"colorscale\":[[0.0,\"#0d0887\"],[0.1111111111111111,\"#46039f\"],[0.2222222222222222,\"#7201a8\"],[0.3333333333333333,\"#9c179e\"],[0.4444444444444444,\"#bd3786\"],[0.5555555555555556,\"#d8576b\"],[0.6666666666666666,\"#ed7953\"],[0.7777777777777778,\"#fb9f3a\"],[0.8888888888888888,\"#fdca26\"],[1.0,\"#f0f921\"]]}],\"mesh3d\":[{\"type\":\"mesh3d\",\"colorbar\":{\"outlinewidth\":0,\"ticks\":\"\"}}],\"scatter\":[{\"fillpattern\":{\"fillmode\":\"overlay\",\"size\":10,\"solidity\":0.2},\"type\":\"scatter\"}],\"parcoords\":[{\"type\":\"parcoords\",\"line\":{\"colorbar\":{\"outlinewidth\":0,\"ticks\":\"\"}}}],\"scatterpolargl\":[{\"type\":\"scatterpolargl\",\"marker\":{\"colorbar\":{\"outlinewidth\":0,\"ticks\":\"\"}}}],\"bar\":[{\"error_x\":{\"color\":\"#2a3f5f\"},\"error_y\":{\"color\":\"#2a3f5f\"},\"marker\":{\"line\":{\"color\":\"#E5ECF6\",\"width\":0.5},\"pattern\":{\"fillmode\":\"overlay\",\"size\":10,\"solidity\":0.2}},\"type\":\"bar\"}],\"scattergeo\":[{\"type\":\"scattergeo\",\"marker\":{\"colorbar\":{\"outlinewidth\":0,\"ticks\":\"\"}}}],\"scatterpolar\":[{\"type\":\"scatterpolar\",\"marker\":{\"colorbar\":{\"outlinewidth\":0,\"ticks\":\"\"}}}],\"histogram\":[{\"marker\":{\"pattern\":{\"fillmode\":\"overlay\",\"size\":10,\"solidity\":0.2}},\"type\":\"histogram\"}],\"scattergl\":[{\"type\":\"scattergl\",\"marker\":{\"colorbar\":{\"outlinewidth\":0,\"ticks\":\"\"}}}],\"scatter3d\":[{\"type\":\"scatter3d\",\"line\":{\"colorbar\":{\"outlinewidth\":0,\"ticks\":\"\"}},\"marker\":{\"colorbar\":{\"outlinewidth\":0,\"ticks\":\"\"}}}],\"scattermapbox\":[{\"type\":\"scattermapbox\",\"marker\":{\"colorbar\":{\"outlinewidth\":0,\"ticks\":\"\"}}}],\"scatterternary\":[{\"type\":\"scatterternary\",\"marker\":{\"colorbar\":{\"outlinewidth\":0,\"ticks\":\"\"}}}],\"scattercarpet\":[{\"type\":\"scattercarpet\",\"marker\":{\"colorbar\":{\"outlinewidth\":0,\"ticks\":\"\"}}}],\"carpet\":[{\"aaxis\":{\"endlinecolor\":\"#2a3f5f\",\"gridcolor\":\"white\",\"linecolor\":\"white\",\"minorgridcolor\":\"white\",\"startlinecolor\":\"#2a3f5f\"},\"baxis\":{\"endlinecolor\":\"#2a3f5f\",\"gridcolor\":\"white\",\"linecolor\":\"white\",\"minorgridcolor\":\"white\",\"startlinecolor\":\"#2a3f5f\"},\"type\":\"carpet\"}],\"table\":[{\"cells\":{\"fill\":{\"color\":\"#EBF0F8\"},\"line\":{\"color\":\"white\"}},\"header\":{\"fill\":{\"color\":\"#C8D4E3\"},\"line\":{\"color\":\"white\"}},\"type\":\"table\"}],\"barpolar\":[{\"marker\":{\"line\":{\"color\":\"#E5ECF6\",\"width\":0.5},\"pattern\":{\"fillmode\":\"overlay\",\"size\":10,\"solidity\":0.2}},\"type\":\"barpolar\"}],\"pie\":[{\"automargin\":true,\"type\":\"pie\"}]},\"layout\":{\"autotypenumbers\":\"strict\",\"colorway\":[\"#636efa\",\"#EF553B\",\"#00cc96\",\"#ab63fa\",\"#FFA15A\",\"#19d3f3\",\"#FF6692\",\"#B6E880\",\"#FF97FF\",\"#FECB52\"],\"font\":{\"color\":\"#2a3f5f\"},\"hovermode\":\"closest\",\"hoverlabel\":{\"align\":\"left\"},\"paper_bgcolor\":\"white\",\"plot_bgcolor\":\"#E5ECF6\",\"polar\":{\"bgcolor\":\"#E5ECF6\",\"angularaxis\":{\"gridcolor\":\"white\",\"linecolor\":\"white\",\"ticks\":\"\"},\"radialaxis\":{\"gridcolor\":\"white\",\"linecolor\":\"white\",\"ticks\":\"\"}},\"ternary\":{\"bgcolor\":\"#E5ECF6\",\"aaxis\":{\"gridcolor\":\"white\",\"linecolor\":\"white\",\"ticks\":\"\"},\"baxis\":{\"gridcolor\":\"white\",\"linecolor\":\"white\",\"ticks\":\"\"},\"caxis\":{\"gridcolor\":\"white\",\"linecolor\":\"white\",\"ticks\":\"\"}},\"coloraxis\":{\"colorbar\":{\"outlinewidth\":0,\"ticks\":\"\"}},\"colorscale\":{\"sequential\":[[0.0,\"#0d0887\"],[0.1111111111111111,\"#46039f\"],[0.2222222222222222,\"#7201a8\"],[0.3333333333333333,\"#9c179e\"],[0.4444444444444444,\"#bd3786\"],[0.5555555555555556,\"#d8576b\"],[0.6666666666666666,\"#ed7953\"],[0.7777777777777778,\"#fb9f3a\"],[0.8888888888888888,\"#fdca26\"],[1.0,\"#f0f921\"]],\"sequentialminus\":[[0.0,\"#0d0887\"],[0.1111111111111111,\"#46039f\"],[0.2222222222222222,\"#7201a8\"],[0.3333333333333333,\"#9c179e\"],[0.4444444444444444,\"#bd3786\"],[0.5555555555555556,\"#d8576b\"],[0.6666666666666666,\"#ed7953\"],[0.7777777777777778,\"#fb9f3a\"],[0.8888888888888888,\"#fdca26\"],[1.0,\"#f0f921\"]],\"diverging\":[[0,\"#8e0152\"],[0.1,\"#c51b7d\"],[0.2,\"#de77ae\"],[0.3,\"#f1b6da\"],[0.4,\"#fde0ef\"],[0.5,\"#f7f7f7\"],[0.6,\"#e6f5d0\"],[0.7,\"#b8e186\"],[0.8,\"#7fbc41\"],[0.9,\"#4d9221\"],[1,\"#276419\"]]},\"xaxis\":{\"gridcolor\":\"white\",\"linecolor\":\"white\",\"ticks\":\"\",\"title\":{\"standoff\":15},\"zerolinecolor\":\"white\",\"automargin\":true,\"zerolinewidth\":2},\"yaxis\":{\"gridcolor\":\"white\",\"linecolor\":\"white\",\"ticks\":\"\",\"title\":{\"standoff\":15},\"zerolinecolor\":\"white\",\"automargin\":true,\"zerolinewidth\":2},\"scene\":{\"xaxis\":{\"backgroundcolor\":\"#E5ECF6\",\"gridcolor\":\"white\",\"linecolor\":\"white\",\"showbackground\":true,\"ticks\":\"\",\"zerolinecolor\":\"white\",\"gridwidth\":2},\"yaxis\":{\"backgroundcolor\":\"#E5ECF6\",\"gridcolor\":\"white\",\"linecolor\":\"white\",\"showbackground\":true,\"ticks\":\"\",\"zerolinecolor\":\"white\",\"gridwidth\":2},\"zaxis\":{\"backgroundcolor\":\"#E5ECF6\",\"gridcolor\":\"white\",\"linecolor\":\"white\",\"showbackground\":true,\"ticks\":\"\",\"zerolinecolor\":\"white\",\"gridwidth\":2}},\"shapedefaults\":{\"line\":{\"color\":\"#2a3f5f\"}},\"annotationdefaults\":{\"arrowcolor\":\"#2a3f5f\",\"arrowhead\":0,\"arrowwidth\":1},\"geo\":{\"bgcolor\":\"white\",\"landcolor\":\"#E5ECF6\",\"subunitcolor\":\"white\",\"showland\":true,\"showlakes\":true,\"lakecolor\":\"white\"},\"title\":{\"x\":0.05},\"mapbox\":{\"style\":\"light\"}}}},                        {\"responsive\": true}                    ).then(function(){\n",
       "                            \n",
       "var gd = document.getElementById('14ba4ced-9957-453b-9b73-76370790ecda');\n",
       "var x = new MutationObserver(function (mutations, observer) {{\n",
       "        var display = window.getComputedStyle(gd).display;\n",
       "        if (!display || display === 'none') {{\n",
       "            console.log([gd, 'removed!']);\n",
       "            Plotly.purge(gd);\n",
       "            observer.disconnect();\n",
       "        }}\n",
       "}});\n",
       "\n",
       "// Listen for the removal of the full notebook cells\n",
       "var notebookContainer = gd.closest('#notebook-container');\n",
       "if (notebookContainer) {{\n",
       "    x.observe(notebookContainer, {childList: true});\n",
       "}}\n",
       "\n",
       "// Listen for the clearing of the current output cell\n",
       "var outputEl = gd.closest('.output');\n",
       "if (outputEl) {{\n",
       "    x.observe(outputEl, {childList: true});\n",
       "}}\n",
       "\n",
       "                        })                };                });            </script>        </div>"
      ]
     },
     "metadata": {},
     "output_type": "display_data"
    }
   ],
   "source": [
    "import plotly.graph_objects as go\n",
    "fig = go.Figure(data=go.Scatter(x=dfad['Group'],\n",
    "                                y=dfad['Age'],\n",
    "                                mode='markers',\n",
    "                                marker_color=dfad['Age'],\n",
    "                               ))\n",
    "\n",
    "fig.show()"
   ]
  },
  {
   "cell_type": "code",
   "execution_count": 22,
   "id": "a2e42320",
   "metadata": {
    "scrolled": true
   },
   "outputs": [
    {
     "data": {
      "application/vnd.plotly.v1+json": {
       "config": {
        "linkText": "Export to plot.ly",
        "plotlyServerURL": "https://plot.ly",
        "showLink": true
       },
       "data": [
        {
         "line": {
          "color": "rgba(255, 153, 51, 1.0)",
          "dash": "solid",
          "shape": "linear",
          "width": 1.3
         },
         "mode": "lines",
         "name": "Age",
         "text": "",
         "type": "scatter",
         "x": [
          0,
          1,
          5,
          6,
          7,
          8,
          9,
          13,
          14,
          15,
          16,
          17,
          18,
          19,
          20,
          21,
          22,
          23,
          24,
          25,
          26,
          27,
          28,
          29,
          30,
          31,
          32,
          33,
          34,
          35,
          36,
          37,
          38,
          39,
          40,
          41,
          42,
          43,
          44,
          45,
          46,
          47,
          48,
          49,
          50,
          51,
          52,
          53,
          54,
          55,
          56,
          57,
          58,
          59,
          60,
          61,
          62,
          63,
          64,
          65,
          66,
          67,
          68,
          69,
          70,
          71,
          72,
          73,
          74,
          75,
          76,
          77,
          78,
          79,
          80,
          81,
          82,
          83,
          84,
          85,
          86,
          87,
          88,
          89,
          90,
          91,
          92,
          93,
          94,
          95,
          96,
          97,
          98,
          99,
          100,
          101,
          102,
          103,
          104,
          105,
          106,
          107,
          108,
          109,
          110,
          111,
          112,
          113,
          114,
          115,
          116,
          117,
          118,
          119,
          120,
          121,
          122,
          123,
          124,
          125,
          126,
          127,
          128,
          129,
          130,
          131,
          132,
          133,
          136,
          137,
          138,
          139,
          140,
          141,
          142,
          143,
          144,
          145,
          146,
          147,
          148,
          149,
          150,
          151,
          152,
          153,
          154,
          155,
          156,
          157,
          158,
          159,
          160,
          161,
          162,
          163,
          164,
          165,
          166,
          167,
          168,
          169,
          170,
          171,
          172,
          173,
          174,
          175,
          176,
          177,
          178,
          179,
          180,
          181,
          182,
          183,
          184,
          185,
          186,
          187,
          188,
          189,
          190,
          191,
          192,
          193,
          194,
          195,
          196,
          197,
          198,
          199,
          200,
          201,
          202,
          203,
          204,
          205,
          206,
          209,
          210,
          211,
          212,
          213,
          214,
          215,
          216,
          217,
          218,
          219,
          220,
          221,
          222,
          223,
          224,
          225,
          226,
          227,
          228,
          229,
          230,
          231,
          232,
          233,
          234,
          235,
          236,
          239,
          240,
          241,
          242,
          243,
          244,
          245,
          246,
          247,
          248,
          249,
          250,
          251,
          252,
          253,
          254,
          255,
          256,
          257,
          258,
          259,
          260,
          261,
          262,
          263,
          264,
          265,
          266,
          267,
          268,
          269,
          270,
          271,
          272,
          273,
          274,
          275,
          276,
          277,
          278,
          279,
          280,
          281,
          282,
          283,
          284,
          285,
          286,
          287,
          288,
          289,
          290,
          291,
          292,
          293,
          294,
          295,
          296,
          297,
          298,
          299,
          300,
          301,
          302,
          303,
          304,
          305,
          306,
          307,
          308,
          309,
          310,
          311,
          312,
          313,
          314,
          315,
          316,
          317,
          318,
          319,
          320,
          321,
          324,
          325,
          326,
          327,
          328,
          329,
          330,
          331,
          332,
          333,
          334,
          335,
          336,
          337,
          338,
          339,
          340,
          341,
          342,
          343,
          344,
          345,
          346,
          347,
          348,
          349,
          350,
          351,
          352,
          353,
          354,
          355,
          361,
          362,
          363,
          364,
          365,
          366,
          367,
          368,
          369,
          370,
          371,
          372
         ],
         "y": [
          87,
          88,
          88,
          90,
          80,
          83,
          85,
          93,
          95,
          68,
          69,
          66,
          68,
          78,
          80,
          83,
          81,
          82,
          85,
          76,
          77,
          88,
          90,
          80,
          81,
          85,
          86,
          87,
          88,
          92,
          80,
          82,
          84,
          72,
          76,
          61,
          64,
          86,
          87,
          82,
          84,
          69,
          71,
          73,
          74,
          64,
          66,
          77,
          80,
          60,
          62,
          86,
          88,
          91,
          90,
          92,
          79,
          80,
          82,
          84,
          88,
          89,
          69,
          70,
          73,
          75,
          82,
          85,
          88,
          89,
          81,
          83,
          84,
          86,
          88,
          71,
          73,
          75,
          70,
          73,
          72,
          73,
          68,
          69,
          71,
          75,
          77,
          83,
          85,
          77,
          78,
          66,
          66,
          68,
          68,
          69,
          69,
          70,
          71,
          71,
          72,
          92,
          94,
          97,
          74,
          78,
          82,
          84,
          85,
          87,
          65,
          67,
          71,
          73,
          81,
          83,
          85,
          78,
          79,
          80,
          75,
          78,
          68,
          70,
          72,
          79,
          81,
          83,
          78,
          81,
          82,
          61,
          62,
          67,
          68,
          71,
          73,
          88,
          90,
          81,
          82,
          80,
          82,
          84,
          85,
          86,
          83,
          84,
          70,
          72,
          75,
          76,
          77,
          73,
          75,
          66,
          69,
          71,
          69,
          73,
          89,
          91,
          92,
          69,
          71,
          73,
          66,
          68,
          69,
          82,
          84,
          78,
          80,
          63,
          65,
          96,
          98,
          78,
          80,
          70,
          72,
          73,
          75,
          76,
          75,
          78,
          83,
          84,
          61,
          63,
          71,
          72,
          74,
          89,
          91,
          74,
          77,
          66,
          67,
          77,
          80,
          82,
          71,
          74,
          76,
          82,
          84,
          86,
          69,
          74,
          75,
          70,
          71,
          86,
          87,
          70,
          72,
          77,
          79,
          81,
          83,
          62,
          65,
          76,
          78,
          73,
          75,
          73,
          75,
          73,
          74,
          76,
          78,
          67,
          71,
          81,
          83,
          85,
          76,
          78,
          73,
          74,
          86,
          88,
          70,
          71,
          74,
          75,
          77,
          79,
          81,
          81,
          84,
          86,
          76,
          79,
          78,
          80,
          82,
          65,
          67,
          78,
          81,
          70,
          71,
          74,
          78,
          74,
          75,
          73,
          75,
          67,
          68,
          76,
          78,
          81,
          65,
          68,
          69,
          71,
          89,
          91,
          93,
          77,
          79,
          68,
          73,
          80,
          82,
          77,
          78,
          80,
          82,
          81,
          83,
          73,
          75,
          66,
          68,
          69,
          75,
          77,
          78,
          81,
          73,
          75,
          73,
          76,
          73,
          76,
          77,
          79,
          80,
          82,
          84,
          77,
          79,
          78,
          80,
          71,
          73,
          76,
          77,
          81,
          75,
          79,
          60,
          62,
          64,
          70,
          72,
          73,
          84,
          87,
          89,
          68,
          70,
          89,
          90,
          93,
          79,
          81,
          66,
          66,
          68,
          72,
          72,
          73,
          80,
          82,
          86,
          61,
          63,
          65
         ]
        }
       ],
       "layout": {
        "legend": {
         "bgcolor": "#F5F6F9",
         "font": {
          "color": "#4D5663"
         }
        },
        "paper_bgcolor": "#F5F6F9",
        "plot_bgcolor": "#F5F6F9",
        "template": {
         "data": {
          "bar": [
           {
            "error_x": {
             "color": "#2a3f5f"
            },
            "error_y": {
             "color": "#2a3f5f"
            },
            "marker": {
             "line": {
              "color": "#E5ECF6",
              "width": 0.5
             },
             "pattern": {
              "fillmode": "overlay",
              "size": 10,
              "solidity": 0.2
             }
            },
            "type": "bar"
           }
          ],
          "barpolar": [
           {
            "marker": {
             "line": {
              "color": "#E5ECF6",
              "width": 0.5
             },
             "pattern": {
              "fillmode": "overlay",
              "size": 10,
              "solidity": 0.2
             }
            },
            "type": "barpolar"
           }
          ],
          "carpet": [
           {
            "aaxis": {
             "endlinecolor": "#2a3f5f",
             "gridcolor": "white",
             "linecolor": "white",
             "minorgridcolor": "white",
             "startlinecolor": "#2a3f5f"
            },
            "baxis": {
             "endlinecolor": "#2a3f5f",
             "gridcolor": "white",
             "linecolor": "white",
             "minorgridcolor": "white",
             "startlinecolor": "#2a3f5f"
            },
            "type": "carpet"
           }
          ],
          "choropleth": [
           {
            "colorbar": {
             "outlinewidth": 0,
             "ticks": ""
            },
            "type": "choropleth"
           }
          ],
          "contour": [
           {
            "colorbar": {
             "outlinewidth": 0,
             "ticks": ""
            },
            "colorscale": [
             [
              0,
              "#0d0887"
             ],
             [
              0.1111111111111111,
              "#46039f"
             ],
             [
              0.2222222222222222,
              "#7201a8"
             ],
             [
              0.3333333333333333,
              "#9c179e"
             ],
             [
              0.4444444444444444,
              "#bd3786"
             ],
             [
              0.5555555555555556,
              "#d8576b"
             ],
             [
              0.6666666666666666,
              "#ed7953"
             ],
             [
              0.7777777777777778,
              "#fb9f3a"
             ],
             [
              0.8888888888888888,
              "#fdca26"
             ],
             [
              1,
              "#f0f921"
             ]
            ],
            "type": "contour"
           }
          ],
          "contourcarpet": [
           {
            "colorbar": {
             "outlinewidth": 0,
             "ticks": ""
            },
            "type": "contourcarpet"
           }
          ],
          "heatmap": [
           {
            "colorbar": {
             "outlinewidth": 0,
             "ticks": ""
            },
            "colorscale": [
             [
              0,
              "#0d0887"
             ],
             [
              0.1111111111111111,
              "#46039f"
             ],
             [
              0.2222222222222222,
              "#7201a8"
             ],
             [
              0.3333333333333333,
              "#9c179e"
             ],
             [
              0.4444444444444444,
              "#bd3786"
             ],
             [
              0.5555555555555556,
              "#d8576b"
             ],
             [
              0.6666666666666666,
              "#ed7953"
             ],
             [
              0.7777777777777778,
              "#fb9f3a"
             ],
             [
              0.8888888888888888,
              "#fdca26"
             ],
             [
              1,
              "#f0f921"
             ]
            ],
            "type": "heatmap"
           }
          ],
          "heatmapgl": [
           {
            "colorbar": {
             "outlinewidth": 0,
             "ticks": ""
            },
            "colorscale": [
             [
              0,
              "#0d0887"
             ],
             [
              0.1111111111111111,
              "#46039f"
             ],
             [
              0.2222222222222222,
              "#7201a8"
             ],
             [
              0.3333333333333333,
              "#9c179e"
             ],
             [
              0.4444444444444444,
              "#bd3786"
             ],
             [
              0.5555555555555556,
              "#d8576b"
             ],
             [
              0.6666666666666666,
              "#ed7953"
             ],
             [
              0.7777777777777778,
              "#fb9f3a"
             ],
             [
              0.8888888888888888,
              "#fdca26"
             ],
             [
              1,
              "#f0f921"
             ]
            ],
            "type": "heatmapgl"
           }
          ],
          "histogram": [
           {
            "marker": {
             "pattern": {
              "fillmode": "overlay",
              "size": 10,
              "solidity": 0.2
             }
            },
            "type": "histogram"
           }
          ],
          "histogram2d": [
           {
            "colorbar": {
             "outlinewidth": 0,
             "ticks": ""
            },
            "colorscale": [
             [
              0,
              "#0d0887"
             ],
             [
              0.1111111111111111,
              "#46039f"
             ],
             [
              0.2222222222222222,
              "#7201a8"
             ],
             [
              0.3333333333333333,
              "#9c179e"
             ],
             [
              0.4444444444444444,
              "#bd3786"
             ],
             [
              0.5555555555555556,
              "#d8576b"
             ],
             [
              0.6666666666666666,
              "#ed7953"
             ],
             [
              0.7777777777777778,
              "#fb9f3a"
             ],
             [
              0.8888888888888888,
              "#fdca26"
             ],
             [
              1,
              "#f0f921"
             ]
            ],
            "type": "histogram2d"
           }
          ],
          "histogram2dcontour": [
           {
            "colorbar": {
             "outlinewidth": 0,
             "ticks": ""
            },
            "colorscale": [
             [
              0,
              "#0d0887"
             ],
             [
              0.1111111111111111,
              "#46039f"
             ],
             [
              0.2222222222222222,
              "#7201a8"
             ],
             [
              0.3333333333333333,
              "#9c179e"
             ],
             [
              0.4444444444444444,
              "#bd3786"
             ],
             [
              0.5555555555555556,
              "#d8576b"
             ],
             [
              0.6666666666666666,
              "#ed7953"
             ],
             [
              0.7777777777777778,
              "#fb9f3a"
             ],
             [
              0.8888888888888888,
              "#fdca26"
             ],
             [
              1,
              "#f0f921"
             ]
            ],
            "type": "histogram2dcontour"
           }
          ],
          "mesh3d": [
           {
            "colorbar": {
             "outlinewidth": 0,
             "ticks": ""
            },
            "type": "mesh3d"
           }
          ],
          "parcoords": [
           {
            "line": {
             "colorbar": {
              "outlinewidth": 0,
              "ticks": ""
             }
            },
            "type": "parcoords"
           }
          ],
          "pie": [
           {
            "automargin": true,
            "type": "pie"
           }
          ],
          "scatter": [
           {
            "fillpattern": {
             "fillmode": "overlay",
             "size": 10,
             "solidity": 0.2
            },
            "type": "scatter"
           }
          ],
          "scatter3d": [
           {
            "line": {
             "colorbar": {
              "outlinewidth": 0,
              "ticks": ""
             }
            },
            "marker": {
             "colorbar": {
              "outlinewidth": 0,
              "ticks": ""
             }
            },
            "type": "scatter3d"
           }
          ],
          "scattercarpet": [
           {
            "marker": {
             "colorbar": {
              "outlinewidth": 0,
              "ticks": ""
             }
            },
            "type": "scattercarpet"
           }
          ],
          "scattergeo": [
           {
            "marker": {
             "colorbar": {
              "outlinewidth": 0,
              "ticks": ""
             }
            },
            "type": "scattergeo"
           }
          ],
          "scattergl": [
           {
            "marker": {
             "colorbar": {
              "outlinewidth": 0,
              "ticks": ""
             }
            },
            "type": "scattergl"
           }
          ],
          "scattermapbox": [
           {
            "marker": {
             "colorbar": {
              "outlinewidth": 0,
              "ticks": ""
             }
            },
            "type": "scattermapbox"
           }
          ],
          "scatterpolar": [
           {
            "marker": {
             "colorbar": {
              "outlinewidth": 0,
              "ticks": ""
             }
            },
            "type": "scatterpolar"
           }
          ],
          "scatterpolargl": [
           {
            "marker": {
             "colorbar": {
              "outlinewidth": 0,
              "ticks": ""
             }
            },
            "type": "scatterpolargl"
           }
          ],
          "scatterternary": [
           {
            "marker": {
             "colorbar": {
              "outlinewidth": 0,
              "ticks": ""
             }
            },
            "type": "scatterternary"
           }
          ],
          "surface": [
           {
            "colorbar": {
             "outlinewidth": 0,
             "ticks": ""
            },
            "colorscale": [
             [
              0,
              "#0d0887"
             ],
             [
              0.1111111111111111,
              "#46039f"
             ],
             [
              0.2222222222222222,
              "#7201a8"
             ],
             [
              0.3333333333333333,
              "#9c179e"
             ],
             [
              0.4444444444444444,
              "#bd3786"
             ],
             [
              0.5555555555555556,
              "#d8576b"
             ],
             [
              0.6666666666666666,
              "#ed7953"
             ],
             [
              0.7777777777777778,
              "#fb9f3a"
             ],
             [
              0.8888888888888888,
              "#fdca26"
             ],
             [
              1,
              "#f0f921"
             ]
            ],
            "type": "surface"
           }
          ],
          "table": [
           {
            "cells": {
             "fill": {
              "color": "#EBF0F8"
             },
             "line": {
              "color": "white"
             }
            },
            "header": {
             "fill": {
              "color": "#C8D4E3"
             },
             "line": {
              "color": "white"
             }
            },
            "type": "table"
           }
          ]
         },
         "layout": {
          "annotationdefaults": {
           "arrowcolor": "#2a3f5f",
           "arrowhead": 0,
           "arrowwidth": 1
          },
          "autotypenumbers": "strict",
          "coloraxis": {
           "colorbar": {
            "outlinewidth": 0,
            "ticks": ""
           }
          },
          "colorscale": {
           "diverging": [
            [
             0,
             "#8e0152"
            ],
            [
             0.1,
             "#c51b7d"
            ],
            [
             0.2,
             "#de77ae"
            ],
            [
             0.3,
             "#f1b6da"
            ],
            [
             0.4,
             "#fde0ef"
            ],
            [
             0.5,
             "#f7f7f7"
            ],
            [
             0.6,
             "#e6f5d0"
            ],
            [
             0.7,
             "#b8e186"
            ],
            [
             0.8,
             "#7fbc41"
            ],
            [
             0.9,
             "#4d9221"
            ],
            [
             1,
             "#276419"
            ]
           ],
           "sequential": [
            [
             0,
             "#0d0887"
            ],
            [
             0.1111111111111111,
             "#46039f"
            ],
            [
             0.2222222222222222,
             "#7201a8"
            ],
            [
             0.3333333333333333,
             "#9c179e"
            ],
            [
             0.4444444444444444,
             "#bd3786"
            ],
            [
             0.5555555555555556,
             "#d8576b"
            ],
            [
             0.6666666666666666,
             "#ed7953"
            ],
            [
             0.7777777777777778,
             "#fb9f3a"
            ],
            [
             0.8888888888888888,
             "#fdca26"
            ],
            [
             1,
             "#f0f921"
            ]
           ],
           "sequentialminus": [
            [
             0,
             "#0d0887"
            ],
            [
             0.1111111111111111,
             "#46039f"
            ],
            [
             0.2222222222222222,
             "#7201a8"
            ],
            [
             0.3333333333333333,
             "#9c179e"
            ],
            [
             0.4444444444444444,
             "#bd3786"
            ],
            [
             0.5555555555555556,
             "#d8576b"
            ],
            [
             0.6666666666666666,
             "#ed7953"
            ],
            [
             0.7777777777777778,
             "#fb9f3a"
            ],
            [
             0.8888888888888888,
             "#fdca26"
            ],
            [
             1,
             "#f0f921"
            ]
           ]
          },
          "colorway": [
           "#636efa",
           "#EF553B",
           "#00cc96",
           "#ab63fa",
           "#FFA15A",
           "#19d3f3",
           "#FF6692",
           "#B6E880",
           "#FF97FF",
           "#FECB52"
          ],
          "font": {
           "color": "#2a3f5f"
          },
          "geo": {
           "bgcolor": "white",
           "lakecolor": "white",
           "landcolor": "#E5ECF6",
           "showlakes": true,
           "showland": true,
           "subunitcolor": "white"
          },
          "hoverlabel": {
           "align": "left"
          },
          "hovermode": "closest",
          "mapbox": {
           "style": "light"
          },
          "paper_bgcolor": "white",
          "plot_bgcolor": "#E5ECF6",
          "polar": {
           "angularaxis": {
            "gridcolor": "white",
            "linecolor": "white",
            "ticks": ""
           },
           "bgcolor": "#E5ECF6",
           "radialaxis": {
            "gridcolor": "white",
            "linecolor": "white",
            "ticks": ""
           }
          },
          "scene": {
           "xaxis": {
            "backgroundcolor": "#E5ECF6",
            "gridcolor": "white",
            "gridwidth": 2,
            "linecolor": "white",
            "showbackground": true,
            "ticks": "",
            "zerolinecolor": "white"
           },
           "yaxis": {
            "backgroundcolor": "#E5ECF6",
            "gridcolor": "white",
            "gridwidth": 2,
            "linecolor": "white",
            "showbackground": true,
            "ticks": "",
            "zerolinecolor": "white"
           },
           "zaxis": {
            "backgroundcolor": "#E5ECF6",
            "gridcolor": "white",
            "gridwidth": 2,
            "linecolor": "white",
            "showbackground": true,
            "ticks": "",
            "zerolinecolor": "white"
           }
          },
          "shapedefaults": {
           "line": {
            "color": "#2a3f5f"
           }
          },
          "ternary": {
           "aaxis": {
            "gridcolor": "white",
            "linecolor": "white",
            "ticks": ""
           },
           "baxis": {
            "gridcolor": "white",
            "linecolor": "white",
            "ticks": ""
           },
           "bgcolor": "#E5ECF6",
           "caxis": {
            "gridcolor": "white",
            "linecolor": "white",
            "ticks": ""
           }
          },
          "title": {
           "x": 0.05
          },
          "xaxis": {
           "automargin": true,
           "gridcolor": "white",
           "linecolor": "white",
           "ticks": "",
           "title": {
            "standoff": 15
           },
           "zerolinecolor": "white",
           "zerolinewidth": 2
          },
          "yaxis": {
           "automargin": true,
           "gridcolor": "white",
           "linecolor": "white",
           "ticks": "",
           "title": {
            "standoff": 15
           },
           "zerolinecolor": "white",
           "zerolinewidth": 2
          }
         }
        },
        "title": {
         "font": {
          "color": "#4D5663"
         }
        },
        "xaxis": {
         "gridcolor": "#E1E5ED",
         "showgrid": true,
         "tickfont": {
          "color": "#4D5663"
         },
         "title": {
          "font": {
           "color": "#4D5663"
          },
          "text": ""
         },
         "zerolinecolor": "#E1E5ED"
        },
        "yaxis": {
         "gridcolor": "#E1E5ED",
         "showgrid": true,
         "tickfont": {
          "color": "#4D5663"
         },
         "title": {
          "font": {
           "color": "#4D5663"
          },
          "text": ""
         },
         "zerolinecolor": "#E1E5ED"
        }
       }
      },
      "text/html": [
       "<div>                            <div id=\"00781305-9eb5-4ff4-afa7-76973e521b61\" class=\"plotly-graph-div\" style=\"height:525px; width:100%;\"></div>            <script type=\"text/javascript\">                require([\"plotly\"], function(Plotly) {                    window.PLOTLYENV=window.PLOTLYENV || {};\n",
       "                    window.PLOTLYENV.BASE_URL='https://plot.ly';                                    if (document.getElementById(\"00781305-9eb5-4ff4-afa7-76973e521b61\")) {                    Plotly.newPlot(                        \"00781305-9eb5-4ff4-afa7-76973e521b61\",                        [{\"line\":{\"color\":\"rgba(255, 153, 51, 1.0)\",\"dash\":\"solid\",\"shape\":\"linear\",\"width\":1.3},\"mode\":\"lines\",\"name\":\"Age\",\"text\":\"\",\"x\":[0,1,5,6,7,8,9,13,14,15,16,17,18,19,20,21,22,23,24,25,26,27,28,29,30,31,32,33,34,35,36,37,38,39,40,41,42,43,44,45,46,47,48,49,50,51,52,53,54,55,56,57,58,59,60,61,62,63,64,65,66,67,68,69,70,71,72,73,74,75,76,77,78,79,80,81,82,83,84,85,86,87,88,89,90,91,92,93,94,95,96,97,98,99,100,101,102,103,104,105,106,107,108,109,110,111,112,113,114,115,116,117,118,119,120,121,122,123,124,125,126,127,128,129,130,131,132,133,136,137,138,139,140,141,142,143,144,145,146,147,148,149,150,151,152,153,154,155,156,157,158,159,160,161,162,163,164,165,166,167,168,169,170,171,172,173,174,175,176,177,178,179,180,181,182,183,184,185,186,187,188,189,190,191,192,193,194,195,196,197,198,199,200,201,202,203,204,205,206,209,210,211,212,213,214,215,216,217,218,219,220,221,222,223,224,225,226,227,228,229,230,231,232,233,234,235,236,239,240,241,242,243,244,245,246,247,248,249,250,251,252,253,254,255,256,257,258,259,260,261,262,263,264,265,266,267,268,269,270,271,272,273,274,275,276,277,278,279,280,281,282,283,284,285,286,287,288,289,290,291,292,293,294,295,296,297,298,299,300,301,302,303,304,305,306,307,308,309,310,311,312,313,314,315,316,317,318,319,320,321,324,325,326,327,328,329,330,331,332,333,334,335,336,337,338,339,340,341,342,343,344,345,346,347,348,349,350,351,352,353,354,355,361,362,363,364,365,366,367,368,369,370,371,372],\"y\":[87,88,88,90,80,83,85,93,95,68,69,66,68,78,80,83,81,82,85,76,77,88,90,80,81,85,86,87,88,92,80,82,84,72,76,61,64,86,87,82,84,69,71,73,74,64,66,77,80,60,62,86,88,91,90,92,79,80,82,84,88,89,69,70,73,75,82,85,88,89,81,83,84,86,88,71,73,75,70,73,72,73,68,69,71,75,77,83,85,77,78,66,66,68,68,69,69,70,71,71,72,92,94,97,74,78,82,84,85,87,65,67,71,73,81,83,85,78,79,80,75,78,68,70,72,79,81,83,78,81,82,61,62,67,68,71,73,88,90,81,82,80,82,84,85,86,83,84,70,72,75,76,77,73,75,66,69,71,69,73,89,91,92,69,71,73,66,68,69,82,84,78,80,63,65,96,98,78,80,70,72,73,75,76,75,78,83,84,61,63,71,72,74,89,91,74,77,66,67,77,80,82,71,74,76,82,84,86,69,74,75,70,71,86,87,70,72,77,79,81,83,62,65,76,78,73,75,73,75,73,74,76,78,67,71,81,83,85,76,78,73,74,86,88,70,71,74,75,77,79,81,81,84,86,76,79,78,80,82,65,67,78,81,70,71,74,78,74,75,73,75,67,68,76,78,81,65,68,69,71,89,91,93,77,79,68,73,80,82,77,78,80,82,81,83,73,75,66,68,69,75,77,78,81,73,75,73,76,73,76,77,79,80,82,84,77,79,78,80,71,73,76,77,81,75,79,60,62,64,70,72,73,84,87,89,68,70,89,90,93,79,81,66,66,68,72,72,73,80,82,86,61,63,65],\"type\":\"scatter\"}],                        {\"legend\":{\"bgcolor\":\"#F5F6F9\",\"font\":{\"color\":\"#4D5663\"}},\"paper_bgcolor\":\"#F5F6F9\",\"plot_bgcolor\":\"#F5F6F9\",\"template\":{\"data\":{\"barpolar\":[{\"marker\":{\"line\":{\"color\":\"#E5ECF6\",\"width\":0.5},\"pattern\":{\"fillmode\":\"overlay\",\"size\":10,\"solidity\":0.2}},\"type\":\"barpolar\"}],\"bar\":[{\"error_x\":{\"color\":\"#2a3f5f\"},\"error_y\":{\"color\":\"#2a3f5f\"},\"marker\":{\"line\":{\"color\":\"#E5ECF6\",\"width\":0.5},\"pattern\":{\"fillmode\":\"overlay\",\"size\":10,\"solidity\":0.2}},\"type\":\"bar\"}],\"carpet\":[{\"aaxis\":{\"endlinecolor\":\"#2a3f5f\",\"gridcolor\":\"white\",\"linecolor\":\"white\",\"minorgridcolor\":\"white\",\"startlinecolor\":\"#2a3f5f\"},\"baxis\":{\"endlinecolor\":\"#2a3f5f\",\"gridcolor\":\"white\",\"linecolor\":\"white\",\"minorgridcolor\":\"white\",\"startlinecolor\":\"#2a3f5f\"},\"type\":\"carpet\"}],\"choropleth\":[{\"colorbar\":{\"outlinewidth\":0,\"ticks\":\"\"},\"type\":\"choropleth\"}],\"contourcarpet\":[{\"colorbar\":{\"outlinewidth\":0,\"ticks\":\"\"},\"type\":\"contourcarpet\"}],\"contour\":[{\"colorbar\":{\"outlinewidth\":0,\"ticks\":\"\"},\"colorscale\":[[0.0,\"#0d0887\"],[0.1111111111111111,\"#46039f\"],[0.2222222222222222,\"#7201a8\"],[0.3333333333333333,\"#9c179e\"],[0.4444444444444444,\"#bd3786\"],[0.5555555555555556,\"#d8576b\"],[0.6666666666666666,\"#ed7953\"],[0.7777777777777778,\"#fb9f3a\"],[0.8888888888888888,\"#fdca26\"],[1.0,\"#f0f921\"]],\"type\":\"contour\"}],\"heatmapgl\":[{\"colorbar\":{\"outlinewidth\":0,\"ticks\":\"\"},\"colorscale\":[[0.0,\"#0d0887\"],[0.1111111111111111,\"#46039f\"],[0.2222222222222222,\"#7201a8\"],[0.3333333333333333,\"#9c179e\"],[0.4444444444444444,\"#bd3786\"],[0.5555555555555556,\"#d8576b\"],[0.6666666666666666,\"#ed7953\"],[0.7777777777777778,\"#fb9f3a\"],[0.8888888888888888,\"#fdca26\"],[1.0,\"#f0f921\"]],\"type\":\"heatmapgl\"}],\"heatmap\":[{\"colorbar\":{\"outlinewidth\":0,\"ticks\":\"\"},\"colorscale\":[[0.0,\"#0d0887\"],[0.1111111111111111,\"#46039f\"],[0.2222222222222222,\"#7201a8\"],[0.3333333333333333,\"#9c179e\"],[0.4444444444444444,\"#bd3786\"],[0.5555555555555556,\"#d8576b\"],[0.6666666666666666,\"#ed7953\"],[0.7777777777777778,\"#fb9f3a\"],[0.8888888888888888,\"#fdca26\"],[1.0,\"#f0f921\"]],\"type\":\"heatmap\"}],\"histogram2dcontour\":[{\"colorbar\":{\"outlinewidth\":0,\"ticks\":\"\"},\"colorscale\":[[0.0,\"#0d0887\"],[0.1111111111111111,\"#46039f\"],[0.2222222222222222,\"#7201a8\"],[0.3333333333333333,\"#9c179e\"],[0.4444444444444444,\"#bd3786\"],[0.5555555555555556,\"#d8576b\"],[0.6666666666666666,\"#ed7953\"],[0.7777777777777778,\"#fb9f3a\"],[0.8888888888888888,\"#fdca26\"],[1.0,\"#f0f921\"]],\"type\":\"histogram2dcontour\"}],\"histogram2d\":[{\"colorbar\":{\"outlinewidth\":0,\"ticks\":\"\"},\"colorscale\":[[0.0,\"#0d0887\"],[0.1111111111111111,\"#46039f\"],[0.2222222222222222,\"#7201a8\"],[0.3333333333333333,\"#9c179e\"],[0.4444444444444444,\"#bd3786\"],[0.5555555555555556,\"#d8576b\"],[0.6666666666666666,\"#ed7953\"],[0.7777777777777778,\"#fb9f3a\"],[0.8888888888888888,\"#fdca26\"],[1.0,\"#f0f921\"]],\"type\":\"histogram2d\"}],\"histogram\":[{\"marker\":{\"pattern\":{\"fillmode\":\"overlay\",\"size\":10,\"solidity\":0.2}},\"type\":\"histogram\"}],\"mesh3d\":[{\"colorbar\":{\"outlinewidth\":0,\"ticks\":\"\"},\"type\":\"mesh3d\"}],\"parcoords\":[{\"line\":{\"colorbar\":{\"outlinewidth\":0,\"ticks\":\"\"}},\"type\":\"parcoords\"}],\"pie\":[{\"automargin\":true,\"type\":\"pie\"}],\"scatter3d\":[{\"line\":{\"colorbar\":{\"outlinewidth\":0,\"ticks\":\"\"}},\"marker\":{\"colorbar\":{\"outlinewidth\":0,\"ticks\":\"\"}},\"type\":\"scatter3d\"}],\"scattercarpet\":[{\"marker\":{\"colorbar\":{\"outlinewidth\":0,\"ticks\":\"\"}},\"type\":\"scattercarpet\"}],\"scattergeo\":[{\"marker\":{\"colorbar\":{\"outlinewidth\":0,\"ticks\":\"\"}},\"type\":\"scattergeo\"}],\"scattergl\":[{\"marker\":{\"colorbar\":{\"outlinewidth\":0,\"ticks\":\"\"}},\"type\":\"scattergl\"}],\"scattermapbox\":[{\"marker\":{\"colorbar\":{\"outlinewidth\":0,\"ticks\":\"\"}},\"type\":\"scattermapbox\"}],\"scatterpolargl\":[{\"marker\":{\"colorbar\":{\"outlinewidth\":0,\"ticks\":\"\"}},\"type\":\"scatterpolargl\"}],\"scatterpolar\":[{\"marker\":{\"colorbar\":{\"outlinewidth\":0,\"ticks\":\"\"}},\"type\":\"scatterpolar\"}],\"scatter\":[{\"fillpattern\":{\"fillmode\":\"overlay\",\"size\":10,\"solidity\":0.2},\"type\":\"scatter\"}],\"scatterternary\":[{\"marker\":{\"colorbar\":{\"outlinewidth\":0,\"ticks\":\"\"}},\"type\":\"scatterternary\"}],\"surface\":[{\"colorbar\":{\"outlinewidth\":0,\"ticks\":\"\"},\"colorscale\":[[0.0,\"#0d0887\"],[0.1111111111111111,\"#46039f\"],[0.2222222222222222,\"#7201a8\"],[0.3333333333333333,\"#9c179e\"],[0.4444444444444444,\"#bd3786\"],[0.5555555555555556,\"#d8576b\"],[0.6666666666666666,\"#ed7953\"],[0.7777777777777778,\"#fb9f3a\"],[0.8888888888888888,\"#fdca26\"],[1.0,\"#f0f921\"]],\"type\":\"surface\"}],\"table\":[{\"cells\":{\"fill\":{\"color\":\"#EBF0F8\"},\"line\":{\"color\":\"white\"}},\"header\":{\"fill\":{\"color\":\"#C8D4E3\"},\"line\":{\"color\":\"white\"}},\"type\":\"table\"}]},\"layout\":{\"annotationdefaults\":{\"arrowcolor\":\"#2a3f5f\",\"arrowhead\":0,\"arrowwidth\":1},\"autotypenumbers\":\"strict\",\"coloraxis\":{\"colorbar\":{\"outlinewidth\":0,\"ticks\":\"\"}},\"colorscale\":{\"diverging\":[[0,\"#8e0152\"],[0.1,\"#c51b7d\"],[0.2,\"#de77ae\"],[0.3,\"#f1b6da\"],[0.4,\"#fde0ef\"],[0.5,\"#f7f7f7\"],[0.6,\"#e6f5d0\"],[0.7,\"#b8e186\"],[0.8,\"#7fbc41\"],[0.9,\"#4d9221\"],[1,\"#276419\"]],\"sequential\":[[0.0,\"#0d0887\"],[0.1111111111111111,\"#46039f\"],[0.2222222222222222,\"#7201a8\"],[0.3333333333333333,\"#9c179e\"],[0.4444444444444444,\"#bd3786\"],[0.5555555555555556,\"#d8576b\"],[0.6666666666666666,\"#ed7953\"],[0.7777777777777778,\"#fb9f3a\"],[0.8888888888888888,\"#fdca26\"],[1.0,\"#f0f921\"]],\"sequentialminus\":[[0.0,\"#0d0887\"],[0.1111111111111111,\"#46039f\"],[0.2222222222222222,\"#7201a8\"],[0.3333333333333333,\"#9c179e\"],[0.4444444444444444,\"#bd3786\"],[0.5555555555555556,\"#d8576b\"],[0.6666666666666666,\"#ed7953\"],[0.7777777777777778,\"#fb9f3a\"],[0.8888888888888888,\"#fdca26\"],[1.0,\"#f0f921\"]]},\"colorway\":[\"#636efa\",\"#EF553B\",\"#00cc96\",\"#ab63fa\",\"#FFA15A\",\"#19d3f3\",\"#FF6692\",\"#B6E880\",\"#FF97FF\",\"#FECB52\"],\"font\":{\"color\":\"#2a3f5f\"},\"geo\":{\"bgcolor\":\"white\",\"lakecolor\":\"white\",\"landcolor\":\"#E5ECF6\",\"showlakes\":true,\"showland\":true,\"subunitcolor\":\"white\"},\"hoverlabel\":{\"align\":\"left\"},\"hovermode\":\"closest\",\"mapbox\":{\"style\":\"light\"},\"paper_bgcolor\":\"white\",\"plot_bgcolor\":\"#E5ECF6\",\"polar\":{\"angularaxis\":{\"gridcolor\":\"white\",\"linecolor\":\"white\",\"ticks\":\"\"},\"bgcolor\":\"#E5ECF6\",\"radialaxis\":{\"gridcolor\":\"white\",\"linecolor\":\"white\",\"ticks\":\"\"}},\"scene\":{\"xaxis\":{\"backgroundcolor\":\"#E5ECF6\",\"gridcolor\":\"white\",\"gridwidth\":2,\"linecolor\":\"white\",\"showbackground\":true,\"ticks\":\"\",\"zerolinecolor\":\"white\"},\"yaxis\":{\"backgroundcolor\":\"#E5ECF6\",\"gridcolor\":\"white\",\"gridwidth\":2,\"linecolor\":\"white\",\"showbackground\":true,\"ticks\":\"\",\"zerolinecolor\":\"white\"},\"zaxis\":{\"backgroundcolor\":\"#E5ECF6\",\"gridcolor\":\"white\",\"gridwidth\":2,\"linecolor\":\"white\",\"showbackground\":true,\"ticks\":\"\",\"zerolinecolor\":\"white\"}},\"shapedefaults\":{\"line\":{\"color\":\"#2a3f5f\"}},\"ternary\":{\"aaxis\":{\"gridcolor\":\"white\",\"linecolor\":\"white\",\"ticks\":\"\"},\"baxis\":{\"gridcolor\":\"white\",\"linecolor\":\"white\",\"ticks\":\"\"},\"bgcolor\":\"#E5ECF6\",\"caxis\":{\"gridcolor\":\"white\",\"linecolor\":\"white\",\"ticks\":\"\"}},\"title\":{\"x\":0.05},\"xaxis\":{\"automargin\":true,\"gridcolor\":\"white\",\"linecolor\":\"white\",\"ticks\":\"\",\"title\":{\"standoff\":15},\"zerolinecolor\":\"white\",\"zerolinewidth\":2},\"yaxis\":{\"automargin\":true,\"gridcolor\":\"white\",\"linecolor\":\"white\",\"ticks\":\"\",\"title\":{\"standoff\":15},\"zerolinecolor\":\"white\",\"zerolinewidth\":2}}},\"title\":{\"font\":{\"color\":\"#4D5663\"}},\"xaxis\":{\"gridcolor\":\"#E1E5ED\",\"showgrid\":true,\"tickfont\":{\"color\":\"#4D5663\"},\"title\":{\"font\":{\"color\":\"#4D5663\"},\"text\":\"\"},\"zerolinecolor\":\"#E1E5ED\"},\"yaxis\":{\"gridcolor\":\"#E1E5ED\",\"showgrid\":true,\"tickfont\":{\"color\":\"#4D5663\"},\"title\":{\"font\":{\"color\":\"#4D5663\"},\"text\":\"\"},\"zerolinecolor\":\"#E1E5ED\"}},                        {\"showLink\": true, \"linkText\": \"Export to plot.ly\", \"plotlyServerURL\": \"https://plot.ly\", \"responsive\": true}                    ).then(function(){\n",
       "                            \n",
       "var gd = document.getElementById('00781305-9eb5-4ff4-afa7-76973e521b61');\n",
       "var x = new MutationObserver(function (mutations, observer) {{\n",
       "        var display = window.getComputedStyle(gd).display;\n",
       "        if (!display || display === 'none') {{\n",
       "            console.log([gd, 'removed!']);\n",
       "            Plotly.purge(gd);\n",
       "            observer.disconnect();\n",
       "        }}\n",
       "}});\n",
       "\n",
       "// Listen for the removal of the full notebook cells\n",
       "var notebookContainer = gd.closest('#notebook-container');\n",
       "if (notebookContainer) {{\n",
       "    x.observe(notebookContainer, {childList: true});\n",
       "}}\n",
       "\n",
       "// Listen for the clearing of the current output cell\n",
       "var outputEl = gd.closest('.output');\n",
       "if (outputEl) {{\n",
       "    x.observe(outputEl, {childList: true});\n",
       "}}\n",
       "\n",
       "                        })                };                });            </script>        </div>"
      ]
     },
     "metadata": {},
     "output_type": "display_data"
    }
   ],
   "source": [
    "df_1 = pd.DataFrame(dfad, columns=['Age',])\n",
    "df_1.head()\n",
    "df_1.iplot()"
   ]
  },
  {
   "cell_type": "code",
   "execution_count": 23,
   "id": "f594e303",
   "metadata": {
    "scrolled": true
   },
   "outputs": [
    {
     "data": {
      "application/vnd.plotly.v1+json": {
       "config": {
        "plotlyServerURL": "https://plot.ly"
       },
       "data": [
        {
         "marker": {
          "color": [
           87,
           88,
           88,
           90,
           80,
           83,
           85,
           93,
           95,
           68,
           69,
           66,
           68,
           78,
           80,
           83,
           81,
           82,
           85,
           76,
           77,
           88,
           90,
           80,
           81,
           85,
           86,
           87,
           88,
           92,
           80,
           82,
           84,
           72,
           76,
           61,
           64,
           86,
           87,
           82,
           84,
           69,
           71,
           73,
           74,
           64,
           66,
           77,
           80,
           60,
           62,
           86,
           88,
           91,
           90,
           92,
           79,
           80,
           82,
           84,
           88,
           89,
           69,
           70,
           73,
           75,
           82,
           85,
           88,
           89,
           81,
           83,
           84,
           86,
           88,
           71,
           73,
           75,
           70,
           73,
           72,
           73,
           68,
           69,
           71,
           75,
           77,
           83,
           85,
           77,
           78,
           66,
           66,
           68,
           68,
           69,
           69,
           70,
           71,
           71,
           72,
           92,
           94,
           97,
           74,
           78,
           82,
           84,
           85,
           87,
           65,
           67,
           71,
           73,
           81,
           83,
           85,
           78,
           79,
           80,
           75,
           78,
           68,
           70,
           72,
           79,
           81,
           83,
           78,
           81,
           82,
           61,
           62,
           67,
           68,
           71,
           73,
           88,
           90,
           81,
           82,
           80,
           82,
           84,
           85,
           86,
           83,
           84,
           70,
           72,
           75,
           76,
           77,
           73,
           75,
           66,
           69,
           71,
           69,
           73,
           89,
           91,
           92,
           69,
           71,
           73,
           66,
           68,
           69,
           82,
           84,
           78,
           80,
           63,
           65,
           96,
           98,
           78,
           80,
           70,
           72,
           73,
           75,
           76,
           75,
           78,
           83,
           84,
           61,
           63,
           71,
           72,
           74,
           89,
           91,
           74,
           77,
           66,
           67,
           77,
           80,
           82,
           71,
           74,
           76,
           82,
           84,
           86,
           69,
           74,
           75,
           70,
           71,
           86,
           87,
           70,
           72,
           77,
           79,
           81,
           83,
           62,
           65,
           76,
           78,
           73,
           75,
           73,
           75,
           73,
           74,
           76,
           78,
           67,
           71,
           81,
           83,
           85,
           76,
           78,
           73,
           74,
           86,
           88,
           70,
           71,
           74,
           75,
           77,
           79,
           81,
           81,
           84,
           86,
           76,
           79,
           78,
           80,
           82,
           65,
           67,
           78,
           81,
           70,
           71,
           74,
           78,
           74,
           75,
           73,
           75,
           67,
           68,
           76,
           78,
           81,
           65,
           68,
           69,
           71,
           89,
           91,
           93,
           77,
           79,
           68,
           73,
           80,
           82,
           77,
           78,
           80,
           82,
           81,
           83,
           73,
           75,
           66,
           68,
           69,
           75,
           77,
           78,
           81,
           73,
           75,
           73,
           76,
           73,
           76,
           77,
           79,
           80,
           82,
           84,
           77,
           79,
           78,
           80,
           71,
           73,
           76,
           77,
           81,
           75,
           79,
           60,
           62,
           64,
           70,
           72,
           73,
           84,
           87,
           89,
           68,
           70,
           89,
           90,
           93,
           79,
           81,
           66,
           66,
           68,
           72,
           72,
           73,
           80,
           82,
           86,
           61,
           63,
           65
          ],
          "colorscale": [
           [
            0,
            "#440154"
           ],
           [
            0.1111111111111111,
            "#482878"
           ],
           [
            0.2222222222222222,
            "#3e4989"
           ],
           [
            0.3333333333333333,
            "#31688e"
           ],
           [
            0.4444444444444444,
            "#26828e"
           ],
           [
            0.5555555555555556,
            "#1f9e89"
           ],
           [
            0.6666666666666666,
            "#35b779"
           ],
           [
            0.7777777777777778,
            "#6ece58"
           ],
           [
            0.8888888888888888,
            "#b5de2b"
           ],
           [
            1,
            "#fde725"
           ]
          ],
          "showscale": true,
          "size": 16
         },
         "mode": "markers",
         "type": "scatter",
         "y": [
          87,
          88,
          88,
          90,
          80,
          83,
          85,
          93,
          95,
          68,
          69,
          66,
          68,
          78,
          80,
          83,
          81,
          82,
          85,
          76,
          77,
          88,
          90,
          80,
          81,
          85,
          86,
          87,
          88,
          92,
          80,
          82,
          84,
          72,
          76,
          61,
          64,
          86,
          87,
          82,
          84,
          69,
          71,
          73,
          74,
          64,
          66,
          77,
          80,
          60,
          62,
          86,
          88,
          91,
          90,
          92,
          79,
          80,
          82,
          84,
          88,
          89,
          69,
          70,
          73,
          75,
          82,
          85,
          88,
          89,
          81,
          83,
          84,
          86,
          88,
          71,
          73,
          75,
          70,
          73,
          72,
          73,
          68,
          69,
          71,
          75,
          77,
          83,
          85,
          77,
          78,
          66,
          66,
          68,
          68,
          69,
          69,
          70,
          71,
          71,
          72,
          92,
          94,
          97,
          74,
          78,
          82,
          84,
          85,
          87,
          65,
          67,
          71,
          73,
          81,
          83,
          85,
          78,
          79,
          80,
          75,
          78,
          68,
          70,
          72,
          79,
          81,
          83,
          78,
          81,
          82,
          61,
          62,
          67,
          68,
          71,
          73,
          88,
          90,
          81,
          82,
          80,
          82,
          84,
          85,
          86,
          83,
          84,
          70,
          72,
          75,
          76,
          77,
          73,
          75,
          66,
          69,
          71,
          69,
          73,
          89,
          91,
          92,
          69,
          71,
          73,
          66,
          68,
          69,
          82,
          84,
          78,
          80,
          63,
          65,
          96,
          98,
          78,
          80,
          70,
          72,
          73,
          75,
          76,
          75,
          78,
          83,
          84,
          61,
          63,
          71,
          72,
          74,
          89,
          91,
          74,
          77,
          66,
          67,
          77,
          80,
          82,
          71,
          74,
          76,
          82,
          84,
          86,
          69,
          74,
          75,
          70,
          71,
          86,
          87,
          70,
          72,
          77,
          79,
          81,
          83,
          62,
          65,
          76,
          78,
          73,
          75,
          73,
          75,
          73,
          74,
          76,
          78,
          67,
          71,
          81,
          83,
          85,
          76,
          78,
          73,
          74,
          86,
          88,
          70,
          71,
          74,
          75,
          77,
          79,
          81,
          81,
          84,
          86,
          76,
          79,
          78,
          80,
          82,
          65,
          67,
          78,
          81,
          70,
          71,
          74,
          78,
          74,
          75,
          73,
          75,
          67,
          68,
          76,
          78,
          81,
          65,
          68,
          69,
          71,
          89,
          91,
          93,
          77,
          79,
          68,
          73,
          80,
          82,
          77,
          78,
          80,
          82,
          81,
          83,
          73,
          75,
          66,
          68,
          69,
          75,
          77,
          78,
          81,
          73,
          75,
          73,
          76,
          73,
          76,
          77,
          79,
          80,
          82,
          84,
          77,
          79,
          78,
          80,
          71,
          73,
          76,
          77,
          81,
          75,
          79,
          60,
          62,
          64,
          70,
          72,
          73,
          84,
          87,
          89,
          68,
          70,
          89,
          90,
          93,
          79,
          81,
          66,
          66,
          68,
          72,
          72,
          73,
          80,
          82,
          86,
          61,
          63,
          65
         ]
        }
       ],
       "layout": {
        "template": {
         "data": {
          "bar": [
           {
            "error_x": {
             "color": "#2a3f5f"
            },
            "error_y": {
             "color": "#2a3f5f"
            },
            "marker": {
             "line": {
              "color": "#E5ECF6",
              "width": 0.5
             },
             "pattern": {
              "fillmode": "overlay",
              "size": 10,
              "solidity": 0.2
             }
            },
            "type": "bar"
           }
          ],
          "barpolar": [
           {
            "marker": {
             "line": {
              "color": "#E5ECF6",
              "width": 0.5
             },
             "pattern": {
              "fillmode": "overlay",
              "size": 10,
              "solidity": 0.2
             }
            },
            "type": "barpolar"
           }
          ],
          "carpet": [
           {
            "aaxis": {
             "endlinecolor": "#2a3f5f",
             "gridcolor": "white",
             "linecolor": "white",
             "minorgridcolor": "white",
             "startlinecolor": "#2a3f5f"
            },
            "baxis": {
             "endlinecolor": "#2a3f5f",
             "gridcolor": "white",
             "linecolor": "white",
             "minorgridcolor": "white",
             "startlinecolor": "#2a3f5f"
            },
            "type": "carpet"
           }
          ],
          "choropleth": [
           {
            "colorbar": {
             "outlinewidth": 0,
             "ticks": ""
            },
            "type": "choropleth"
           }
          ],
          "contour": [
           {
            "colorbar": {
             "outlinewidth": 0,
             "ticks": ""
            },
            "colorscale": [
             [
              0,
              "#0d0887"
             ],
             [
              0.1111111111111111,
              "#46039f"
             ],
             [
              0.2222222222222222,
              "#7201a8"
             ],
             [
              0.3333333333333333,
              "#9c179e"
             ],
             [
              0.4444444444444444,
              "#bd3786"
             ],
             [
              0.5555555555555556,
              "#d8576b"
             ],
             [
              0.6666666666666666,
              "#ed7953"
             ],
             [
              0.7777777777777778,
              "#fb9f3a"
             ],
             [
              0.8888888888888888,
              "#fdca26"
             ],
             [
              1,
              "#f0f921"
             ]
            ],
            "type": "contour"
           }
          ],
          "contourcarpet": [
           {
            "colorbar": {
             "outlinewidth": 0,
             "ticks": ""
            },
            "type": "contourcarpet"
           }
          ],
          "heatmap": [
           {
            "colorbar": {
             "outlinewidth": 0,
             "ticks": ""
            },
            "colorscale": [
             [
              0,
              "#0d0887"
             ],
             [
              0.1111111111111111,
              "#46039f"
             ],
             [
              0.2222222222222222,
              "#7201a8"
             ],
             [
              0.3333333333333333,
              "#9c179e"
             ],
             [
              0.4444444444444444,
              "#bd3786"
             ],
             [
              0.5555555555555556,
              "#d8576b"
             ],
             [
              0.6666666666666666,
              "#ed7953"
             ],
             [
              0.7777777777777778,
              "#fb9f3a"
             ],
             [
              0.8888888888888888,
              "#fdca26"
             ],
             [
              1,
              "#f0f921"
             ]
            ],
            "type": "heatmap"
           }
          ],
          "heatmapgl": [
           {
            "colorbar": {
             "outlinewidth": 0,
             "ticks": ""
            },
            "colorscale": [
             [
              0,
              "#0d0887"
             ],
             [
              0.1111111111111111,
              "#46039f"
             ],
             [
              0.2222222222222222,
              "#7201a8"
             ],
             [
              0.3333333333333333,
              "#9c179e"
             ],
             [
              0.4444444444444444,
              "#bd3786"
             ],
             [
              0.5555555555555556,
              "#d8576b"
             ],
             [
              0.6666666666666666,
              "#ed7953"
             ],
             [
              0.7777777777777778,
              "#fb9f3a"
             ],
             [
              0.8888888888888888,
              "#fdca26"
             ],
             [
              1,
              "#f0f921"
             ]
            ],
            "type": "heatmapgl"
           }
          ],
          "histogram": [
           {
            "marker": {
             "pattern": {
              "fillmode": "overlay",
              "size": 10,
              "solidity": 0.2
             }
            },
            "type": "histogram"
           }
          ],
          "histogram2d": [
           {
            "colorbar": {
             "outlinewidth": 0,
             "ticks": ""
            },
            "colorscale": [
             [
              0,
              "#0d0887"
             ],
             [
              0.1111111111111111,
              "#46039f"
             ],
             [
              0.2222222222222222,
              "#7201a8"
             ],
             [
              0.3333333333333333,
              "#9c179e"
             ],
             [
              0.4444444444444444,
              "#bd3786"
             ],
             [
              0.5555555555555556,
              "#d8576b"
             ],
             [
              0.6666666666666666,
              "#ed7953"
             ],
             [
              0.7777777777777778,
              "#fb9f3a"
             ],
             [
              0.8888888888888888,
              "#fdca26"
             ],
             [
              1,
              "#f0f921"
             ]
            ],
            "type": "histogram2d"
           }
          ],
          "histogram2dcontour": [
           {
            "colorbar": {
             "outlinewidth": 0,
             "ticks": ""
            },
            "colorscale": [
             [
              0,
              "#0d0887"
             ],
             [
              0.1111111111111111,
              "#46039f"
             ],
             [
              0.2222222222222222,
              "#7201a8"
             ],
             [
              0.3333333333333333,
              "#9c179e"
             ],
             [
              0.4444444444444444,
              "#bd3786"
             ],
             [
              0.5555555555555556,
              "#d8576b"
             ],
             [
              0.6666666666666666,
              "#ed7953"
             ],
             [
              0.7777777777777778,
              "#fb9f3a"
             ],
             [
              0.8888888888888888,
              "#fdca26"
             ],
             [
              1,
              "#f0f921"
             ]
            ],
            "type": "histogram2dcontour"
           }
          ],
          "mesh3d": [
           {
            "colorbar": {
             "outlinewidth": 0,
             "ticks": ""
            },
            "type": "mesh3d"
           }
          ],
          "parcoords": [
           {
            "line": {
             "colorbar": {
              "outlinewidth": 0,
              "ticks": ""
             }
            },
            "type": "parcoords"
           }
          ],
          "pie": [
           {
            "automargin": true,
            "type": "pie"
           }
          ],
          "scatter": [
           {
            "fillpattern": {
             "fillmode": "overlay",
             "size": 10,
             "solidity": 0.2
            },
            "type": "scatter"
           }
          ],
          "scatter3d": [
           {
            "line": {
             "colorbar": {
              "outlinewidth": 0,
              "ticks": ""
             }
            },
            "marker": {
             "colorbar": {
              "outlinewidth": 0,
              "ticks": ""
             }
            },
            "type": "scatter3d"
           }
          ],
          "scattercarpet": [
           {
            "marker": {
             "colorbar": {
              "outlinewidth": 0,
              "ticks": ""
             }
            },
            "type": "scattercarpet"
           }
          ],
          "scattergeo": [
           {
            "marker": {
             "colorbar": {
              "outlinewidth": 0,
              "ticks": ""
             }
            },
            "type": "scattergeo"
           }
          ],
          "scattergl": [
           {
            "marker": {
             "colorbar": {
              "outlinewidth": 0,
              "ticks": ""
             }
            },
            "type": "scattergl"
           }
          ],
          "scattermapbox": [
           {
            "marker": {
             "colorbar": {
              "outlinewidth": 0,
              "ticks": ""
             }
            },
            "type": "scattermapbox"
           }
          ],
          "scatterpolar": [
           {
            "marker": {
             "colorbar": {
              "outlinewidth": 0,
              "ticks": ""
             }
            },
            "type": "scatterpolar"
           }
          ],
          "scatterpolargl": [
           {
            "marker": {
             "colorbar": {
              "outlinewidth": 0,
              "ticks": ""
             }
            },
            "type": "scatterpolargl"
           }
          ],
          "scatterternary": [
           {
            "marker": {
             "colorbar": {
              "outlinewidth": 0,
              "ticks": ""
             }
            },
            "type": "scatterternary"
           }
          ],
          "surface": [
           {
            "colorbar": {
             "outlinewidth": 0,
             "ticks": ""
            },
            "colorscale": [
             [
              0,
              "#0d0887"
             ],
             [
              0.1111111111111111,
              "#46039f"
             ],
             [
              0.2222222222222222,
              "#7201a8"
             ],
             [
              0.3333333333333333,
              "#9c179e"
             ],
             [
              0.4444444444444444,
              "#bd3786"
             ],
             [
              0.5555555555555556,
              "#d8576b"
             ],
             [
              0.6666666666666666,
              "#ed7953"
             ],
             [
              0.7777777777777778,
              "#fb9f3a"
             ],
             [
              0.8888888888888888,
              "#fdca26"
             ],
             [
              1,
              "#f0f921"
             ]
            ],
            "type": "surface"
           }
          ],
          "table": [
           {
            "cells": {
             "fill": {
              "color": "#EBF0F8"
             },
             "line": {
              "color": "white"
             }
            },
            "header": {
             "fill": {
              "color": "#C8D4E3"
             },
             "line": {
              "color": "white"
             }
            },
            "type": "table"
           }
          ]
         },
         "layout": {
          "annotationdefaults": {
           "arrowcolor": "#2a3f5f",
           "arrowhead": 0,
           "arrowwidth": 1
          },
          "autotypenumbers": "strict",
          "coloraxis": {
           "colorbar": {
            "outlinewidth": 0,
            "ticks": ""
           }
          },
          "colorscale": {
           "diverging": [
            [
             0,
             "#8e0152"
            ],
            [
             0.1,
             "#c51b7d"
            ],
            [
             0.2,
             "#de77ae"
            ],
            [
             0.3,
             "#f1b6da"
            ],
            [
             0.4,
             "#fde0ef"
            ],
            [
             0.5,
             "#f7f7f7"
            ],
            [
             0.6,
             "#e6f5d0"
            ],
            [
             0.7,
             "#b8e186"
            ],
            [
             0.8,
             "#7fbc41"
            ],
            [
             0.9,
             "#4d9221"
            ],
            [
             1,
             "#276419"
            ]
           ],
           "sequential": [
            [
             0,
             "#0d0887"
            ],
            [
             0.1111111111111111,
             "#46039f"
            ],
            [
             0.2222222222222222,
             "#7201a8"
            ],
            [
             0.3333333333333333,
             "#9c179e"
            ],
            [
             0.4444444444444444,
             "#bd3786"
            ],
            [
             0.5555555555555556,
             "#d8576b"
            ],
            [
             0.6666666666666666,
             "#ed7953"
            ],
            [
             0.7777777777777778,
             "#fb9f3a"
            ],
            [
             0.8888888888888888,
             "#fdca26"
            ],
            [
             1,
             "#f0f921"
            ]
           ],
           "sequentialminus": [
            [
             0,
             "#0d0887"
            ],
            [
             0.1111111111111111,
             "#46039f"
            ],
            [
             0.2222222222222222,
             "#7201a8"
            ],
            [
             0.3333333333333333,
             "#9c179e"
            ],
            [
             0.4444444444444444,
             "#bd3786"
            ],
            [
             0.5555555555555556,
             "#d8576b"
            ],
            [
             0.6666666666666666,
             "#ed7953"
            ],
            [
             0.7777777777777778,
             "#fb9f3a"
            ],
            [
             0.8888888888888888,
             "#fdca26"
            ],
            [
             1,
             "#f0f921"
            ]
           ]
          },
          "colorway": [
           "#636efa",
           "#EF553B",
           "#00cc96",
           "#ab63fa",
           "#FFA15A",
           "#19d3f3",
           "#FF6692",
           "#B6E880",
           "#FF97FF",
           "#FECB52"
          ],
          "font": {
           "color": "#2a3f5f"
          },
          "geo": {
           "bgcolor": "white",
           "lakecolor": "white",
           "landcolor": "#E5ECF6",
           "showlakes": true,
           "showland": true,
           "subunitcolor": "white"
          },
          "hoverlabel": {
           "align": "left"
          },
          "hovermode": "closest",
          "mapbox": {
           "style": "light"
          },
          "paper_bgcolor": "white",
          "plot_bgcolor": "#E5ECF6",
          "polar": {
           "angularaxis": {
            "gridcolor": "white",
            "linecolor": "white",
            "ticks": ""
           },
           "bgcolor": "#E5ECF6",
           "radialaxis": {
            "gridcolor": "white",
            "linecolor": "white",
            "ticks": ""
           }
          },
          "scene": {
           "xaxis": {
            "backgroundcolor": "#E5ECF6",
            "gridcolor": "white",
            "gridwidth": 2,
            "linecolor": "white",
            "showbackground": true,
            "ticks": "",
            "zerolinecolor": "white"
           },
           "yaxis": {
            "backgroundcolor": "#E5ECF6",
            "gridcolor": "white",
            "gridwidth": 2,
            "linecolor": "white",
            "showbackground": true,
            "ticks": "",
            "zerolinecolor": "white"
           },
           "zaxis": {
            "backgroundcolor": "#E5ECF6",
            "gridcolor": "white",
            "gridwidth": 2,
            "linecolor": "white",
            "showbackground": true,
            "ticks": "",
            "zerolinecolor": "white"
           }
          },
          "shapedefaults": {
           "line": {
            "color": "#2a3f5f"
           }
          },
          "ternary": {
           "aaxis": {
            "gridcolor": "white",
            "linecolor": "white",
            "ticks": ""
           },
           "baxis": {
            "gridcolor": "white",
            "linecolor": "white",
            "ticks": ""
           },
           "bgcolor": "#E5ECF6",
           "caxis": {
            "gridcolor": "white",
            "linecolor": "white",
            "ticks": ""
           }
          },
          "title": {
           "x": 0.05
          },
          "xaxis": {
           "automargin": true,
           "gridcolor": "white",
           "linecolor": "white",
           "ticks": "",
           "title": {
            "standoff": 15
           },
           "zerolinecolor": "white",
           "zerolinewidth": 2
          },
          "yaxis": {
           "automargin": true,
           "gridcolor": "white",
           "linecolor": "white",
           "ticks": "",
           "title": {
            "standoff": 15
           },
           "zerolinecolor": "white",
           "zerolinewidth": 2
          }
         }
        }
       }
      },
      "text/html": [
       "<div>                            <div id=\"81b96f99-4c1e-4196-99ad-d6cedd4640d5\" class=\"plotly-graph-div\" style=\"height:525px; width:100%;\"></div>            <script type=\"text/javascript\">                require([\"plotly\"], function(Plotly) {                    window.PLOTLYENV=window.PLOTLYENV || {};                                    if (document.getElementById(\"81b96f99-4c1e-4196-99ad-d6cedd4640d5\")) {                    Plotly.newPlot(                        \"81b96f99-4c1e-4196-99ad-d6cedd4640d5\",                        [{\"marker\":{\"color\":[87,88,88,90,80,83,85,93,95,68,69,66,68,78,80,83,81,82,85,76,77,88,90,80,81,85,86,87,88,92,80,82,84,72,76,61,64,86,87,82,84,69,71,73,74,64,66,77,80,60,62,86,88,91,90,92,79,80,82,84,88,89,69,70,73,75,82,85,88,89,81,83,84,86,88,71,73,75,70,73,72,73,68,69,71,75,77,83,85,77,78,66,66,68,68,69,69,70,71,71,72,92,94,97,74,78,82,84,85,87,65,67,71,73,81,83,85,78,79,80,75,78,68,70,72,79,81,83,78,81,82,61,62,67,68,71,73,88,90,81,82,80,82,84,85,86,83,84,70,72,75,76,77,73,75,66,69,71,69,73,89,91,92,69,71,73,66,68,69,82,84,78,80,63,65,96,98,78,80,70,72,73,75,76,75,78,83,84,61,63,71,72,74,89,91,74,77,66,67,77,80,82,71,74,76,82,84,86,69,74,75,70,71,86,87,70,72,77,79,81,83,62,65,76,78,73,75,73,75,73,74,76,78,67,71,81,83,85,76,78,73,74,86,88,70,71,74,75,77,79,81,81,84,86,76,79,78,80,82,65,67,78,81,70,71,74,78,74,75,73,75,67,68,76,78,81,65,68,69,71,89,91,93,77,79,68,73,80,82,77,78,80,82,81,83,73,75,66,68,69,75,77,78,81,73,75,73,76,73,76,77,79,80,82,84,77,79,78,80,71,73,76,77,81,75,79,60,62,64,70,72,73,84,87,89,68,70,89,90,93,79,81,66,66,68,72,72,73,80,82,86,61,63,65],\"colorscale\":[[0.0,\"#440154\"],[0.1111111111111111,\"#482878\"],[0.2222222222222222,\"#3e4989\"],[0.3333333333333333,\"#31688e\"],[0.4444444444444444,\"#26828e\"],[0.5555555555555556,\"#1f9e89\"],[0.6666666666666666,\"#35b779\"],[0.7777777777777778,\"#6ece58\"],[0.8888888888888888,\"#b5de2b\"],[1.0,\"#fde725\"]],\"showscale\":true,\"size\":16},\"mode\":\"markers\",\"y\":[87,88,88,90,80,83,85,93,95,68,69,66,68,78,80,83,81,82,85,76,77,88,90,80,81,85,86,87,88,92,80,82,84,72,76,61,64,86,87,82,84,69,71,73,74,64,66,77,80,60,62,86,88,91,90,92,79,80,82,84,88,89,69,70,73,75,82,85,88,89,81,83,84,86,88,71,73,75,70,73,72,73,68,69,71,75,77,83,85,77,78,66,66,68,68,69,69,70,71,71,72,92,94,97,74,78,82,84,85,87,65,67,71,73,81,83,85,78,79,80,75,78,68,70,72,79,81,83,78,81,82,61,62,67,68,71,73,88,90,81,82,80,82,84,85,86,83,84,70,72,75,76,77,73,75,66,69,71,69,73,89,91,92,69,71,73,66,68,69,82,84,78,80,63,65,96,98,78,80,70,72,73,75,76,75,78,83,84,61,63,71,72,74,89,91,74,77,66,67,77,80,82,71,74,76,82,84,86,69,74,75,70,71,86,87,70,72,77,79,81,83,62,65,76,78,73,75,73,75,73,74,76,78,67,71,81,83,85,76,78,73,74,86,88,70,71,74,75,77,79,81,81,84,86,76,79,78,80,82,65,67,78,81,70,71,74,78,74,75,73,75,67,68,76,78,81,65,68,69,71,89,91,93,77,79,68,73,80,82,77,78,80,82,81,83,73,75,66,68,69,75,77,78,81,73,75,73,76,73,76,77,79,80,82,84,77,79,78,80,71,73,76,77,81,75,79,60,62,64,70,72,73,84,87,89,68,70,89,90,93,79,81,66,66,68,72,72,73,80,82,86,61,63,65],\"type\":\"scatter\"}],                        {\"template\":{\"data\":{\"histogram2dcontour\":[{\"type\":\"histogram2dcontour\",\"colorbar\":{\"outlinewidth\":0,\"ticks\":\"\"},\"colorscale\":[[0.0,\"#0d0887\"],[0.1111111111111111,\"#46039f\"],[0.2222222222222222,\"#7201a8\"],[0.3333333333333333,\"#9c179e\"],[0.4444444444444444,\"#bd3786\"],[0.5555555555555556,\"#d8576b\"],[0.6666666666666666,\"#ed7953\"],[0.7777777777777778,\"#fb9f3a\"],[0.8888888888888888,\"#fdca26\"],[1.0,\"#f0f921\"]]}],\"choropleth\":[{\"type\":\"choropleth\",\"colorbar\":{\"outlinewidth\":0,\"ticks\":\"\"}}],\"histogram2d\":[{\"type\":\"histogram2d\",\"colorbar\":{\"outlinewidth\":0,\"ticks\":\"\"},\"colorscale\":[[0.0,\"#0d0887\"],[0.1111111111111111,\"#46039f\"],[0.2222222222222222,\"#7201a8\"],[0.3333333333333333,\"#9c179e\"],[0.4444444444444444,\"#bd3786\"],[0.5555555555555556,\"#d8576b\"],[0.6666666666666666,\"#ed7953\"],[0.7777777777777778,\"#fb9f3a\"],[0.8888888888888888,\"#fdca26\"],[1.0,\"#f0f921\"]]}],\"heatmap\":[{\"type\":\"heatmap\",\"colorbar\":{\"outlinewidth\":0,\"ticks\":\"\"},\"colorscale\":[[0.0,\"#0d0887\"],[0.1111111111111111,\"#46039f\"],[0.2222222222222222,\"#7201a8\"],[0.3333333333333333,\"#9c179e\"],[0.4444444444444444,\"#bd3786\"],[0.5555555555555556,\"#d8576b\"],[0.6666666666666666,\"#ed7953\"],[0.7777777777777778,\"#fb9f3a\"],[0.8888888888888888,\"#fdca26\"],[1.0,\"#f0f921\"]]}],\"heatmapgl\":[{\"type\":\"heatmapgl\",\"colorbar\":{\"outlinewidth\":0,\"ticks\":\"\"},\"colorscale\":[[0.0,\"#0d0887\"],[0.1111111111111111,\"#46039f\"],[0.2222222222222222,\"#7201a8\"],[0.3333333333333333,\"#9c179e\"],[0.4444444444444444,\"#bd3786\"],[0.5555555555555556,\"#d8576b\"],[0.6666666666666666,\"#ed7953\"],[0.7777777777777778,\"#fb9f3a\"],[0.8888888888888888,\"#fdca26\"],[1.0,\"#f0f921\"]]}],\"contourcarpet\":[{\"type\":\"contourcarpet\",\"colorbar\":{\"outlinewidth\":0,\"ticks\":\"\"}}],\"contour\":[{\"type\":\"contour\",\"colorbar\":{\"outlinewidth\":0,\"ticks\":\"\"},\"colorscale\":[[0.0,\"#0d0887\"],[0.1111111111111111,\"#46039f\"],[0.2222222222222222,\"#7201a8\"],[0.3333333333333333,\"#9c179e\"],[0.4444444444444444,\"#bd3786\"],[0.5555555555555556,\"#d8576b\"],[0.6666666666666666,\"#ed7953\"],[0.7777777777777778,\"#fb9f3a\"],[0.8888888888888888,\"#fdca26\"],[1.0,\"#f0f921\"]]}],\"surface\":[{\"type\":\"surface\",\"colorbar\":{\"outlinewidth\":0,\"ticks\":\"\"},\"colorscale\":[[0.0,\"#0d0887\"],[0.1111111111111111,\"#46039f\"],[0.2222222222222222,\"#7201a8\"],[0.3333333333333333,\"#9c179e\"],[0.4444444444444444,\"#bd3786\"],[0.5555555555555556,\"#d8576b\"],[0.6666666666666666,\"#ed7953\"],[0.7777777777777778,\"#fb9f3a\"],[0.8888888888888888,\"#fdca26\"],[1.0,\"#f0f921\"]]}],\"mesh3d\":[{\"type\":\"mesh3d\",\"colorbar\":{\"outlinewidth\":0,\"ticks\":\"\"}}],\"scatter\":[{\"fillpattern\":{\"fillmode\":\"overlay\",\"size\":10,\"solidity\":0.2},\"type\":\"scatter\"}],\"parcoords\":[{\"type\":\"parcoords\",\"line\":{\"colorbar\":{\"outlinewidth\":0,\"ticks\":\"\"}}}],\"scatterpolargl\":[{\"type\":\"scatterpolargl\",\"marker\":{\"colorbar\":{\"outlinewidth\":0,\"ticks\":\"\"}}}],\"bar\":[{\"error_x\":{\"color\":\"#2a3f5f\"},\"error_y\":{\"color\":\"#2a3f5f\"},\"marker\":{\"line\":{\"color\":\"#E5ECF6\",\"width\":0.5},\"pattern\":{\"fillmode\":\"overlay\",\"size\":10,\"solidity\":0.2}},\"type\":\"bar\"}],\"scattergeo\":[{\"type\":\"scattergeo\",\"marker\":{\"colorbar\":{\"outlinewidth\":0,\"ticks\":\"\"}}}],\"scatterpolar\":[{\"type\":\"scatterpolar\",\"marker\":{\"colorbar\":{\"outlinewidth\":0,\"ticks\":\"\"}}}],\"histogram\":[{\"marker\":{\"pattern\":{\"fillmode\":\"overlay\",\"size\":10,\"solidity\":0.2}},\"type\":\"histogram\"}],\"scattergl\":[{\"type\":\"scattergl\",\"marker\":{\"colorbar\":{\"outlinewidth\":0,\"ticks\":\"\"}}}],\"scatter3d\":[{\"type\":\"scatter3d\",\"line\":{\"colorbar\":{\"outlinewidth\":0,\"ticks\":\"\"}},\"marker\":{\"colorbar\":{\"outlinewidth\":0,\"ticks\":\"\"}}}],\"scattermapbox\":[{\"type\":\"scattermapbox\",\"marker\":{\"colorbar\":{\"outlinewidth\":0,\"ticks\":\"\"}}}],\"scatterternary\":[{\"type\":\"scatterternary\",\"marker\":{\"colorbar\":{\"outlinewidth\":0,\"ticks\":\"\"}}}],\"scattercarpet\":[{\"type\":\"scattercarpet\",\"marker\":{\"colorbar\":{\"outlinewidth\":0,\"ticks\":\"\"}}}],\"carpet\":[{\"aaxis\":{\"endlinecolor\":\"#2a3f5f\",\"gridcolor\":\"white\",\"linecolor\":\"white\",\"minorgridcolor\":\"white\",\"startlinecolor\":\"#2a3f5f\"},\"baxis\":{\"endlinecolor\":\"#2a3f5f\",\"gridcolor\":\"white\",\"linecolor\":\"white\",\"minorgridcolor\":\"white\",\"startlinecolor\":\"#2a3f5f\"},\"type\":\"carpet\"}],\"table\":[{\"cells\":{\"fill\":{\"color\":\"#EBF0F8\"},\"line\":{\"color\":\"white\"}},\"header\":{\"fill\":{\"color\":\"#C8D4E3\"},\"line\":{\"color\":\"white\"}},\"type\":\"table\"}],\"barpolar\":[{\"marker\":{\"line\":{\"color\":\"#E5ECF6\",\"width\":0.5},\"pattern\":{\"fillmode\":\"overlay\",\"size\":10,\"solidity\":0.2}},\"type\":\"barpolar\"}],\"pie\":[{\"automargin\":true,\"type\":\"pie\"}]},\"layout\":{\"autotypenumbers\":\"strict\",\"colorway\":[\"#636efa\",\"#EF553B\",\"#00cc96\",\"#ab63fa\",\"#FFA15A\",\"#19d3f3\",\"#FF6692\",\"#B6E880\",\"#FF97FF\",\"#FECB52\"],\"font\":{\"color\":\"#2a3f5f\"},\"hovermode\":\"closest\",\"hoverlabel\":{\"align\":\"left\"},\"paper_bgcolor\":\"white\",\"plot_bgcolor\":\"#E5ECF6\",\"polar\":{\"bgcolor\":\"#E5ECF6\",\"angularaxis\":{\"gridcolor\":\"white\",\"linecolor\":\"white\",\"ticks\":\"\"},\"radialaxis\":{\"gridcolor\":\"white\",\"linecolor\":\"white\",\"ticks\":\"\"}},\"ternary\":{\"bgcolor\":\"#E5ECF6\",\"aaxis\":{\"gridcolor\":\"white\",\"linecolor\":\"white\",\"ticks\":\"\"},\"baxis\":{\"gridcolor\":\"white\",\"linecolor\":\"white\",\"ticks\":\"\"},\"caxis\":{\"gridcolor\":\"white\",\"linecolor\":\"white\",\"ticks\":\"\"}},\"coloraxis\":{\"colorbar\":{\"outlinewidth\":0,\"ticks\":\"\"}},\"colorscale\":{\"sequential\":[[0.0,\"#0d0887\"],[0.1111111111111111,\"#46039f\"],[0.2222222222222222,\"#7201a8\"],[0.3333333333333333,\"#9c179e\"],[0.4444444444444444,\"#bd3786\"],[0.5555555555555556,\"#d8576b\"],[0.6666666666666666,\"#ed7953\"],[0.7777777777777778,\"#fb9f3a\"],[0.8888888888888888,\"#fdca26\"],[1.0,\"#f0f921\"]],\"sequentialminus\":[[0.0,\"#0d0887\"],[0.1111111111111111,\"#46039f\"],[0.2222222222222222,\"#7201a8\"],[0.3333333333333333,\"#9c179e\"],[0.4444444444444444,\"#bd3786\"],[0.5555555555555556,\"#d8576b\"],[0.6666666666666666,\"#ed7953\"],[0.7777777777777778,\"#fb9f3a\"],[0.8888888888888888,\"#fdca26\"],[1.0,\"#f0f921\"]],\"diverging\":[[0,\"#8e0152\"],[0.1,\"#c51b7d\"],[0.2,\"#de77ae\"],[0.3,\"#f1b6da\"],[0.4,\"#fde0ef\"],[0.5,\"#f7f7f7\"],[0.6,\"#e6f5d0\"],[0.7,\"#b8e186\"],[0.8,\"#7fbc41\"],[0.9,\"#4d9221\"],[1,\"#276419\"]]},\"xaxis\":{\"gridcolor\":\"white\",\"linecolor\":\"white\",\"ticks\":\"\",\"title\":{\"standoff\":15},\"zerolinecolor\":\"white\",\"automargin\":true,\"zerolinewidth\":2},\"yaxis\":{\"gridcolor\":\"white\",\"linecolor\":\"white\",\"ticks\":\"\",\"title\":{\"standoff\":15},\"zerolinecolor\":\"white\",\"automargin\":true,\"zerolinewidth\":2},\"scene\":{\"xaxis\":{\"backgroundcolor\":\"#E5ECF6\",\"gridcolor\":\"white\",\"linecolor\":\"white\",\"showbackground\":true,\"ticks\":\"\",\"zerolinecolor\":\"white\",\"gridwidth\":2},\"yaxis\":{\"backgroundcolor\":\"#E5ECF6\",\"gridcolor\":\"white\",\"linecolor\":\"white\",\"showbackground\":true,\"ticks\":\"\",\"zerolinecolor\":\"white\",\"gridwidth\":2},\"zaxis\":{\"backgroundcolor\":\"#E5ECF6\",\"gridcolor\":\"white\",\"linecolor\":\"white\",\"showbackground\":true,\"ticks\":\"\",\"zerolinecolor\":\"white\",\"gridwidth\":2}},\"shapedefaults\":{\"line\":{\"color\":\"#2a3f5f\"}},\"annotationdefaults\":{\"arrowcolor\":\"#2a3f5f\",\"arrowhead\":0,\"arrowwidth\":1},\"geo\":{\"bgcolor\":\"white\",\"landcolor\":\"#E5ECF6\",\"subunitcolor\":\"white\",\"showland\":true,\"showlakes\":true,\"lakecolor\":\"white\"},\"title\":{\"x\":0.05},\"mapbox\":{\"style\":\"light\"}}}},                        {\"responsive\": true}                    ).then(function(){\n",
       "                            \n",
       "var gd = document.getElementById('81b96f99-4c1e-4196-99ad-d6cedd4640d5');\n",
       "var x = new MutationObserver(function (mutations, observer) {{\n",
       "        var display = window.getComputedStyle(gd).display;\n",
       "        if (!display || display === 'none') {{\n",
       "            console.log([gd, 'removed!']);\n",
       "            Plotly.purge(gd);\n",
       "            observer.disconnect();\n",
       "        }}\n",
       "}});\n",
       "\n",
       "// Listen for the removal of the full notebook cells\n",
       "var notebookContainer = gd.closest('#notebook-container');\n",
       "if (notebookContainer) {{\n",
       "    x.observe(notebookContainer, {childList: true});\n",
       "}}\n",
       "\n",
       "// Listen for the clearing of the current output cell\n",
       "var outputEl = gd.closest('.output');\n",
       "if (outputEl) {{\n",
       "    x.observe(outputEl, {childList: true});\n",
       "}}\n",
       "\n",
       "                        })                };                });            </script>        </div>"
      ]
     },
     "metadata": {},
     "output_type": "display_data"
    }
   ],
   "source": [
    "fig = go.Figure(data=go.Scatter(\n",
    "    y = dfad['Age'],\n",
    "    mode='markers',\n",
    "    marker=dict(\n",
    "        size=16,\n",
    "        color=dfad['Age'],\n",
    "        colorscale='Viridis', \n",
    "        showscale=True\n",
    "    )\n",
    "))\n",
    "\n",
    "fig.show()"
   ]
  },
  {
   "cell_type": "code",
   "execution_count": null,
   "id": "aad64c66",
   "metadata": {},
   "outputs": [],
   "source": [
    "# Para la paleta de colores https://python-charts.com/es/colores/"
   ]
  },
  {
   "cell_type": "code",
   "execution_count": 24,
   "id": "349b2616",
   "metadata": {
    "scrolled": true
   },
   "outputs": [
    {
     "data": {
      "image/png": "[encoded data removed]",
      "text/plain": [
       "<Figure size 864x864 with 1 Axes>"
      ]
     },
     "metadata": {},
     "output_type": "display_data"
    }
   ],
   "source": [
    "plt.figure(figsize=(12,12))\n",
    "plt.scatter(dem[\"Age\"], dem[\"eTIV\"],\n",
    "            marker=\"*\", s=150, color=\"skyblue\",\n",
    "            label=\"Demented\")\n",
    "\n",
    "plt.scatter(nond[\"Age\"], nond[\"eTIV\"],\n",
    "            marker=\"*\", s=150, color=\"purple\", \n",
    "            label=\"Nondemented\")\n",
    "\n",
    "plt.scatter(conv[\"Age\"], conv[\"eTIV\"],\n",
    "            marker=\"*\", s=150, color=\"green\", \n",
    "            label=\"Converted\")\n",
    "\n",
    "plt.ylabel(\"Volumen intracraneal total estimado\")\n",
    "plt.xlabel(\"Age\")\n",
    "plt.legend(bbox_to_anchor=(1, 0.2)) \n",
    "plt.show()"
   ]
  },
  {
   "cell_type": "code",
   "execution_count": 25,
   "id": "4c9e6047",
   "metadata": {
    "scrolled": true
   },
   "outputs": [
    {
     "data": {
      "text/plain": [
       "(    Subject ID         MRI ID        Group  Visit  MR Delay M/F Hand  Age  \\\n",
       " 5    OAS2_0004  OAS2_0004_MR1  Nondemented      1         0   F    R   88   \n",
       " 6    OAS2_0004  OAS2_0004_MR2  Nondemented      2       538   F    R   90   \n",
       " 13   OAS2_0008  OAS2_0008_MR1  Nondemented      1         0   F    R   93   \n",
       " 14   OAS2_0008  OAS2_0008_MR2  Nondemented      2       742   F    R   95   \n",
       " 17   OAS2_0010  OAS2_0010_MR1     Demented      1         0   F    R   66   \n",
       " ..         ...            ...          ...    ...       ...  ..  ...  ...   \n",
       " 365  OAS2_0184  OAS2_0184_MR1     Demented      1         0   F    R   72   \n",
       " 366  OAS2_0184  OAS2_0184_MR2     Demented      2       553   F    R   73   \n",
       " 370  OAS2_0186  OAS2_0186_MR1  Nondemented      1         0   F    R   61   \n",
       " 371  OAS2_0186  OAS2_0186_MR2  Nondemented      2       763   F    R   63   \n",
       " 372  OAS2_0186  OAS2_0186_MR3  Nondemented      3      1608   F    R   65   \n",
       " \n",
       "      EDUC  SES  MMSE  CDR  eTIV   nWBV    ASF  \n",
       " 5      18  3.0  28.0  0.0  1215  0.710  1.444  \n",
       " 6      18  3.0  27.0  0.0  1200  0.718  1.462  \n",
       " 13     14  2.0  30.0  0.0  1272  0.698  1.380  \n",
       " 14     14  2.0  29.0  0.0  1257  0.703  1.396  \n",
       " 17     12  3.0  30.0  0.5  1447  0.769  1.213  \n",
       " ..    ...  ...   ...  ...   ...    ...    ...  \n",
       " 365    16  3.0  24.0  0.5  1354  0.733  1.296  \n",
       " 366    16  3.0  21.0  1.0  1351  0.708  1.299  \n",
       " 370    13  2.0  30.0  0.0  1319  0.801  1.331  \n",
       " 371    13  2.0  30.0  0.0  1327  0.796  1.323  \n",
       " 372    13  2.0  30.0  0.0  1333  0.801  1.317  \n",
       " \n",
       " [204 rows x 15 columns],\n",
       "     Subject ID         MRI ID        Group  Visit  MR Delay M/F Hand  Age  \\\n",
       " 0    OAS2_0001  OAS2_0001_MR1  Nondemented      1         0   M    R   87   \n",
       " 1    OAS2_0001  OAS2_0001_MR2  Nondemented      2       457   M    R   88   \n",
       " 7    OAS2_0005  OAS2_0005_MR1  Nondemented      1         0   M    R   80   \n",
       " 8    OAS2_0005  OAS2_0005_MR2  Nondemented      2      1010   M    R   83   \n",
       " 9    OAS2_0005  OAS2_0005_MR3  Nondemented      3      1603   M    R   85   \n",
       " ..         ...            ...          ...    ...       ...  ..  ...  ...   \n",
       " 354  OAS2_0179  OAS2_0179_MR1     Demented      1         0   M    R   79   \n",
       " 355  OAS2_0179  OAS2_0179_MR2     Demented      2       652   M    R   81   \n",
       " 367  OAS2_0185  OAS2_0185_MR1     Demented      1         0   M    R   80   \n",
       " 368  OAS2_0185  OAS2_0185_MR2     Demented      2       842   M    R   82   \n",
       " 369  OAS2_0185  OAS2_0185_MR3     Demented      3      2297   M    R   86   \n",
       " \n",
       "      EDUC  SES  MMSE  CDR  eTIV   nWBV    ASF  \n",
       " 0      14  2.0  27.0  0.0  1987  0.696  0.883  \n",
       " 1      14  2.0  30.0  0.0  2004  0.681  0.876  \n",
       " 7      12  4.0  28.0  0.0  1689  0.712  1.039  \n",
       " 8      12  4.0  29.0  0.5  1701  0.711  1.032  \n",
       " 9      12  4.0  30.0  0.0  1699  0.705  1.033  \n",
       " ..    ...  ...   ...  ...   ...    ...    ...  \n",
       " 354    20  1.0  26.0  0.5  1548  0.711  1.134  \n",
       " 355    20  1.0  26.0  0.5  1556  0.691  1.128  \n",
       " 367    16  1.0  28.0  0.5  1704  0.711  1.030  \n",
       " 368    16  1.0  28.0  0.5  1693  0.694  1.037  \n",
       " 369    16  1.0  26.0  0.5  1688  0.675  1.040  \n",
       " \n",
       " [150 rows x 15 columns])"
      ]
     },
     "execution_count": 25,
     "metadata": {},
     "output_type": "execute_result"
    }
   ],
   "source": [
    "Mujeres = dfad[dfad[\"M/F\"]==\"F\"]\n",
    "Hombres = dfad[dfad[\"M/F\"]==\"M\"]\n",
    "\n",
    "Mujeres, Hombres"
   ]
  },
  {
   "cell_type": "code",
   "execution_count": 26,
   "id": "a953b103",
   "metadata": {
    "scrolled": false
   },
   "outputs": [
    {
     "data": {
      "image/png": "[encoded data removed]",
      "text/plain": [
       "<Figure size 864x864 with 1 Axes>"
      ]
     },
     "metadata": {},
     "output_type": "display_data"
    }
   ],
   "source": [
    "plt.figure(figsize=(12,12))\n",
    "plt.scatter(Mujeres[\"Age\"], Mujeres[\"eTIV\"],\n",
    "            marker=\"x\", s=150, color=\"deeppink\",\n",
    "            label=\"Mujeres\")\n",
    "\n",
    "plt.scatter(Hombres[\"Age\"], Hombres[\"eTIV\"],\n",
    "            marker=\"1\", s=150, color=\"darkcyan\", \n",
    "            label=\"Hombres\")\n",
    "\n",
    "\n",
    "plt.ylabel(\"Volumen intracraneal total estimado\")\n",
    "plt.xlabel(\"Age\")\n",
    "plt.legend(bbox_to_anchor=(1, 0.2)) \n",
    "plt.show()"
   ]
  },
  {
   "cell_type": "markdown",
   "id": "5118d60a",
   "metadata": {},
   "source": [
    "El volumen total del contenido intracraneal es de aproximadamente 1500 cc "
   ]
  },
  {
   "cell_type": "code",
   "execution_count": 28,
   "id": "207bd415",
   "metadata": {
    "scrolled": false
   },
   "outputs": [
    {
     "data": {
      "text/html": [
       "<div>\n",
       "<style scoped>\n",
       "    .dataframe tbody tr th:only-of-type {\n",
       "        vertical-align: middle;\n",
       "    }\n",
       "\n",
       "    .dataframe tbody tr th {\n",
       "        vertical-align: top;\n",
       "    }\n",
       "\n",
       "    .dataframe thead th {\n",
       "        text-align: right;\n",
       "    }\n",
       "</style>\n",
       "<table border=\"1\" class=\"dataframe\">\n",
       "  <thead>\n",
       "    <tr style=\"text-align: right;\">\n",
       "      <th></th>\n",
       "      <th>Subject ID</th>\n",
       "      <th>MRI ID</th>\n",
       "      <th>Group</th>\n",
       "      <th>Visit</th>\n",
       "      <th>MR Delay</th>\n",
       "      <th>M/F</th>\n",
       "      <th>Hand</th>\n",
       "      <th>Age</th>\n",
       "      <th>EDUC</th>\n",
       "      <th>SES</th>\n",
       "      <th>MMSE</th>\n",
       "      <th>CDR</th>\n",
       "      <th>eTIV</th>\n",
       "      <th>nWBV</th>\n",
       "      <th>ASF</th>\n",
       "    </tr>\n",
       "  </thead>\n",
       "  <tbody>\n",
       "    <tr>\n",
       "      <th>0</th>\n",
       "      <td>OAS2_0001</td>\n",
       "      <td>OAS2_0001_MR1</td>\n",
       "      <td>Nondemented</td>\n",
       "      <td>1</td>\n",
       "      <td>0</td>\n",
       "      <td>M</td>\n",
       "      <td>R</td>\n",
       "      <td>87</td>\n",
       "      <td>14</td>\n",
       "      <td>2.0</td>\n",
       "      <td>27.0</td>\n",
       "      <td>0.0</td>\n",
       "      <td>1987</td>\n",
       "      <td>0.696</td>\n",
       "      <td>0.883</td>\n",
       "    </tr>\n",
       "    <tr>\n",
       "      <th>1</th>\n",
       "      <td>OAS2_0001</td>\n",
       "      <td>OAS2_0001_MR2</td>\n",
       "      <td>Nondemented</td>\n",
       "      <td>2</td>\n",
       "      <td>457</td>\n",
       "      <td>M</td>\n",
       "      <td>R</td>\n",
       "      <td>88</td>\n",
       "      <td>14</td>\n",
       "      <td>2.0</td>\n",
       "      <td>30.0</td>\n",
       "      <td>0.0</td>\n",
       "      <td>2004</td>\n",
       "      <td>0.681</td>\n",
       "      <td>0.876</td>\n",
       "    </tr>\n",
       "    <tr>\n",
       "      <th>5</th>\n",
       "      <td>OAS2_0004</td>\n",
       "      <td>OAS2_0004_MR1</td>\n",
       "      <td>Nondemented</td>\n",
       "      <td>1</td>\n",
       "      <td>0</td>\n",
       "      <td>F</td>\n",
       "      <td>R</td>\n",
       "      <td>88</td>\n",
       "      <td>18</td>\n",
       "      <td>3.0</td>\n",
       "      <td>28.0</td>\n",
       "      <td>0.0</td>\n",
       "      <td>1215</td>\n",
       "      <td>0.710</td>\n",
       "      <td>1.444</td>\n",
       "    </tr>\n",
       "    <tr>\n",
       "      <th>6</th>\n",
       "      <td>OAS2_0004</td>\n",
       "      <td>OAS2_0004_MR2</td>\n",
       "      <td>Nondemented</td>\n",
       "      <td>2</td>\n",
       "      <td>538</td>\n",
       "      <td>F</td>\n",
       "      <td>R</td>\n",
       "      <td>90</td>\n",
       "      <td>18</td>\n",
       "      <td>3.0</td>\n",
       "      <td>27.0</td>\n",
       "      <td>0.0</td>\n",
       "      <td>1200</td>\n",
       "      <td>0.718</td>\n",
       "      <td>1.462</td>\n",
       "    </tr>\n",
       "    <tr>\n",
       "      <th>7</th>\n",
       "      <td>OAS2_0005</td>\n",
       "      <td>OAS2_0005_MR1</td>\n",
       "      <td>Nondemented</td>\n",
       "      <td>1</td>\n",
       "      <td>0</td>\n",
       "      <td>M</td>\n",
       "      <td>R</td>\n",
       "      <td>80</td>\n",
       "      <td>12</td>\n",
       "      <td>4.0</td>\n",
       "      <td>28.0</td>\n",
       "      <td>0.0</td>\n",
       "      <td>1689</td>\n",
       "      <td>0.712</td>\n",
       "      <td>1.039</td>\n",
       "    </tr>\n",
       "  </tbody>\n",
       "</table>\n",
       "</div>"
      ],
      "text/plain": [
       "  Subject ID         MRI ID        Group  Visit  MR Delay M/F Hand  Age  EDUC  \\\n",
       "0  OAS2_0001  OAS2_0001_MR1  Nondemented      1         0   M    R   87    14   \n",
       "1  OAS2_0001  OAS2_0001_MR2  Nondemented      2       457   M    R   88    14   \n",
       "5  OAS2_0004  OAS2_0004_MR1  Nondemented      1         0   F    R   88    18   \n",
       "6  OAS2_0004  OAS2_0004_MR2  Nondemented      2       538   F    R   90    18   \n",
       "7  OAS2_0005  OAS2_0005_MR1  Nondemented      1         0   M    R   80    12   \n",
       "\n",
       "   SES  MMSE  CDR  eTIV   nWBV    ASF  \n",
       "0  2.0  27.0  0.0  1987  0.696  0.883  \n",
       "1  2.0  30.0  0.0  2004  0.681  0.876  \n",
       "5  3.0  28.0  0.0  1215  0.710  1.444  \n",
       "6  3.0  27.0  0.0  1200  0.718  1.462  \n",
       "7  4.0  28.0  0.0  1689  0.712  1.039  "
      ]
     },
     "execution_count": 28,
     "metadata": {},
     "output_type": "execute_result"
    }
   ],
   "source": [
    "dfad.head()"
   ]
  },
  {
   "cell_type": "markdown",
   "id": "3e8e129f",
   "metadata": {},
   "source": [
    "df = px.data.tips()\n",
    "fig = px.scatter(df, x=\"total_bill\", y=\"tip\", color=\"smoker\", facet_col=\"sex\", facet_row=\"time\")\n",
    "fig.show()"
   ]
  },
  {
   "cell_type": "code",
   "execution_count": 39,
   "id": "571ebb2d",
   "metadata": {
    "scrolled": true
   },
   "outputs": [
    {
     "name": "stdout",
     "output_type": "stream",
     "text": [
      "<class 'pandas.core.frame.DataFrame'>\n",
      "Int64Index: 354 entries, 0 to 372\n",
      "Data columns (total 15 columns):\n",
      " #   Column      Non-Null Count  Dtype  \n",
      "---  ------      --------------  -----  \n",
      " 0   Subject ID  354 non-null    object \n",
      " 1   MRI ID      354 non-null    object \n",
      " 2   Group       354 non-null    object \n",
      " 3   Visit       354 non-null    int64  \n",
      " 4   MR Delay    354 non-null    int64  \n",
      " 5   M/F         354 non-null    object \n",
      " 6   Hand        354 non-null    object \n",
      " 7   Age         354 non-null    int64  \n",
      " 8   EDUC        354 non-null    int64  \n",
      " 9   SES         354 non-null    float64\n",
      " 10  MMSE        354 non-null    float64\n",
      " 11  CDR         354 non-null    float64\n",
      " 12  eTIV        354 non-null    int64  \n",
      " 13  nWBV        354 non-null    float64\n",
      " 14  ASF         354 non-null    float64\n",
      "dtypes: float64(5), int64(5), object(5)\n",
      "memory usage: 44.2+ KB\n"
     ]
    }
   ],
   "source": [
    "dfad.info()"
   ]
  },
  {
   "cell_type": "code",
   "execution_count": 40,
   "id": "6a28d221",
   "metadata": {},
   "outputs": [
    {
     "name": "stderr",
     "output_type": "stream",
     "text": [
      "C:\\Users\\MiCachi\\AppData\\Local\\Temp\\ipykernel_14928\\1644040447.py:2: FutureWarning:\n",
      "\n",
      "this method is deprecated in favour of `Styler.hide(axis='index')`\n",
      "\n"
     ]
    },
    {
     "data": {
      "text/html": [
       "<style type=\"text/css\">\n",
       "</style>\n",
       "<table id=\"T_8f536\">\n",
       "  <thead>\n",
       "    <tr>\n",
       "      <th id=\"T_8f536_level0_col0\" class=\"col_heading level0 col0\" >Siglas</th>\n",
       "      <th id=\"T_8f536_level0_col1\" class=\"col_heading level0 col1\" >Significado</th>\n",
       "    </tr>\n",
       "  </thead>\n",
       "  <tbody>\n",
       "    <tr>\n",
       "      <td id=\"T_8f536_row0_col0\" class=\"data row0 col0\" >EDUC</td>\n",
       "      <td id=\"T_8f536_row0_col1\" class=\"data row0 col1\" >Años de educación</td>\n",
       "    </tr>\n",
       "    <tr>\n",
       "      <td id=\"T_8f536_row1_col0\" class=\"data row1 col0\" >SES</td>\n",
       "      <td id=\"T_8f536_row1_col1\" class=\"data row1 col1\" >Estatus socioeconómico</td>\n",
       "    </tr>\n",
       "    <tr>\n",
       "      <td id=\"T_8f536_row2_col0\" class=\"data row2 col0\" >MMSE</td>\n",
       "      <td id=\"T_8f536_row2_col1\" class=\"data row2 col1\" >Mini examen de estado mental</td>\n",
       "    </tr>\n",
       "    <tr>\n",
       "      <td id=\"T_8f536_row3_col0\" class=\"data row3 col0\" >CDR</td>\n",
       "      <td id=\"T_8f536_row3_col1\" class=\"data row3 col1\" >Calificación clínica de demencia</td>\n",
       "    </tr>\n",
       "    <tr>\n",
       "      <td id=\"T_8f536_row4_col0\" class=\"data row4 col0\" >eTIV</td>\n",
       "      <td id=\"T_8f536_row4_col1\" class=\"data row4 col1\" >Volumen intracraneal total estimado</td>\n",
       "    </tr>\n",
       "    <tr>\n",
       "      <td id=\"T_8f536_row5_col0\" class=\"data row5 col0\" >nWBV</td>\n",
       "      <td id=\"T_8f536_row5_col1\" class=\"data row5 col1\" >Volumen total de cerebro normalizado</td>\n",
       "    </tr>\n",
       "    <tr>\n",
       "      <td id=\"T_8f536_row6_col0\" class=\"data row6 col0\" >ASF</td>\n",
       "      <td id=\"T_8f536_row6_col1\" class=\"data row6 col1\" >Factor de escala del atlas</td>\n",
       "    </tr>\n",
       "  </tbody>\n",
       "</table>\n"
      ],
      "text/plain": [
       "<pandas.io.formats.style.Styler at 0x2797751bd00>"
      ]
     },
     "execution_count": 40,
     "metadata": {},
     "output_type": "execute_result"
    }
   ],
   "source": [
    "descriptores = pd.DataFrame(Data_des)\n",
    "descriptores.style.hide_index()"
   ]
  },
  {
   "cell_type": "code",
   "execution_count": 41,
   "id": "26797d85",
   "metadata": {
    "scrolled": true
   },
   "outputs": [],
   "source": [
    "Data_categorica = [\"Subject ID\", \"MRI ID\",\"Group\",\"M/F\",\"Hand\",]\n",
    "Data_numerica = [\"Visit\", \"MR Delay\", \"Age\", \"EDUC\", \"SES\", \"MMSE\", \"CDR\", \"eTIV\", \"nWBV\",\"ASF\"]\n",
    "Date_fisiologica = [\"M/F\",\"MR Delay\",\"Age\",\"eTIV\",\"nWBV\",\"ASF\"]\n",
    "Data_psico = [\"MMSE\",\"CDR\"]"
   ]
  },
  {
   "cell_type": "code",
   "execution_count": 65,
   "id": "ec7d4d0b",
   "metadata": {
    "scrolled": true
   },
   "outputs": [
    {
     "data": {
      "text/plain": [
       "['Visit',\n",
       " 'MR Delay',\n",
       " 'Age',\n",
       " 'EDUC',\n",
       " 'SES',\n",
       " 'MMSE',\n",
       " 'CDR',\n",
       " 'eTIV',\n",
       " 'nWBV',\n",
       " 'ASF']"
      ]
     },
     "execution_count": 65,
     "metadata": {},
     "output_type": "execute_result"
    }
   ],
   "source": [
    "Data_numerica"
   ]
  },
  {
   "cell_type": "code",
   "execution_count": 64,
   "id": "a519394a",
   "metadata": {},
   "outputs": [
    {
     "data": {
      "text/plain": [
       "['Subject ID', 'MRI ID', 'Group', 'M/F', 'Hand']"
      ]
     },
     "execution_count": 64,
     "metadata": {},
     "output_type": "execute_result"
    }
   ],
   "source": [
    "Data_categorica"
   ]
  },
  {
   "cell_type": "raw",
   "id": "8f96dc84",
   "metadata": {},
   "source": [
    "Arbol de desicion "
   ]
  },
  {
   "cell_type": "markdown",
   "id": "163f0be9",
   "metadata": {},
   "source": [
    "Cambiar data categorica a numerica para que este modelo sea viable \n",
    "https://www.youtube.com/watch?v=mMOBER643Do&t=1s \n",
    "lo vamos a hacer mapeando un diccionario "
   ]
  },
  {
   "cell_type": "code",
   "execution_count": 46,
   "id": "92ebc931",
   "metadata": {
    "scrolled": true
   },
   "outputs": [
    {
     "data": {
      "text/html": [
       "<div>\n",
       "<style scoped>\n",
       "    .dataframe tbody tr th:only-of-type {\n",
       "        vertical-align: middle;\n",
       "    }\n",
       "\n",
       "    .dataframe tbody tr th {\n",
       "        vertical-align: top;\n",
       "    }\n",
       "\n",
       "    .dataframe thead th {\n",
       "        text-align: right;\n",
       "    }\n",
       "</style>\n",
       "<table border=\"1\" class=\"dataframe\">\n",
       "  <thead>\n",
       "    <tr style=\"text-align: right;\">\n",
       "      <th></th>\n",
       "      <th>Subject ID</th>\n",
       "      <th>Age</th>\n",
       "      <th>EDUC</th>\n",
       "      <th>SES</th>\n",
       "      <th>eTIV</th>\n",
       "      <th>nWBV</th>\n",
       "      <th>ASF</th>\n",
       "      <th>Group</th>\n",
       "    </tr>\n",
       "  </thead>\n",
       "  <tbody>\n",
       "    <tr>\n",
       "      <th>0</th>\n",
       "      <td>OAS2_0001</td>\n",
       "      <td>87</td>\n",
       "      <td>14</td>\n",
       "      <td>2.0</td>\n",
       "      <td>1987</td>\n",
       "      <td>0.696</td>\n",
       "      <td>0.883</td>\n",
       "      <td>Nondemented</td>\n",
       "    </tr>\n",
       "    <tr>\n",
       "      <th>1</th>\n",
       "      <td>OAS2_0001</td>\n",
       "      <td>88</td>\n",
       "      <td>14</td>\n",
       "      <td>2.0</td>\n",
       "      <td>2004</td>\n",
       "      <td>0.681</td>\n",
       "      <td>0.876</td>\n",
       "      <td>Nondemented</td>\n",
       "    </tr>\n",
       "    <tr>\n",
       "      <th>5</th>\n",
       "      <td>OAS2_0004</td>\n",
       "      <td>88</td>\n",
       "      <td>18</td>\n",
       "      <td>3.0</td>\n",
       "      <td>1215</td>\n",
       "      <td>0.710</td>\n",
       "      <td>1.444</td>\n",
       "      <td>Nondemented</td>\n",
       "    </tr>\n",
       "    <tr>\n",
       "      <th>6</th>\n",
       "      <td>OAS2_0004</td>\n",
       "      <td>90</td>\n",
       "      <td>18</td>\n",
       "      <td>3.0</td>\n",
       "      <td>1200</td>\n",
       "      <td>0.718</td>\n",
       "      <td>1.462</td>\n",
       "      <td>Nondemented</td>\n",
       "    </tr>\n",
       "    <tr>\n",
       "      <th>7</th>\n",
       "      <td>OAS2_0005</td>\n",
       "      <td>80</td>\n",
       "      <td>12</td>\n",
       "      <td>4.0</td>\n",
       "      <td>1689</td>\n",
       "      <td>0.712</td>\n",
       "      <td>1.039</td>\n",
       "      <td>Nondemented</td>\n",
       "    </tr>\n",
       "  </tbody>\n",
       "</table>\n",
       "</div>"
      ],
      "text/plain": [
       "  Subject ID  Age  EDUC  SES  eTIV   nWBV    ASF        Group\n",
       "0  OAS2_0001   87    14  2.0  1987  0.696  0.883  Nondemented\n",
       "1  OAS2_0001   88    14  2.0  2004  0.681  0.876  Nondemented\n",
       "5  OAS2_0004   88    18  3.0  1215  0.710  1.444  Nondemented\n",
       "6  OAS2_0004   90    18  3.0  1200  0.718  1.462  Nondemented\n",
       "7  OAS2_0005   80    12  4.0  1689  0.712  1.039  Nondemented"
      ]
     },
     "execution_count": 46,
     "metadata": {},
     "output_type": "execute_result"
    }
   ],
   "source": [
    "dfad3 = dfad.loc[:,[\"Subject ID\",\"Age\",\"EDUC\",\"SES\",\"eTIV\", \"nWBV\",\"ASF\", \"Group\"]]\n",
    "dfad3.head()"
   ]
  },
  {
   "cell_type": "code",
   "execution_count": 49,
   "id": "7f5ba14c",
   "metadata": {},
   "outputs": [],
   "source": [
    "Groups = {\"Nondemented\":0, \"Demented\":1, \"Converted\":2}"
   ]
  },
  {
   "cell_type": "code",
   "execution_count": 51,
   "id": "51ae1533",
   "metadata": {},
   "outputs": [],
   "source": [
    "dfad3[\"Group\"] = dfad3[\"Group\"].map(Groups)"
   ]
  },
  {
   "cell_type": "code",
   "execution_count": 52,
   "id": "72102f1c",
   "metadata": {},
   "outputs": [
    {
     "data": {
      "text/html": [
       "<div>\n",
       "<style scoped>\n",
       "    .dataframe tbody tr th:only-of-type {\n",
       "        vertical-align: middle;\n",
       "    }\n",
       "\n",
       "    .dataframe tbody tr th {\n",
       "        vertical-align: top;\n",
       "    }\n",
       "\n",
       "    .dataframe thead th {\n",
       "        text-align: right;\n",
       "    }\n",
       "</style>\n",
       "<table border=\"1\" class=\"dataframe\">\n",
       "  <thead>\n",
       "    <tr style=\"text-align: right;\">\n",
       "      <th></th>\n",
       "      <th>Subject ID</th>\n",
       "      <th>Age</th>\n",
       "      <th>EDUC</th>\n",
       "      <th>SES</th>\n",
       "      <th>eTIV</th>\n",
       "      <th>nWBV</th>\n",
       "      <th>ASF</th>\n",
       "      <th>Group</th>\n",
       "    </tr>\n",
       "  </thead>\n",
       "  <tbody>\n",
       "    <tr>\n",
       "      <th>0</th>\n",
       "      <td>OAS2_0001</td>\n",
       "      <td>87</td>\n",
       "      <td>14</td>\n",
       "      <td>2.0</td>\n",
       "      <td>1987</td>\n",
       "      <td>0.696</td>\n",
       "      <td>0.883</td>\n",
       "      <td>0</td>\n",
       "    </tr>\n",
       "    <tr>\n",
       "      <th>1</th>\n",
       "      <td>OAS2_0001</td>\n",
       "      <td>88</td>\n",
       "      <td>14</td>\n",
       "      <td>2.0</td>\n",
       "      <td>2004</td>\n",
       "      <td>0.681</td>\n",
       "      <td>0.876</td>\n",
       "      <td>0</td>\n",
       "    </tr>\n",
       "    <tr>\n",
       "      <th>5</th>\n",
       "      <td>OAS2_0004</td>\n",
       "      <td>88</td>\n",
       "      <td>18</td>\n",
       "      <td>3.0</td>\n",
       "      <td>1215</td>\n",
       "      <td>0.710</td>\n",
       "      <td>1.444</td>\n",
       "      <td>0</td>\n",
       "    </tr>\n",
       "    <tr>\n",
       "      <th>6</th>\n",
       "      <td>OAS2_0004</td>\n",
       "      <td>90</td>\n",
       "      <td>18</td>\n",
       "      <td>3.0</td>\n",
       "      <td>1200</td>\n",
       "      <td>0.718</td>\n",
       "      <td>1.462</td>\n",
       "      <td>0</td>\n",
       "    </tr>\n",
       "    <tr>\n",
       "      <th>7</th>\n",
       "      <td>OAS2_0005</td>\n",
       "      <td>80</td>\n",
       "      <td>12</td>\n",
       "      <td>4.0</td>\n",
       "      <td>1689</td>\n",
       "      <td>0.712</td>\n",
       "      <td>1.039</td>\n",
       "      <td>0</td>\n",
       "    </tr>\n",
       "    <tr>\n",
       "      <th>...</th>\n",
       "      <td>...</td>\n",
       "      <td>...</td>\n",
       "      <td>...</td>\n",
       "      <td>...</td>\n",
       "      <td>...</td>\n",
       "      <td>...</td>\n",
       "      <td>...</td>\n",
       "      <td>...</td>\n",
       "    </tr>\n",
       "    <tr>\n",
       "      <th>368</th>\n",
       "      <td>OAS2_0185</td>\n",
       "      <td>82</td>\n",
       "      <td>16</td>\n",
       "      <td>1.0</td>\n",
       "      <td>1693</td>\n",
       "      <td>0.694</td>\n",
       "      <td>1.037</td>\n",
       "      <td>1</td>\n",
       "    </tr>\n",
       "    <tr>\n",
       "      <th>369</th>\n",
       "      <td>OAS2_0185</td>\n",
       "      <td>86</td>\n",
       "      <td>16</td>\n",
       "      <td>1.0</td>\n",
       "      <td>1688</td>\n",
       "      <td>0.675</td>\n",
       "      <td>1.040</td>\n",
       "      <td>1</td>\n",
       "    </tr>\n",
       "    <tr>\n",
       "      <th>370</th>\n",
       "      <td>OAS2_0186</td>\n",
       "      <td>61</td>\n",
       "      <td>13</td>\n",
       "      <td>2.0</td>\n",
       "      <td>1319</td>\n",
       "      <td>0.801</td>\n",
       "      <td>1.331</td>\n",
       "      <td>0</td>\n",
       "    </tr>\n",
       "    <tr>\n",
       "      <th>371</th>\n",
       "      <td>OAS2_0186</td>\n",
       "      <td>63</td>\n",
       "      <td>13</td>\n",
       "      <td>2.0</td>\n",
       "      <td>1327</td>\n",
       "      <td>0.796</td>\n",
       "      <td>1.323</td>\n",
       "      <td>0</td>\n",
       "    </tr>\n",
       "    <tr>\n",
       "      <th>372</th>\n",
       "      <td>OAS2_0186</td>\n",
       "      <td>65</td>\n",
       "      <td>13</td>\n",
       "      <td>2.0</td>\n",
       "      <td>1333</td>\n",
       "      <td>0.801</td>\n",
       "      <td>1.317</td>\n",
       "      <td>0</td>\n",
       "    </tr>\n",
       "  </tbody>\n",
       "</table>\n",
       "<p>354 rows × 8 columns</p>\n",
       "</div>"
      ],
      "text/plain": [
       "    Subject ID  Age  EDUC  SES  eTIV   nWBV    ASF  Group\n",
       "0    OAS2_0001   87    14  2.0  1987  0.696  0.883      0\n",
       "1    OAS2_0001   88    14  2.0  2004  0.681  0.876      0\n",
       "5    OAS2_0004   88    18  3.0  1215  0.710  1.444      0\n",
       "6    OAS2_0004   90    18  3.0  1200  0.718  1.462      0\n",
       "7    OAS2_0005   80    12  4.0  1689  0.712  1.039      0\n",
       "..         ...  ...   ...  ...   ...    ...    ...    ...\n",
       "368  OAS2_0185   82    16  1.0  1693  0.694  1.037      1\n",
       "369  OAS2_0185   86    16  1.0  1688  0.675  1.040      1\n",
       "370  OAS2_0186   61    13  2.0  1319  0.801  1.331      0\n",
       "371  OAS2_0186   63    13  2.0  1327  0.796  1.323      0\n",
       "372  OAS2_0186   65    13  2.0  1333  0.801  1.317      0\n",
       "\n",
       "[354 rows x 8 columns]"
      ]
     },
     "execution_count": 52,
     "metadata": {},
     "output_type": "execute_result"
    }
   ],
   "source": [
    "dfad3"
   ]
  },
  {
   "cell_type": "markdown",
   "id": "d12ca398",
   "metadata": {},
   "source": [
    "K-Vecinos Más Cercanos (KNN) "
   ]
  },
  {
   "cell_type": "code",
   "execution_count": 40,
   "id": "9396f9dd",
   "metadata": {},
   "outputs": [],
   "source": [
    "import pandas as pd\n",
    "import numpy as np\n",
    "import matplotlib.pyplot as plt\n",
    "from sklearn import preprocessing\n",
    "from sklearn.neighbors import KNeighborsClassifier"
   ]
  },
  {
   "cell_type": "code",
   "execution_count": 53,
   "id": "06778733",
   "metadata": {
    "scrolled": false
   },
   "outputs": [
    {
     "data": {
      "text/html": [
       "<div>\n",
       "<style scoped>\n",
       "    .dataframe tbody tr th:only-of-type {\n",
       "        vertical-align: middle;\n",
       "    }\n",
       "\n",
       "    .dataframe tbody tr th {\n",
       "        vertical-align: top;\n",
       "    }\n",
       "\n",
       "    .dataframe thead th {\n",
       "        text-align: right;\n",
       "    }\n",
       "</style>\n",
       "<table border=\"1\" class=\"dataframe\">\n",
       "  <thead>\n",
       "    <tr style=\"text-align: right;\">\n",
       "      <th></th>\n",
       "      <th>Subject ID</th>\n",
       "      <th>Age</th>\n",
       "      <th>EDUC</th>\n",
       "      <th>SES</th>\n",
       "      <th>eTIV</th>\n",
       "      <th>nWBV</th>\n",
       "      <th>ASF</th>\n",
       "      <th>Group</th>\n",
       "    </tr>\n",
       "  </thead>\n",
       "  <tbody>\n",
       "    <tr>\n",
       "      <th>0</th>\n",
       "      <td>OAS2_0001</td>\n",
       "      <td>87</td>\n",
       "      <td>14</td>\n",
       "      <td>2.0</td>\n",
       "      <td>1987</td>\n",
       "      <td>0.696</td>\n",
       "      <td>0.883</td>\n",
       "      <td>0</td>\n",
       "    </tr>\n",
       "    <tr>\n",
       "      <th>1</th>\n",
       "      <td>OAS2_0001</td>\n",
       "      <td>88</td>\n",
       "      <td>14</td>\n",
       "      <td>2.0</td>\n",
       "      <td>2004</td>\n",
       "      <td>0.681</td>\n",
       "      <td>0.876</td>\n",
       "      <td>0</td>\n",
       "    </tr>\n",
       "    <tr>\n",
       "      <th>5</th>\n",
       "      <td>OAS2_0004</td>\n",
       "      <td>88</td>\n",
       "      <td>18</td>\n",
       "      <td>3.0</td>\n",
       "      <td>1215</td>\n",
       "      <td>0.710</td>\n",
       "      <td>1.444</td>\n",
       "      <td>0</td>\n",
       "    </tr>\n",
       "    <tr>\n",
       "      <th>6</th>\n",
       "      <td>OAS2_0004</td>\n",
       "      <td>90</td>\n",
       "      <td>18</td>\n",
       "      <td>3.0</td>\n",
       "      <td>1200</td>\n",
       "      <td>0.718</td>\n",
       "      <td>1.462</td>\n",
       "      <td>0</td>\n",
       "    </tr>\n",
       "    <tr>\n",
       "      <th>7</th>\n",
       "      <td>OAS2_0005</td>\n",
       "      <td>80</td>\n",
       "      <td>12</td>\n",
       "      <td>4.0</td>\n",
       "      <td>1689</td>\n",
       "      <td>0.712</td>\n",
       "      <td>1.039</td>\n",
       "      <td>0</td>\n",
       "    </tr>\n",
       "    <tr>\n",
       "      <th>...</th>\n",
       "      <td>...</td>\n",
       "      <td>...</td>\n",
       "      <td>...</td>\n",
       "      <td>...</td>\n",
       "      <td>...</td>\n",
       "      <td>...</td>\n",
       "      <td>...</td>\n",
       "      <td>...</td>\n",
       "    </tr>\n",
       "    <tr>\n",
       "      <th>368</th>\n",
       "      <td>OAS2_0185</td>\n",
       "      <td>82</td>\n",
       "      <td>16</td>\n",
       "      <td>1.0</td>\n",
       "      <td>1693</td>\n",
       "      <td>0.694</td>\n",
       "      <td>1.037</td>\n",
       "      <td>1</td>\n",
       "    </tr>\n",
       "    <tr>\n",
       "      <th>369</th>\n",
       "      <td>OAS2_0185</td>\n",
       "      <td>86</td>\n",
       "      <td>16</td>\n",
       "      <td>1.0</td>\n",
       "      <td>1688</td>\n",
       "      <td>0.675</td>\n",
       "      <td>1.040</td>\n",
       "      <td>1</td>\n",
       "    </tr>\n",
       "    <tr>\n",
       "      <th>370</th>\n",
       "      <td>OAS2_0186</td>\n",
       "      <td>61</td>\n",
       "      <td>13</td>\n",
       "      <td>2.0</td>\n",
       "      <td>1319</td>\n",
       "      <td>0.801</td>\n",
       "      <td>1.331</td>\n",
       "      <td>0</td>\n",
       "    </tr>\n",
       "    <tr>\n",
       "      <th>371</th>\n",
       "      <td>OAS2_0186</td>\n",
       "      <td>63</td>\n",
       "      <td>13</td>\n",
       "      <td>2.0</td>\n",
       "      <td>1327</td>\n",
       "      <td>0.796</td>\n",
       "      <td>1.323</td>\n",
       "      <td>0</td>\n",
       "    </tr>\n",
       "    <tr>\n",
       "      <th>372</th>\n",
       "      <td>OAS2_0186</td>\n",
       "      <td>65</td>\n",
       "      <td>13</td>\n",
       "      <td>2.0</td>\n",
       "      <td>1333</td>\n",
       "      <td>0.801</td>\n",
       "      <td>1.317</td>\n",
       "      <td>0</td>\n",
       "    </tr>\n",
       "  </tbody>\n",
       "</table>\n",
       "<p>354 rows × 8 columns</p>\n",
       "</div>"
      ],
      "text/plain": [
       "    Subject ID  Age  EDUC  SES  eTIV   nWBV    ASF  Group\n",
       "0    OAS2_0001   87    14  2.0  1987  0.696  0.883      0\n",
       "1    OAS2_0001   88    14  2.0  2004  0.681  0.876      0\n",
       "5    OAS2_0004   88    18  3.0  1215  0.710  1.444      0\n",
       "6    OAS2_0004   90    18  3.0  1200  0.718  1.462      0\n",
       "7    OAS2_0005   80    12  4.0  1689  0.712  1.039      0\n",
       "..         ...  ...   ...  ...   ...    ...    ...    ...\n",
       "368  OAS2_0185   82    16  1.0  1693  0.694  1.037      1\n",
       "369  OAS2_0185   86    16  1.0  1688  0.675  1.040      1\n",
       "370  OAS2_0186   61    13  2.0  1319  0.801  1.331      0\n",
       "371  OAS2_0186   63    13  2.0  1327  0.796  1.323      0\n",
       "372  OAS2_0186   65    13  2.0  1333  0.801  1.317      0\n",
       "\n",
       "[354 rows x 8 columns]"
      ]
     },
     "execution_count": 53,
     "metadata": {},
     "output_type": "execute_result"
    }
   ],
   "source": [
    "dfad3"
   ]
  },
  {
   "cell_type": "code",
   "execution_count": null,
   "id": "5ede7fe1",
   "metadata": {},
   "outputs": [],
   "source": []
  },
  {
   "cell_type": "code",
   "execution_count": 65,
   "id": "bfd04364",
   "metadata": {
    "scrolled": true
   },
   "outputs": [
    {
     "data": {
      "text/plain": [
       "(    Subject ID  Age  EDUC  SES  eTIV   nWBV    ASF  Group\n",
       " 15   OAS2_0009   68    12  2.0  1457  0.806  1.205      1\n",
       " 16   OAS2_0009   69    12  2.0  1480  0.791  1.186      1\n",
       " 17   OAS2_0010   66    12  3.0  1447  0.769  1.213      1\n",
       " 18   OAS2_0010   68    12  3.0  1482  0.752  1.184      1\n",
       " 25   OAS2_0014   76    16  3.0  1602  0.697  1.096      1\n",
       " ..         ...  ...   ...  ...   ...    ...    ...    ...\n",
       " 365  OAS2_0184   72    16  3.0  1354  0.733  1.296      1\n",
       " 366  OAS2_0184   73    16  3.0  1351  0.708  1.299      1\n",
       " 367  OAS2_0185   80    16  1.0  1704  0.711  1.030      1\n",
       " 368  OAS2_0185   82    16  1.0  1693  0.694  1.037      1\n",
       " 369  OAS2_0185   86    16  1.0  1688  0.675  1.040      1\n",
       " \n",
       " [127 rows x 8 columns],\n",
       "     Subject ID  Age  EDUC  SES  eTIV   nWBV    ASF  Group\n",
       " 0    OAS2_0001   87    14  2.0  1987  0.696  0.883      0\n",
       " 1    OAS2_0001   88    14  2.0  2004  0.681  0.876      0\n",
       " 5    OAS2_0004   88    18  3.0  1215  0.710  1.444      0\n",
       " 6    OAS2_0004   90    18  3.0  1200  0.718  1.462      0\n",
       " 7    OAS2_0005   80    12  4.0  1689  0.712  1.039      0\n",
       " ..         ...  ...   ...  ...   ...    ...    ...    ...\n",
       " 363  OAS2_0183   68    13  2.0  1506  0.740  1.165      0\n",
       " 364  OAS2_0183   72    13  2.0  1510  0.723  1.162      0\n",
       " 370  OAS2_0186   61    13  2.0  1319  0.801  1.331      0\n",
       " 371  OAS2_0186   63    13  2.0  1327  0.796  1.323      0\n",
       " 372  OAS2_0186   65    13  2.0  1333  0.801  1.317      0\n",
       " \n",
       " [190 rows x 8 columns],\n",
       "     Subject ID  Age  EDUC  SES  eTIV   nWBV    ASF  Group\n",
       " 33   OAS2_0018   87    14  1.0  1406  0.715  1.248      2\n",
       " 34   OAS2_0018   88    14  1.0  1398  0.713  1.255      2\n",
       " 35   OAS2_0018   92    14  1.0  1423  0.696  1.234      2\n",
       " 36   OAS2_0020   80    20  1.0  1587  0.693  1.106      2\n",
       " 37   OAS2_0020   82    20  1.0  1606  0.677  1.093      2\n",
       " 38   OAS2_0020   84    20  1.0  1597  0.666  1.099      2\n",
       " 57   OAS2_0031   86    12  3.0  1430  0.718  1.227      2\n",
       " 58   OAS2_0031   88    12  3.0  1445  0.719  1.215      2\n",
       " 59   OAS2_0031   91    12  3.0  1463  0.696  1.199      2\n",
       " 81   OAS2_0041   71    16  1.0  1289  0.771  1.362      2\n",
       " 82   OAS2_0041   73    16  1.0  1295  0.768  1.356      2\n",
       " 83   OAS2_0041   75    16  1.0  1314  0.760  1.335      2\n",
       " 114  OAS2_0054   85    18  1.0  1264  0.701  1.388      2\n",
       " 115  OAS2_0054   87    18  1.0  1275  0.683  1.376      2\n",
       " 194  OAS2_0092   83    12  2.0  1383  0.748  1.269      2\n",
       " 195  OAS2_0092   84    12  2.0  1390  0.728  1.263      2\n",
       " 218  OAS2_0103   69    16  1.0  1404  0.750  1.250      2\n",
       " 219  OAS2_0103   74    16  1.0  1423  0.722  1.233      2\n",
       " 220  OAS2_0103   75    16  1.0  1419  0.731  1.236      2\n",
       " 245  OAS2_0118   67    14  4.0  1508  0.794  1.164      2\n",
       " 246  OAS2_0118   71    14  4.0  1529  0.788  1.147      2\n",
       " 261  OAS2_0127   79    18  1.0  1644  0.729  1.067      2\n",
       " 262  OAS2_0127   81    18  1.0  1654  0.720  1.061      2\n",
       " 263  OAS2_0127   81    18  1.0  1647  0.717  1.066      2\n",
       " 264  OAS2_0127   84    18  1.0  1668  0.694  1.052      2\n",
       " 265  OAS2_0127   86    18  1.0  1670  0.669  1.051      2\n",
       " 271  OAS2_0131   65    12  2.0  1340  0.754  1.309      2\n",
       " 272  OAS2_0131   67    12  2.0  1331  0.761  1.318      2\n",
       " 273  OAS2_0133   78    12  3.0  1475  0.731  1.190      2\n",
       " 274  OAS2_0133   81    12  3.0  1495  0.687  1.174      2\n",
       " 295  OAS2_0144   77    16  1.0  1704  0.716  1.030      2\n",
       " 296  OAS2_0144   79    16  1.0  1722  0.708  1.019      2\n",
       " 297  OAS2_0145   68    16  3.0  1298  0.799  1.352      2\n",
       " 298  OAS2_0145   73    16  3.0  1287  0.771  1.364      2\n",
       " 346  OAS2_0176   84    16  2.0  1404  0.710  1.250      2\n",
       " 347  OAS2_0176   87    16  2.0  1398  0.696  1.255      2\n",
       " 348  OAS2_0176   89    16  2.0  1408  0.679  1.246      2)"
      ]
     },
     "execution_count": 65,
     "metadata": {},
     "output_type": "execute_result"
    }
   ],
   "source": [
    "mal = dfad3[dfad3[\"Group\"]==1]\n",
    "bien = dfad3[dfad3[\"Group\"]== 0]\n",
    "incierto = dfad3[dfad3[\"Group\"]== 2]\n",
    "mal, bien, incierto"
   ]
  },
  {
   "cell_type": "code",
   "execution_count": 67,
   "id": "7e93ad22",
   "metadata": {},
   "outputs": [
    {
     "data": {
      "image/png": "[encoded data removed]",
      "text/plain": [
       "<Figure size 864x864 with 1 Axes>"
      ]
     },
     "metadata": {
      "needs_background": "light"
     },
     "output_type": "display_data"
    }
   ],
   "source": [
    "plt.figure(figsize=(12,12))\n",
    "plt.scatter(mal[\"Age\"], mal[\"eTIV\"],\n",
    "            marker=\"*\", s=150, color=\"skyblue\",\n",
    "            label=\"Demencia (Clase: 1)\")\n",
    "\n",
    "plt.scatter(bien[\"Age\"], bien[\"eTIV\"],\n",
    "            marker=\"*\", s=150, color=\"red\", \n",
    "            label=\"No demente (Clase: 0)\")\n",
    "\n",
    "plt.scatter(incierto[\"Age\"], incierto[\"eTIV\"],\n",
    "            marker=\"*\", s=150, color=\"red\", \n",
    "            label=\"Convertido (Clase: 2)\")\n",
    "\n",
    "plt.ylabel(\"Volumen intracraneal total estimado\")\n",
    "plt.xlabel(\"Age\")\n",
    "plt.legend(bbox_to_anchor=(1, 0.2)) \n",
    "plt.show()"
   ]
  },
  {
   "cell_type": "code",
   "execution_count": 68,
   "id": "9b146727",
   "metadata": {},
   "outputs": [
    {
     "data": {
      "text/plain": [
       "array([[0.71052632, 0.98106904],\n",
       "       [0.73684211, 1.        ],\n",
       "       [0.73684211, 0.12138085],\n",
       "       [0.78947368, 0.10467706],\n",
       "       [0.52631579, 0.64922049],\n",
       "       [0.60526316, 0.66258352],\n",
       "       [0.65789474, 0.66035635],\n",
       "       [0.86842105, 0.18485523],\n",
       "       [0.92105263, 0.16815145],\n",
       "       [0.21052632, 0.3908686 ],\n",
       "       [0.23684211, 0.41648107],\n",
       "       [0.15789474, 0.37973274],\n",
       "       [0.21052632, 0.41870824],\n",
       "       [0.47368421, 0.25278396],\n",
       "       [0.52631579, 0.24164811],\n",
       "       [0.60526316, 0.24164811],\n",
       "       [0.55263158, 0.13808463],\n",
       "       [0.57894737, 0.11804009],\n",
       "       [0.65789474, 0.1325167 ],\n",
       "       [0.42105263, 0.55233853],\n",
       "       [0.44736842, 0.5389755 ],\n",
       "       [0.73684211, 0.60690423],\n",
       "       [0.78947368, 0.62583519],\n",
       "       [0.52631579, 0.75389755],\n",
       "       [0.55263158, 0.78841871],\n",
       "       [0.65789474, 0.79510022],\n",
       "       [0.68421053, 0.78730512],\n",
       "       [0.71052632, 0.33407572],\n",
       "       [0.73684211, 0.32516704],\n",
       "       [0.84210526, 0.35300668],\n",
       "       [0.52631579, 0.53563474],\n",
       "       [0.57894737, 0.55679287],\n",
       "       [0.63157895, 0.5467706 ],\n",
       "       [0.31578947, 0.89643653],\n",
       "       [0.42105263, 0.91314031],\n",
       "       [0.02631579, 0.23051225],\n",
       "       [0.10526316, 0.23385301],\n",
       "       [0.68421053, 0.15701559],\n",
       "       [0.71052632, 0.16035635],\n",
       "       [0.57894737, 0.34966592],\n",
       "       [0.63157895, 0.37750557],\n",
       "       [0.23684211, 0.28841871],\n",
       "       [0.28947368, 0.28285078],\n",
       "       [0.34210526, 0.28062361],\n",
       "       [0.36842105, 0.27505568],\n",
       "       [0.10526316, 0.49109131],\n",
       "       [0.15789474, 0.5077951 ],\n",
       "       [0.44736842, 0.30178174],\n",
       "       [0.52631579, 0.31625835],\n",
       "       [0.        , 0.32962138],\n",
       "       [0.05263158, 0.31848552],\n",
       "       [0.68421053, 0.36080178],\n",
       "       [0.73684211, 0.37750557],\n",
       "       [0.81578947, 0.39755011],\n",
       "       [0.78947368, 0.22383073],\n",
       "       [0.84210526, 0.22828508],\n",
       "       [0.5       , 0.40089087],\n",
       "       [0.52631579, 0.3830735 ],\n",
       "       [0.57894737, 0.39420935],\n",
       "       [0.63157895, 0.38641425],\n",
       "       [0.73684211, 0.25612472],\n",
       "       [0.76315789, 0.24832962],\n",
       "       [0.23684211, 0.28173719],\n",
       "       [0.26315789, 0.28396437],\n",
       "       [0.34210526, 0.28285078],\n",
       "       [0.39473684, 0.27060134],\n",
       "       [0.57894737, 0.41314031],\n",
       "       [0.65789474, 0.42427617],\n",
       "       [0.73684211, 0.41982183],\n",
       "       [0.76315789, 0.422049  ],\n",
       "       [0.55263158, 0.07572383],\n",
       "       [0.60526316, 0.08129176],\n",
       "       [0.63157895, 0.22717149],\n",
       "       [0.68421053, 0.23830735],\n",
       "       [0.73684211, 0.26948775],\n",
       "       [0.28947368, 0.20378619],\n",
       "       [0.34210526, 0.21046771],\n",
       "       [0.39473684, 0.23162584],\n",
       "       [0.26315789, 0.59465479],\n",
       "       [0.34210526, 0.62249443],\n",
       "       [0.31578947, 0.38641425],\n",
       "       [0.34210526, 0.38418708],\n",
       "       [0.21052632, 0.25278396],\n",
       "       [0.23684211, 0.25055679],\n",
       "       [0.28947368, 0.25167038],\n",
       "       [0.39473684, 0.23496659],\n",
       "       [0.44736842, 0.24053452],\n",
       "       [0.60526316, 0.41202673],\n",
       "       [0.65789474, 0.41982183],\n",
       "       [0.44736842, 0.36414254],\n",
       "       [0.47368421, 0.34298441],\n",
       "       [0.15789474, 0.655902  ],\n",
       "       [0.15789474, 0.67037862],\n",
       "       [0.21052632, 0.67483296],\n",
       "       [0.21052632, 0.67706013],\n",
       "       [0.23684211, 0.66258352],\n",
       "       [0.23684211, 0.42873051],\n",
       "       [0.26315789, 0.44432071],\n",
       "       [0.28947368, 0.44209354],\n",
       "       [0.28947368, 0.39532294],\n",
       "       [0.31578947, 0.41982183],\n",
       "       [0.84210526, 0.38752784],\n",
       "       [0.89473684, 0.40979955],\n",
       "       [0.97368421, 0.41982183],\n",
       "       [0.36842105, 0.39755011],\n",
       "       [0.47368421, 0.42093541],\n",
       "       [0.57894737, 0.42093541],\n",
       "       [0.63157895, 0.43875278],\n",
       "       [0.65789474, 0.17594655],\n",
       "       [0.71052632, 0.18819599],\n",
       "       [0.13157895, 0.28507795],\n",
       "       [0.18421053, 0.28841871],\n",
       "       [0.28947368, 0.39532294],\n",
       "       [0.34210526, 0.38975501],\n",
       "       [0.55263158, 0.54899777],\n",
       "       [0.60526316, 0.5155902 ],\n",
       "       [0.65789474, 0.52783964],\n",
       "       [0.47368421, 0.23273942],\n",
       "       [0.5       , 0.22494432],\n",
       "       [0.52631579, 0.24276169],\n",
       "       [0.39473684, 0.34521158],\n",
       "       [0.47368421, 0.3363029 ],\n",
       "       [0.21052632, 0.61024499],\n",
       "       [0.26315789, 0.6169265 ],\n",
       "       [0.31578947, 0.6403118 ],\n",
       "       [0.5       , 0.59576837],\n",
       "       [0.55263158, 0.62138085],\n",
       "       [0.60526316, 0.6247216 ],\n",
       "       [0.47368421, 0.39643653],\n",
       "       [0.55263158, 0.39309577],\n",
       "       [0.57894737, 0.3986637 ],\n",
       "       [0.02631579, 0.94766147],\n",
       "       [0.05263158, 0.91536748],\n",
       "       [0.18421053, 0.37193764],\n",
       "       [0.21052632, 0.36971047],\n",
       "       [0.28947368, 0.38864143],\n",
       "       [0.34210526, 0.37639198],\n",
       "       [0.73684211, 0.35857461],\n",
       "       [0.78947368, 0.41091314],\n",
       "       [0.55263158, 0.40534521],\n",
       "       [0.57894737, 0.4064588 ],\n",
       "       [0.52631579, 0.6169265 ],\n",
       "       [0.57894737, 0.65256125],\n",
       "       [0.63157895, 0.66926503],\n",
       "       [0.65789474, 0.68819599],\n",
       "       [0.68421053, 0.68374165],\n",
       "       [0.60526316, 0.31737194],\n",
       "       [0.63157895, 0.32962138],\n",
       "       [0.26315789, 0.46547884],\n",
       "       [0.31578947, 0.45211581],\n",
       "       [0.39473684, 0.44654788],\n",
       "       [0.42105263, 0.42761693],\n",
       "       [0.44736842, 0.44320713],\n",
       "       [0.34210526, 0.05011136],\n",
       "       [0.39473684, 0.04120267],\n",
       "       [0.15789474, 0.44320713],\n",
       "       [0.23684211, 0.47884187],\n",
       "       [0.28947368, 0.4610245 ],\n",
       "       [0.23684211, 0.82628062],\n",
       "       [0.34210526, 0.91870824],\n",
       "       [0.76315789, 0.58463252],\n",
       "       [0.81578947, 0.59465479],\n",
       "       [0.84210526, 0.61915367],\n",
       "       [0.23684211, 0.37973274],\n",
       "       [0.28947368, 0.4298441 ],\n",
       "       [0.34210526, 0.4142539 ],\n",
       "       [0.15789474, 0.4922049 ],\n",
       "       [0.21052632, 0.50111359],\n",
       "       [0.23684211, 0.48997773],\n",
       "       [0.57894737, 0.18374165],\n",
       "       [0.63157895, 0.18596882],\n",
       "       [0.47368421, 0.30846325],\n",
       "       [0.52631579, 0.30623608],\n",
       "       [0.07894737, 0.48775056],\n",
       "       [0.13157895, 0.48552339],\n",
       "       [0.94736842, 0.39977728],\n",
       "       [1.        , 0.44209354],\n",
       "       [0.47368421, 0.41314031],\n",
       "       [0.52631579, 0.43207127],\n",
       "       [0.26315789, 0.36302895],\n",
       "       [0.31578947, 0.36302895],\n",
       "       [0.34210526, 0.4922049 ],\n",
       "       [0.39473684, 0.4766147 ],\n",
       "       [0.42105263, 0.49443207],\n",
       "       [0.39473684, 0.45100223],\n",
       "       [0.47368421, 0.4454343 ],\n",
       "       [0.60526316, 0.30846325],\n",
       "       [0.63157895, 0.31625835],\n",
       "       [0.02631579, 0.4532294 ],\n",
       "       [0.07894737, 0.38195991],\n",
       "       [0.28947368, 0.73830735],\n",
       "       [0.31578947, 0.75612472],\n",
       "       [0.36842105, 0.78841871],\n",
       "       [0.76315789, 0.05345212],\n",
       "       [0.81578947, 0.06570156],\n",
       "       [0.36842105, 0.5623608 ],\n",
       "       [0.44736842, 0.58129176],\n",
       "       [0.15789474, 0.37861915],\n",
       "       [0.18421053, 0.34075724],\n",
       "       [0.44736842, 0.5311804 ],\n",
       "       [0.52631579, 0.53452116],\n",
       "       [0.57894737, 0.5389755 ],\n",
       "       [0.28947368, 0.29510022],\n",
       "       [0.36842105, 0.32739421],\n",
       "       [0.42105263, 0.30400891],\n",
       "       [0.57894737, 0.4376392 ],\n",
       "       [0.63157895, 0.43541203],\n",
       "       [0.68421053, 0.43652561],\n",
       "       [0.23684211, 0.33184855],\n",
       "       [0.36842105, 0.35300668],\n",
       "       [0.39473684, 0.34855234],\n",
       "       [0.26315789, 0.51447661],\n",
       "       [0.28947368, 0.5077951 ],\n",
       "       [0.68421053, 0.75389755],\n",
       "       [0.71052632, 0.73051225],\n",
       "       [0.26315789, 0.37750557],\n",
       "       [0.31578947, 0.42650334],\n",
       "       [0.44736842, 0.5545657 ],\n",
       "       [0.5       , 0.5155902 ],\n",
       "       [0.55263158, 0.71714922],\n",
       "       [0.60526316, 0.71046771],\n",
       "       [0.05263158, 0.46659243],\n",
       "       [0.13157895, 0.4610245 ],\n",
       "       [0.42105263, 0.23273942],\n",
       "       [0.47368421, 0.25946548],\n",
       "       [0.34210526, 0.47884187],\n",
       "       [0.39473684, 0.4610245 ],\n",
       "       [0.34210526, 0.35523385],\n",
       "       [0.39473684, 0.33518931],\n",
       "       [0.34210526, 0.81959911],\n",
       "       [0.36842105, 0.77951002],\n",
       "       [0.42105263, 0.79844098],\n",
       "       [0.47368421, 0.80178174],\n",
       "       [0.18421053, 0.44766147],\n",
       "       [0.28947368, 0.47104677],\n",
       "       [0.55263158, 0.42316258],\n",
       "       [0.60526316, 0.41870824],\n",
       "       [0.65789474, 0.42538976],\n",
       "       [0.42105263, 0.33741648],\n",
       "       [0.47368421, 0.3285078 ],\n",
       "       [0.34210526, 0.41091314],\n",
       "       [0.36842105, 0.45768374],\n",
       "       [0.68421053, 0.20824053],\n",
       "       [0.73684211, 0.21046771],\n",
       "       [0.26315789, 0.39755011],\n",
       "       [0.28947368, 0.41536748],\n",
       "       [0.36842105, 0.26503341],\n",
       "       [0.39473684, 0.25835189],\n",
       "       [0.44736842, 0.26503341],\n",
       "       [0.5       , 0.59910913],\n",
       "       [0.55263158, 0.61024499],\n",
       "       [0.55263158, 0.60244989],\n",
       "       [0.63157895, 0.62583519],\n",
       "       [0.68421053, 0.62806236],\n",
       "       [0.42105263, 0.26726058],\n",
       "       [0.5       , 0.27616927],\n",
       "       [0.47368421, 0.37193764],\n",
       "       [0.52631579, 0.3674833 ],\n",
       "       [0.57894737, 0.37416481],\n",
       "       [0.13157895, 0.26057906],\n",
       "       [0.18421053, 0.25055679],\n",
       "       [0.47368421, 0.41091314],\n",
       "       [0.55263158, 0.43318486],\n",
       "       [0.26315789, 0.21046771],\n",
       "       [0.28947368, 0.19821826],\n",
       "       [0.36842105, 0.59020045],\n",
       "       [0.47368421, 0.60022272],\n",
       "       [0.36842105, 0.61581292],\n",
       "       [0.39473684, 0.60690423],\n",
       "       [0.34210526, 0.01893096],\n",
       "       [0.39473684, 0.        ],\n",
       "       [0.18421053, 0.25723831],\n",
       "       [0.21052632, 0.26503341],\n",
       "       [0.42105263, 0.31737194],\n",
       "       [0.47368421, 0.31959911],\n",
       "       [0.55263158, 0.32293987],\n",
       "       [0.13157895, 0.19042316],\n",
       "       [0.21052632, 0.20489978],\n",
       "       [0.23684211, 0.30512249],\n",
       "       [0.28947368, 0.31625835],\n",
       "       [0.76315789, 0.67817372],\n",
       "       [0.81578947, 0.67706013],\n",
       "       [0.86842105, 0.71046771],\n",
       "       [0.44736842, 0.66592428],\n",
       "       [0.5       , 0.68596882],\n",
       "       [0.21052632, 0.21380846],\n",
       "       [0.34210526, 0.20155902],\n",
       "       [0.52631579, 0.69710468],\n",
       "       [0.57894737, 0.69376392],\n",
       "       [0.44736842, 0.27282851],\n",
       "       [0.47368421, 0.25389755],\n",
       "       [0.52631579, 0.25723831],\n",
       "       [0.57894737, 0.26280624],\n",
       "       [0.55263158, 0.26614699],\n",
       "       [0.60526316, 0.25501114],\n",
       "       [0.34210526, 0.26391982],\n",
       "       [0.39473684, 0.27951002],\n",
       "       [0.15789474, 0.09465479],\n",
       "       [0.21052632, 0.09799555],\n",
       "       [0.23684211, 0.10690423],\n",
       "       [0.39473684, 0.3674833 ],\n",
       "       [0.44736842, 0.50445434],\n",
       "       [0.47368421, 0.15256125],\n",
       "       [0.55263158, 0.16703786],\n",
       "       [0.34210526, 0.18708241],\n",
       "       [0.39473684, 0.41536748],\n",
       "       [0.34210526, 0.18485523],\n",
       "       [0.42105263, 0.19487751],\n",
       "       [0.34210526, 0.14699332],\n",
       "       [0.42105263, 0.14476615],\n",
       "       [0.44736842, 0.79287305],\n",
       "       [0.5       , 0.79175947],\n",
       "       [0.52631579, 0.80623608],\n",
       "       [0.57894737, 0.45434298],\n",
       "       [0.63157895, 0.49443207],\n",
       "       [0.44736842, 0.67594655],\n",
       "       [0.5       , 0.67260579],\n",
       "       [0.47368421, 0.42873051],\n",
       "       [0.52631579, 0.72271715],\n",
       "       [0.28947368, 0.35634744],\n",
       "       [0.34210526, 0.34298441],\n",
       "       [0.42105263, 0.80846325],\n",
       "       [0.44736842, 0.79510022],\n",
       "       [0.55263158, 0.81291759],\n",
       "       [0.39473684, 0.87416481],\n",
       "       [0.5       , 0.8830735 ],\n",
       "       [0.        , 0.30400891],\n",
       "       [0.05263158, 0.30289532],\n",
       "       [0.10526316, 0.29398664],\n",
       "       [0.26315789, 0.76837416],\n",
       "       [0.31578947, 0.76837416],\n",
       "       [0.34210526, 0.77616927],\n",
       "       [0.63157895, 0.33184855],\n",
       "       [0.71052632, 0.32516704],\n",
       "       [0.76315789, 0.3363029 ],\n",
       "       [0.21052632, 0.37639198],\n",
       "       [0.26315789, 0.44988864],\n",
       "       [0.76315789, 0.44877506],\n",
       "       [0.78947368, 0.43318486],\n",
       "       [0.86842105, 0.42538976],\n",
       "       [0.5       , 0.4922049 ],\n",
       "       [0.55263158, 0.50111359],\n",
       "       [0.15789474, 0.43318486],\n",
       "       [0.15789474, 0.4454343 ],\n",
       "       [0.21052632, 0.4454343 ],\n",
       "       [0.31578947, 0.44988864],\n",
       "       [0.31578947, 0.27616927],\n",
       "       [0.34210526, 0.27282851],\n",
       "       [0.52631579, 0.66592428],\n",
       "       [0.57894737, 0.65367483],\n",
       "       [0.68421053, 0.6481069 ],\n",
       "       [0.02631579, 0.23719376],\n",
       "       [0.07894737, 0.24610245],\n",
       "       [0.13157895, 0.25278396]])"
      ]
     },
     "execution_count": 68,
     "metadata": {},
     "output_type": "execute_result"
    }
   ],
   "source": [
    "data = dfad3[[\"Age\", \"eTIV\"]]\n",
    "clase = dfad3[\"Group\"]\n",
    "\n",
    "escalador = preprocessing.MinMaxScaler()\n",
    "# los numeros mas pequeños lo shace ceros y los mas grandes uno \n",
    "# para que quede un rango de cero a uno\n",
    "data = escalador.fit_transform(data)\n",
    "data"
   ]
  },
  {
   "cell_type": "markdown",
   "id": "f1b6ce41",
   "metadata": {},
   "source": [
    "Creación del Modelo KNN\n",
    "Valor de K"
   ]
  },
  {
   "cell_type": "code",
   "execution_count": 69,
   "id": "396de14a",
   "metadata": {},
   "outputs": [
    {
     "name": "stdout",
     "output_type": "stream",
     "text": [
      "18.81488772222678\n"
     ]
    }
   ],
   "source": [
    "n_neighbors = 354**(1/2)\n",
    "print (n_neighbors)"
   ]
  },
  {
   "cell_type": "code",
   "execution_count": 62,
   "id": "cdda121c",
   "metadata": {},
   "outputs": [
    {
     "data": {
      "text/html": [
       "<style>#sk-container-id-2 {color: black;background-color: white;}#sk-container-id-2 pre{padding: 0;}#sk-container-id-2 div.sk-toggleable {background-color: white;}#sk-container-id-2 label.sk-toggleable__label {cursor: pointer;display: block;width: 100%;margin-bottom: 0;padding: 0.3em;box-sizing: border-box;text-align: center;}#sk-container-id-2 label.sk-toggleable__label-arrow:before {content: \"▸\";float: left;margin-right: 0.25em;color: #696969;}#sk-container-id-2 label.sk-toggleable__label-arrow:hover:before {color: black;}#sk-container-id-2 div.sk-estimator:hover label.sk-toggleable__label-arrow:before {color: black;}#sk-container-id-2 div.sk-toggleable__content {max-height: 0;max-width: 0;overflow: hidden;text-align: left;background-color: #f0f8ff;}#sk-container-id-2 div.sk-toggleable__content pre {margin: 0.2em;color: black;border-radius: 0.25em;background-color: #f0f8ff;}#sk-container-id-2 input.sk-toggleable__control:checked~div.sk-toggleable__content {max-height: 200px;max-width: 100%;overflow: auto;}#sk-container-id-2 input.sk-toggleable__control:checked~label.sk-toggleable__label-arrow:before {content: \"▾\";}#sk-container-id-2 div.sk-estimator input.sk-toggleable__control:checked~label.sk-toggleable__label {background-color: #d4ebff;}#sk-container-id-2 div.sk-label input.sk-toggleable__control:checked~label.sk-toggleable__label {background-color: #d4ebff;}#sk-container-id-2 input.sk-hidden--visually {border: 0;clip: rect(1px 1px 1px 1px);clip: rect(1px, 1px, 1px, 1px);height: 1px;margin: -1px;overflow: hidden;padding: 0;position: absolute;width: 1px;}#sk-container-id-2 div.sk-estimator {font-family: monospace;background-color: #f0f8ff;border: 1px dotted black;border-radius: 0.25em;box-sizing: border-box;margin-bottom: 0.5em;}#sk-container-id-2 div.sk-estimator:hover {background-color: #d4ebff;}#sk-container-id-2 div.sk-parallel-item::after {content: \"\";width: 100%;border-bottom: 1px solid gray;flex-grow: 1;}#sk-container-id-2 div.sk-label:hover label.sk-toggleable__label {background-color: #d4ebff;}#sk-container-id-2 div.sk-serial::before {content: \"\";position: absolute;border-left: 1px solid gray;box-sizing: border-box;top: 0;bottom: 0;left: 50%;z-index: 0;}#sk-container-id-2 div.sk-serial {display: flex;flex-direction: column;align-items: center;background-color: white;padding-right: 0.2em;padding-left: 0.2em;position: relative;}#sk-container-id-2 div.sk-item {position: relative;z-index: 1;}#sk-container-id-2 div.sk-parallel {display: flex;align-items: stretch;justify-content: center;background-color: white;position: relative;}#sk-container-id-2 div.sk-item::before, #sk-container-id-2 div.sk-parallel-item::before {content: \"\";position: absolute;border-left: 1px solid gray;box-sizing: border-box;top: 0;bottom: 0;left: 50%;z-index: -1;}#sk-container-id-2 div.sk-parallel-item {display: flex;flex-direction: column;z-index: 1;position: relative;background-color: white;}#sk-container-id-2 div.sk-parallel-item:first-child::after {align-self: flex-end;width: 50%;}#sk-container-id-2 div.sk-parallel-item:last-child::after {align-self: flex-start;width: 50%;}#sk-container-id-2 div.sk-parallel-item:only-child::after {width: 0;}#sk-container-id-2 div.sk-dashed-wrapped {border: 1px dashed gray;margin: 0 0.4em 0.5em 0.4em;box-sizing: border-box;padding-bottom: 0.4em;background-color: white;}#sk-container-id-2 div.sk-label label {font-family: monospace;font-weight: bold;display: inline-block;line-height: 1.2em;}#sk-container-id-2 div.sk-label-container {text-align: center;}#sk-container-id-2 div.sk-container {/* jupyter's `normalize.less` sets `[hidden] { display: none; }` but bootstrap.min.css set `[hidden] { display: none !important; }` so we also need the `!important` here to be able to override the default hidden behavior on the sphinx rendered scikit-learn.org. See: https://github.com/scikit-learn/scikit-learn/issues/21755 */display: inline-block !important;position: relative;}#sk-container-id-2 div.sk-text-repr-fallback {display: none;}</style><div id=\"sk-container-id-2\" class=\"sk-top-container\"><div class=\"sk-text-repr-fallback\"><pre>KNeighborsClassifier(n_neighbors=18)</pre><b>In a Jupyter environment, please rerun this cell to show the HTML representation or trust the notebook. <br />On GitHub, the HTML representation is unable to render, please try loading this page with nbviewer.org.</b></div><div class=\"sk-container\" hidden><div class=\"sk-item\"><div class=\"sk-estimator sk-toggleable\"><input class=\"sk-toggleable__control sk-hidden--visually\" id=\"sk-estimator-id-2\" type=\"checkbox\" checked><label for=\"sk-estimator-id-2\" class=\"sk-toggleable__label sk-toggleable__label-arrow\">KNeighborsClassifier</label><div class=\"sk-toggleable__content\"><pre>KNeighborsClassifier(n_neighbors=18)</pre></div></div></div></div></div>"
      ],
      "text/plain": [
       "KNeighborsClassifier(n_neighbors=18)"
      ]
     },
     "execution_count": 62,
     "metadata": {},
     "output_type": "execute_result"
    }
   ],
   "source": [
    "clasificador = KNeighborsClassifier(n_neighbors=18)\n",
    "# numero de vecinos esta definido a priori \n",
    "# un metodo utilizado es usar la raiz cuadrada del numero de instancias \n",
    "# con las que se esta creando el modelo, es decir, el numero de N\n",
    "clasificador.fit(data, clase)"
   ]
  },
  {
   "cell_type": "code",
   "execution_count": 70,
   "id": "a72ae57e",
   "metadata": {},
   "outputs": [
    {
     "name": "stdout",
     "output_type": "stream",
     "text": [
      "Clase: [0]\n",
      "Probabilidades por clase [[0.61111111 0.38888889 0.        ]]\n"
     ]
    },
    {
     "name": "stderr",
     "output_type": "stream",
     "text": [
      "C:\\Users\\MiCachi\\AppData\\Local\\Programs\\Python\\Python310\\lib\\site-packages\\sklearn\\base.py:450: UserWarning:\n",
      "\n",
      "X does not have valid feature names, but MinMaxScaler was fitted with feature names\n",
      "\n"
     ]
    },
    {
     "data": {
      "image/png": "[encoded data removed]",
      "text/plain": [
       "<Figure size 432x288 with 1 Axes>"
      ]
     },
     "metadata": {
      "needs_background": "light"
     },
     "output_type": "display_data"
    }
   ],
   "source": [
    "Age = 87\n",
    "eTIV = 0.883\n",
    "\n",
    "#Escalar los datos del nuevo solicitante\n",
    "paciente = escalador.transform([[Age, eTIV]])\n",
    "\n",
    "#Calcular clase y probabilidades\n",
    "print(\"Clase:\", clasificador.predict(paciente))\n",
    "print(\"Probabilidades por clase\",\n",
    "      clasificador.predict_proba(paciente))\n",
    "\n",
    "#Código para graficar\n",
    "plt.scatter(mal[\"Age\"], mal[\"eTIV\"],\n",
    "            marker=\"*\", s=150, color=\"skyblue\", label=\"Demencia (Clase: 1)\")\n",
    "\n",
    "plt.scatter(bien[\"Age\"], bien[\"eTIV\"],\n",
    "            marker=\"*\", s=150, color=\"red\", label=\"No demente (Clase: 0)\")\n",
    "\n",
    "plt.scatter(incierto[\"Age\"], incierto[\"eTIV\"],\n",
    "            marker=\"*\", s=150, color=\"red\",  label=\"Convertido (Clase: 2)\")\n",
    "\n",
    "plt.scatter(Age, eTIV, marker=\"P\", s=250, color=\"green\", label=\"Paciente\") \n",
    "plt.ylabel(\"Volumen intracraneal total estimado\")\n",
    "plt.xlabel(\"Age\")\n",
    "plt.legend(bbox_to_anchor=(1, 0.3))\n",
    "plt.show()"
   ]
  },
  {
   "cell_type": "code",
   "execution_count": null,
   "id": "a532f7cd",
   "metadata": {},
   "outputs": [],
   "source": []
  }
 ],
 "metadata": {
  "kernelspec": {
   "display_name": "Python 3 (ipykernel)",
   "language": "python",
   "name": "python3"
  },
  "language_info": {
   "codemirror_mode": {
    "name": "ipython",
    "version": 3
   },
   "file_extension": ".py",
   "mimetype": "text/x-python",
   "name": "python",
   "nbconvert_exporter": "python",
   "pygments_lexer": "ipython3",
   "version": "3.10.5"
  }
 },
 "nbformat": 4,
 "nbformat_minor": 5
}
